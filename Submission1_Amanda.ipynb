{
  "cells": [
    {
      "cell_type": "markdown",
      "metadata": {
        "id": "H9wADwK78DCz"
      },
      "source": [
        "# Proyek Analisis Data: [Bike Sharing Dataset]\n",
        "- **Nama:** [Amanda Riyas Utami]\n",
        "- **Email:** [amandariyas12@gmail.com]\n",
        "- **ID Dicoding:** [MC223D5X0901]"
      ]
    },
    {
      "cell_type": "markdown",
      "metadata": {
        "id": "eE0raob58DC0"
      },
      "source": [
        "## Menentukan Pertanyaan Bisnis"
      ]
    },
    {
      "cell_type": "markdown",
      "metadata": {
        "id": "GmQeQ5YF8DC0"
      },
      "source": [
        "- Bagaimana pola penyewaan sepeda berdasarkan kondisi cuaca, weekday, workingday, holiday, dan season?\n",
        "- Bagaimana pengaruh dari atempt, hum, windspeed terhadap banyaknya penyewa sepeda?"
      ]
    },
    {
      "cell_type": "markdown",
      "metadata": {
        "id": "H-z4QGlO8DC1"
      },
      "source": [
        "## Import Semua Packages/Library yang Digunakan"
      ]
    },
    {
      "cell_type": "code",
      "execution_count": 1,
      "metadata": {
        "id": "FVYwaObI8DC1"
      },
      "outputs": [],
      "source": [
        "import numpy as np\n",
        "import pandas as pd\n",
        "import matplotlib.pyplot as plt\n",
        "import seaborn as sns"
      ]
    },
    {
      "cell_type": "markdown",
      "metadata": {
        "id": "h_Sh51Xy8DC1"
      },
      "source": [
        "## Data Wrangling"
      ]
    },
    {
      "cell_type": "markdown",
      "metadata": {
        "id": "sXU2GBYu8DC1"
      },
      "source": [
        "### Gathering Data"
      ]
    },
    {
      "cell_type": "code",
      "execution_count": 2,
      "metadata": {
        "colab": {
          "base_uri": "https://localhost:8080/",
          "height": 313
        },
        "id": "zjCBk1BI8DC1",
        "outputId": "35496b7d-733a-40af-e9b9-909186903664"
      },
      "outputs": [
        {
          "data": {
            "text/html": [
              "<div>\n",
              "<style scoped>\n",
              "    .dataframe tbody tr th:only-of-type {\n",
              "        vertical-align: middle;\n",
              "    }\n",
              "\n",
              "    .dataframe tbody tr th {\n",
              "        vertical-align: top;\n",
              "    }\n",
              "\n",
              "    .dataframe thead th {\n",
              "        text-align: right;\n",
              "    }\n",
              "</style>\n",
              "<table border=\"1\" class=\"dataframe\">\n",
              "  <thead>\n",
              "    <tr style=\"text-align: right;\">\n",
              "      <th></th>\n",
              "      <th>instant</th>\n",
              "      <th>dteday</th>\n",
              "      <th>season</th>\n",
              "      <th>yr</th>\n",
              "      <th>mnth</th>\n",
              "      <th>holiday</th>\n",
              "      <th>weekday</th>\n",
              "      <th>workingday</th>\n",
              "      <th>weathersit</th>\n",
              "      <th>temp</th>\n",
              "      <th>atemp</th>\n",
              "      <th>hum</th>\n",
              "      <th>windspeed</th>\n",
              "      <th>casual</th>\n",
              "      <th>registered</th>\n",
              "      <th>cnt</th>\n",
              "    </tr>\n",
              "  </thead>\n",
              "  <tbody>\n",
              "    <tr>\n",
              "      <th>0</th>\n",
              "      <td>1</td>\n",
              "      <td>2011-01-01</td>\n",
              "      <td>1</td>\n",
              "      <td>0</td>\n",
              "      <td>1</td>\n",
              "      <td>0</td>\n",
              "      <td>6</td>\n",
              "      <td>0</td>\n",
              "      <td>2</td>\n",
              "      <td>0.344167</td>\n",
              "      <td>0.363625</td>\n",
              "      <td>0.805833</td>\n",
              "      <td>0.160446</td>\n",
              "      <td>331</td>\n",
              "      <td>654</td>\n",
              "      <td>985</td>\n",
              "    </tr>\n",
              "    <tr>\n",
              "      <th>1</th>\n",
              "      <td>2</td>\n",
              "      <td>2011-01-02</td>\n",
              "      <td>1</td>\n",
              "      <td>0</td>\n",
              "      <td>1</td>\n",
              "      <td>0</td>\n",
              "      <td>0</td>\n",
              "      <td>0</td>\n",
              "      <td>2</td>\n",
              "      <td>0.363478</td>\n",
              "      <td>0.353739</td>\n",
              "      <td>0.696087</td>\n",
              "      <td>0.248539</td>\n",
              "      <td>131</td>\n",
              "      <td>670</td>\n",
              "      <td>801</td>\n",
              "    </tr>\n",
              "    <tr>\n",
              "      <th>2</th>\n",
              "      <td>3</td>\n",
              "      <td>2011-01-03</td>\n",
              "      <td>1</td>\n",
              "      <td>0</td>\n",
              "      <td>1</td>\n",
              "      <td>0</td>\n",
              "      <td>1</td>\n",
              "      <td>1</td>\n",
              "      <td>1</td>\n",
              "      <td>0.196364</td>\n",
              "      <td>0.189405</td>\n",
              "      <td>0.437273</td>\n",
              "      <td>0.248309</td>\n",
              "      <td>120</td>\n",
              "      <td>1229</td>\n",
              "      <td>1349</td>\n",
              "    </tr>\n",
              "    <tr>\n",
              "      <th>3</th>\n",
              "      <td>4</td>\n",
              "      <td>2011-01-04</td>\n",
              "      <td>1</td>\n",
              "      <td>0</td>\n",
              "      <td>1</td>\n",
              "      <td>0</td>\n",
              "      <td>2</td>\n",
              "      <td>1</td>\n",
              "      <td>1</td>\n",
              "      <td>0.200000</td>\n",
              "      <td>0.212122</td>\n",
              "      <td>0.590435</td>\n",
              "      <td>0.160296</td>\n",
              "      <td>108</td>\n",
              "      <td>1454</td>\n",
              "      <td>1562</td>\n",
              "    </tr>\n",
              "    <tr>\n",
              "      <th>4</th>\n",
              "      <td>5</td>\n",
              "      <td>2011-01-05</td>\n",
              "      <td>1</td>\n",
              "      <td>0</td>\n",
              "      <td>1</td>\n",
              "      <td>0</td>\n",
              "      <td>3</td>\n",
              "      <td>1</td>\n",
              "      <td>1</td>\n",
              "      <td>0.226957</td>\n",
              "      <td>0.229270</td>\n",
              "      <td>0.436957</td>\n",
              "      <td>0.186900</td>\n",
              "      <td>82</td>\n",
              "      <td>1518</td>\n",
              "      <td>1600</td>\n",
              "    </tr>\n",
              "  </tbody>\n",
              "</table>\n",
              "</div>"
            ],
            "text/plain": [
              "   instant      dteday  season  yr  mnth  holiday  weekday  workingday  \\\n",
              "0        1  2011-01-01       1   0     1        0        6           0   \n",
              "1        2  2011-01-02       1   0     1        0        0           0   \n",
              "2        3  2011-01-03       1   0     1        0        1           1   \n",
              "3        4  2011-01-04       1   0     1        0        2           1   \n",
              "4        5  2011-01-05       1   0     1        0        3           1   \n",
              "\n",
              "   weathersit      temp     atemp       hum  windspeed  casual  registered  \\\n",
              "0           2  0.344167  0.363625  0.805833   0.160446     331         654   \n",
              "1           2  0.363478  0.353739  0.696087   0.248539     131         670   \n",
              "2           1  0.196364  0.189405  0.437273   0.248309     120        1229   \n",
              "3           1  0.200000  0.212122  0.590435   0.160296     108        1454   \n",
              "4           1  0.226957  0.229270  0.436957   0.186900      82        1518   \n",
              "\n",
              "    cnt  \n",
              "0   985  \n",
              "1   801  \n",
              "2  1349  \n",
              "3  1562  \n",
              "4  1600  "
            ]
          },
          "execution_count": 2,
          "metadata": {},
          "output_type": "execute_result"
        }
      ],
      "source": [
        "MNDday_df = pd.read_csv(\"https://raw.githubusercontent.com/AmandaRiyas/Bike-Sharing-Dataset/refs/heads/main/data/day.csv\", sep=\",\")\n",
        "MNDday_df.head()"
      ]
    },
    {
      "cell_type": "markdown",
      "metadata": {
        "id": "MMi6xGaDkbCi"
      },
      "source": [
        "**Insight:**\n",
        "- MNDday_df merupakan dataset penyewaan sepeda setiap harinya. Data ini memiliki 16 kolom yang terdiri dari instant, dteday, season, yr, mnth, holiday, weekday, workingday, weathersit, tempt, attemp, hum, windspeed, casual, registered, dan cnt.\n",
        "- Pada bagian kolom season kategori dari setiap data yaitu (1:Spring , 2:Summer, 3:Fall, 4:winter)\n",
        "- Pada bagian kolom holiday kaetegori dari setiap data yaitu (0: Tidak, 1: Ya)\n",
        "- Pada bagian kolom weekday kategori dari setiap data yaitu (0:Minggu 1:Senin, 2: Selasa, 3:Rabu, 4:Kamis, 5:Jumat, 6: Sabtu)\n",
        "- Pada bagian kolom workingday kategori dari setiap data yaitu (0:Tidak, 2: Ya)\n",
        "- Pada bagian kolom weathersit kategori dari setiap data yaitu (1:Cerah, 2:Berawan, 3: Hujan/Salju Ringan)"
      ]
    },
    {
      "cell_type": "markdown",
      "metadata": {
        "id": "FHSiqaZp8DC1"
      },
      "source": [
        "### Assessing Data"
      ]
    },
    {
      "cell_type": "markdown",
      "metadata": {
        "id": "UZtjtyIt-ixq"
      },
      "source": [
        "#### Menilai tabel `MNDday_df`"
      ]
    },
    {
      "cell_type": "code",
      "execution_count": 3,
      "metadata": {
        "colab": {
          "base_uri": "https://localhost:8080/"
        },
        "id": "ax-3tEjc9Cj1",
        "outputId": "29068415-657a-4e9d-8e67-a4184cc18b4a"
      },
      "outputs": [
        {
          "name": "stdout",
          "output_type": "stream",
          "text": [
            "<class 'pandas.core.frame.DataFrame'>\n",
            "RangeIndex: 731 entries, 0 to 730\n",
            "Data columns (total 16 columns):\n",
            " #   Column      Non-Null Count  Dtype  \n",
            "---  ------      --------------  -----  \n",
            " 0   instant     731 non-null    int64  \n",
            " 1   dteday      731 non-null    object \n",
            " 2   season      731 non-null    int64  \n",
            " 3   yr          731 non-null    int64  \n",
            " 4   mnth        731 non-null    int64  \n",
            " 5   holiday     731 non-null    int64  \n",
            " 6   weekday     731 non-null    int64  \n",
            " 7   workingday  731 non-null    int64  \n",
            " 8   weathersit  731 non-null    int64  \n",
            " 9   temp        731 non-null    float64\n",
            " 10  atemp       731 non-null    float64\n",
            " 11  hum         731 non-null    float64\n",
            " 12  windspeed   731 non-null    float64\n",
            " 13  casual      731 non-null    int64  \n",
            " 14  registered  731 non-null    int64  \n",
            " 15  cnt         731 non-null    int64  \n",
            "dtypes: float64(4), int64(11), object(1)\n",
            "memory usage: 91.5+ KB\n"
          ]
        }
      ],
      "source": [
        "MNDday_df.info()"
      ]
    },
    {
      "cell_type": "code",
      "execution_count": 4,
      "metadata": {
        "colab": {
          "base_uri": "https://localhost:8080/",
          "height": 585
        },
        "id": "L8OztJv-lshJ",
        "outputId": "8ed92eb9-7ac7-413c-99ce-ea29a9d808b7"
      },
      "outputs": [
        {
          "data": {
            "text/plain": [
              "instant       0\n",
              "dteday        0\n",
              "season        0\n",
              "yr            0\n",
              "mnth          0\n",
              "holiday       0\n",
              "weekday       0\n",
              "workingday    0\n",
              "weathersit    0\n",
              "temp          0\n",
              "atemp         0\n",
              "hum           0\n",
              "windspeed     0\n",
              "casual        0\n",
              "registered    0\n",
              "cnt           0\n",
              "dtype: int64"
            ]
          },
          "execution_count": 4,
          "metadata": {},
          "output_type": "execute_result"
        }
      ],
      "source": [
        "MNDday_df.isna().sum()"
      ]
    },
    {
      "cell_type": "code",
      "execution_count": 5,
      "metadata": {
        "colab": {
          "base_uri": "https://localhost:8080/"
        },
        "id": "y0c4LFyAnFvJ",
        "outputId": "c3136921-4cd8-4c0b-a0a4-e3f9f6b36b7f"
      },
      "outputs": [
        {
          "name": "stdout",
          "output_type": "stream",
          "text": [
            "Jumlah duplikasi:  0\n"
          ]
        }
      ],
      "source": [
        "print(\"Jumlah duplikasi: \", MNDday_df.duplicated().sum())"
      ]
    },
    {
      "cell_type": "code",
      "execution_count": 6,
      "metadata": {
        "colab": {
          "base_uri": "https://localhost:8080/",
          "height": 320
        },
        "id": "RYRdL8vMCFPM",
        "outputId": "11f894cb-8852-4404-cf1f-4576c89c2f7c"
      },
      "outputs": [
        {
          "data": {
            "text/html": [
              "<div>\n",
              "<style scoped>\n",
              "    .dataframe tbody tr th:only-of-type {\n",
              "        vertical-align: middle;\n",
              "    }\n",
              "\n",
              "    .dataframe tbody tr th {\n",
              "        vertical-align: top;\n",
              "    }\n",
              "\n",
              "    .dataframe thead th {\n",
              "        text-align: right;\n",
              "    }\n",
              "</style>\n",
              "<table border=\"1\" class=\"dataframe\">\n",
              "  <thead>\n",
              "    <tr style=\"text-align: right;\">\n",
              "      <th></th>\n",
              "      <th>instant</th>\n",
              "      <th>season</th>\n",
              "      <th>yr</th>\n",
              "      <th>mnth</th>\n",
              "      <th>holiday</th>\n",
              "      <th>weekday</th>\n",
              "      <th>workingday</th>\n",
              "      <th>weathersit</th>\n",
              "      <th>temp</th>\n",
              "      <th>atemp</th>\n",
              "      <th>hum</th>\n",
              "      <th>windspeed</th>\n",
              "      <th>casual</th>\n",
              "      <th>registered</th>\n",
              "      <th>cnt</th>\n",
              "    </tr>\n",
              "  </thead>\n",
              "  <tbody>\n",
              "    <tr>\n",
              "      <th>count</th>\n",
              "      <td>731.000000</td>\n",
              "      <td>731.000000</td>\n",
              "      <td>731.000000</td>\n",
              "      <td>731.000000</td>\n",
              "      <td>731.000000</td>\n",
              "      <td>731.000000</td>\n",
              "      <td>731.000000</td>\n",
              "      <td>731.000000</td>\n",
              "      <td>731.000000</td>\n",
              "      <td>731.000000</td>\n",
              "      <td>731.000000</td>\n",
              "      <td>731.000000</td>\n",
              "      <td>731.000000</td>\n",
              "      <td>731.000000</td>\n",
              "      <td>731.000000</td>\n",
              "    </tr>\n",
              "    <tr>\n",
              "      <th>mean</th>\n",
              "      <td>366.000000</td>\n",
              "      <td>2.496580</td>\n",
              "      <td>0.500684</td>\n",
              "      <td>6.519836</td>\n",
              "      <td>0.028728</td>\n",
              "      <td>2.997264</td>\n",
              "      <td>0.683995</td>\n",
              "      <td>1.395349</td>\n",
              "      <td>0.495385</td>\n",
              "      <td>0.474354</td>\n",
              "      <td>0.627894</td>\n",
              "      <td>0.190486</td>\n",
              "      <td>848.176471</td>\n",
              "      <td>3656.172367</td>\n",
              "      <td>4504.348837</td>\n",
              "    </tr>\n",
              "    <tr>\n",
              "      <th>std</th>\n",
              "      <td>211.165812</td>\n",
              "      <td>1.110807</td>\n",
              "      <td>0.500342</td>\n",
              "      <td>3.451913</td>\n",
              "      <td>0.167155</td>\n",
              "      <td>2.004787</td>\n",
              "      <td>0.465233</td>\n",
              "      <td>0.544894</td>\n",
              "      <td>0.183051</td>\n",
              "      <td>0.162961</td>\n",
              "      <td>0.142429</td>\n",
              "      <td>0.077498</td>\n",
              "      <td>686.622488</td>\n",
              "      <td>1560.256377</td>\n",
              "      <td>1937.211452</td>\n",
              "    </tr>\n",
              "    <tr>\n",
              "      <th>min</th>\n",
              "      <td>1.000000</td>\n",
              "      <td>1.000000</td>\n",
              "      <td>0.000000</td>\n",
              "      <td>1.000000</td>\n",
              "      <td>0.000000</td>\n",
              "      <td>0.000000</td>\n",
              "      <td>0.000000</td>\n",
              "      <td>1.000000</td>\n",
              "      <td>0.059130</td>\n",
              "      <td>0.079070</td>\n",
              "      <td>0.000000</td>\n",
              "      <td>0.022392</td>\n",
              "      <td>2.000000</td>\n",
              "      <td>20.000000</td>\n",
              "      <td>22.000000</td>\n",
              "    </tr>\n",
              "    <tr>\n",
              "      <th>25%</th>\n",
              "      <td>183.500000</td>\n",
              "      <td>2.000000</td>\n",
              "      <td>0.000000</td>\n",
              "      <td>4.000000</td>\n",
              "      <td>0.000000</td>\n",
              "      <td>1.000000</td>\n",
              "      <td>0.000000</td>\n",
              "      <td>1.000000</td>\n",
              "      <td>0.337083</td>\n",
              "      <td>0.337842</td>\n",
              "      <td>0.520000</td>\n",
              "      <td>0.134950</td>\n",
              "      <td>315.500000</td>\n",
              "      <td>2497.000000</td>\n",
              "      <td>3152.000000</td>\n",
              "    </tr>\n",
              "    <tr>\n",
              "      <th>50%</th>\n",
              "      <td>366.000000</td>\n",
              "      <td>3.000000</td>\n",
              "      <td>1.000000</td>\n",
              "      <td>7.000000</td>\n",
              "      <td>0.000000</td>\n",
              "      <td>3.000000</td>\n",
              "      <td>1.000000</td>\n",
              "      <td>1.000000</td>\n",
              "      <td>0.498333</td>\n",
              "      <td>0.486733</td>\n",
              "      <td>0.626667</td>\n",
              "      <td>0.180975</td>\n",
              "      <td>713.000000</td>\n",
              "      <td>3662.000000</td>\n",
              "      <td>4548.000000</td>\n",
              "    </tr>\n",
              "    <tr>\n",
              "      <th>75%</th>\n",
              "      <td>548.500000</td>\n",
              "      <td>3.000000</td>\n",
              "      <td>1.000000</td>\n",
              "      <td>10.000000</td>\n",
              "      <td>0.000000</td>\n",
              "      <td>5.000000</td>\n",
              "      <td>1.000000</td>\n",
              "      <td>2.000000</td>\n",
              "      <td>0.655417</td>\n",
              "      <td>0.608602</td>\n",
              "      <td>0.730209</td>\n",
              "      <td>0.233214</td>\n",
              "      <td>1096.000000</td>\n",
              "      <td>4776.500000</td>\n",
              "      <td>5956.000000</td>\n",
              "    </tr>\n",
              "    <tr>\n",
              "      <th>max</th>\n",
              "      <td>731.000000</td>\n",
              "      <td>4.000000</td>\n",
              "      <td>1.000000</td>\n",
              "      <td>12.000000</td>\n",
              "      <td>1.000000</td>\n",
              "      <td>6.000000</td>\n",
              "      <td>1.000000</td>\n",
              "      <td>3.000000</td>\n",
              "      <td>0.861667</td>\n",
              "      <td>0.840896</td>\n",
              "      <td>0.972500</td>\n",
              "      <td>0.507463</td>\n",
              "      <td>3410.000000</td>\n",
              "      <td>6946.000000</td>\n",
              "      <td>8714.000000</td>\n",
              "    </tr>\n",
              "  </tbody>\n",
              "</table>\n",
              "</div>"
            ],
            "text/plain": [
              "          instant      season          yr        mnth     holiday     weekday  \\\n",
              "count  731.000000  731.000000  731.000000  731.000000  731.000000  731.000000   \n",
              "mean   366.000000    2.496580    0.500684    6.519836    0.028728    2.997264   \n",
              "std    211.165812    1.110807    0.500342    3.451913    0.167155    2.004787   \n",
              "min      1.000000    1.000000    0.000000    1.000000    0.000000    0.000000   \n",
              "25%    183.500000    2.000000    0.000000    4.000000    0.000000    1.000000   \n",
              "50%    366.000000    3.000000    1.000000    7.000000    0.000000    3.000000   \n",
              "75%    548.500000    3.000000    1.000000   10.000000    0.000000    5.000000   \n",
              "max    731.000000    4.000000    1.000000   12.000000    1.000000    6.000000   \n",
              "\n",
              "       workingday  weathersit        temp       atemp         hum   windspeed  \\\n",
              "count  731.000000  731.000000  731.000000  731.000000  731.000000  731.000000   \n",
              "mean     0.683995    1.395349    0.495385    0.474354    0.627894    0.190486   \n",
              "std      0.465233    0.544894    0.183051    0.162961    0.142429    0.077498   \n",
              "min      0.000000    1.000000    0.059130    0.079070    0.000000    0.022392   \n",
              "25%      0.000000    1.000000    0.337083    0.337842    0.520000    0.134950   \n",
              "50%      1.000000    1.000000    0.498333    0.486733    0.626667    0.180975   \n",
              "75%      1.000000    2.000000    0.655417    0.608602    0.730209    0.233214   \n",
              "max      1.000000    3.000000    0.861667    0.840896    0.972500    0.507463   \n",
              "\n",
              "            casual   registered          cnt  \n",
              "count   731.000000   731.000000   731.000000  \n",
              "mean    848.176471  3656.172367  4504.348837  \n",
              "std     686.622488  1560.256377  1937.211452  \n",
              "min       2.000000    20.000000    22.000000  \n",
              "25%     315.500000  2497.000000  3152.000000  \n",
              "50%     713.000000  3662.000000  4548.000000  \n",
              "75%    1096.000000  4776.500000  5956.000000  \n",
              "max    3410.000000  6946.000000  8714.000000  "
            ]
          },
          "execution_count": 6,
          "metadata": {},
          "output_type": "execute_result"
        }
      ],
      "source": [
        "MNDday_df.describe()"
      ]
    },
    {
      "cell_type": "markdown",
      "metadata": {
        "id": "7dtxhAPrkhPL"
      },
      "source": [
        "**Insight:**\n",
        "- Dari data \"MNDday_df\" setelah di cek tidak ada missing value, duplicate data, maupun innacurate value\n",
        "- Data \"MNDday_df\" terdapat kesalahan pada tipe data bagian dteday yang harusnya bertipe datetime dan (season, yr, mnth, holiday, weekday, workingday, dan weathersit) yang harusnya category."
      ]
    },
    {
      "cell_type": "markdown",
      "metadata": {
        "id": "EhN5R4hr8DC1"
      },
      "source": [
        "### Cleaning Data"
      ]
    },
    {
      "cell_type": "markdown",
      "metadata": {
        "id": "42OziWAgaPuF"
      },
      "source": [
        "#### Cleaning tabel `MNDday_df`"
      ]
    },
    {
      "cell_type": "code",
      "execution_count": 7,
      "metadata": {
        "colab": {
          "base_uri": "https://localhost:8080/"
        },
        "id": "Px1Yupi7gA6F",
        "outputId": "c73b91b1-c894-42ed-e5b6-0e04ef8b7afe"
      },
      "outputs": [
        {
          "name": "stdout",
          "output_type": "stream",
          "text": [
            "<class 'pandas.core.frame.DataFrame'>\n",
            "RangeIndex: 731 entries, 0 to 730\n",
            "Data columns (total 16 columns):\n",
            " #   Column      Non-Null Count  Dtype         \n",
            "---  ------      --------------  -----         \n",
            " 0   instant     731 non-null    int64         \n",
            " 1   dteday      731 non-null    datetime64[ns]\n",
            " 2   season      731 non-null    int64         \n",
            " 3   yr          731 non-null    int64         \n",
            " 4   mnth        731 non-null    int64         \n",
            " 5   holiday     731 non-null    int64         \n",
            " 6   weekday     731 non-null    int64         \n",
            " 7   workingday  731 non-null    int64         \n",
            " 8   weathersit  731 non-null    int64         \n",
            " 9   temp        731 non-null    float64       \n",
            " 10  atemp       731 non-null    float64       \n",
            " 11  hum         731 non-null    float64       \n",
            " 12  windspeed   731 non-null    float64       \n",
            " 13  casual      731 non-null    int64         \n",
            " 14  registered  731 non-null    int64         \n",
            " 15  cnt         731 non-null    int64         \n",
            "dtypes: datetime64[ns](1), float64(4), int64(11)\n",
            "memory usage: 91.5 KB\n"
          ]
        }
      ],
      "source": [
        "# Mengganti tipe data dteday dari object menjadi datetimes\n",
        "datetime_columns = [\"dteday\"]\n",
        "\n",
        "for column in datetime_columns:\n",
        "  MNDday_df[column] = pd.to_datetime(MNDday_df[column])\n",
        "MNDday_df.info()"
      ]
    },
    {
      "cell_type": "code",
      "execution_count": 8,
      "metadata": {
        "colab": {
          "base_uri": "https://localhost:8080/"
        },
        "id": "Q5uAh7DpgkIy",
        "outputId": "07cd8588-decf-4f36-c64e-82458dfa497f"
      },
      "outputs": [
        {
          "name": "stdout",
          "output_type": "stream",
          "text": [
            "<class 'pandas.core.frame.DataFrame'>\n",
            "RangeIndex: 731 entries, 0 to 730\n",
            "Data columns (total 16 columns):\n",
            " #   Column      Non-Null Count  Dtype         \n",
            "---  ------      --------------  -----         \n",
            " 0   instant     731 non-null    int64         \n",
            " 1   dteday      731 non-null    datetime64[ns]\n",
            " 2   season      731 non-null    category      \n",
            " 3   yr          731 non-null    category      \n",
            " 4   mnth        731 non-null    category      \n",
            " 5   holiday     731 non-null    category      \n",
            " 6   weekday     731 non-null    category      \n",
            " 7   workingday  731 non-null    category      \n",
            " 8   weathersit  731 non-null    category      \n",
            " 9   temp        731 non-null    float64       \n",
            " 10  atemp       731 non-null    float64       \n",
            " 11  hum         731 non-null    float64       \n",
            " 12  windspeed   731 non-null    float64       \n",
            " 13  casual      731 non-null    int64         \n",
            " 14  registered  731 non-null    int64         \n",
            " 15  cnt         731 non-null    int64         \n",
            "dtypes: category(7), datetime64[ns](1), float64(4), int64(4)\n",
            "memory usage: 58.0 KB\n"
          ]
        }
      ],
      "source": [
        "# Mengganti tipe data season, yr, mnth, holiday, weekday, workingday, dan weathersit dari yang bertipe int menjadi category\n",
        "category_columns = [\"season\",\"yr\",\"mnth\",\"holiday\",\"weekday\",\"workingday\",\"weathersit\"]\n",
        "\n",
        "for column in category_columns:\n",
        "  MNDday_df[column] = MNDday_df[column].astype(\"category\")\n",
        "MNDday_df.info()"
      ]
    },
    {
      "cell_type": "code",
      "execution_count": 9,
      "metadata": {
        "colab": {
          "base_uri": "https://localhost:8080/",
          "height": 313
        },
        "id": "-WFSP7NiPlLK",
        "outputId": "272f79cc-10eb-42b9-dcf3-e9300b7b188e"
      },
      "outputs": [
        {
          "data": {
            "text/html": [
              "<div>\n",
              "<style scoped>\n",
              "    .dataframe tbody tr th:only-of-type {\n",
              "        vertical-align: middle;\n",
              "    }\n",
              "\n",
              "    .dataframe tbody tr th {\n",
              "        vertical-align: top;\n",
              "    }\n",
              "\n",
              "    .dataframe thead th {\n",
              "        text-align: right;\n",
              "    }\n",
              "</style>\n",
              "<table border=\"1\" class=\"dataframe\">\n",
              "  <thead>\n",
              "    <tr style=\"text-align: right;\">\n",
              "      <th></th>\n",
              "      <th>instant</th>\n",
              "      <th>dteday</th>\n",
              "      <th>season</th>\n",
              "      <th>yr</th>\n",
              "      <th>mnth</th>\n",
              "      <th>holiday</th>\n",
              "      <th>weekday</th>\n",
              "      <th>workingday</th>\n",
              "      <th>weathersit</th>\n",
              "      <th>temp</th>\n",
              "      <th>atemp</th>\n",
              "      <th>hum</th>\n",
              "      <th>windspeed</th>\n",
              "      <th>casual</th>\n",
              "      <th>registered</th>\n",
              "      <th>cnt</th>\n",
              "    </tr>\n",
              "  </thead>\n",
              "  <tbody>\n",
              "    <tr>\n",
              "      <th>0</th>\n",
              "      <td>1</td>\n",
              "      <td>2011-01-01</td>\n",
              "      <td>1</td>\n",
              "      <td>0</td>\n",
              "      <td>1</td>\n",
              "      <td>0</td>\n",
              "      <td>6</td>\n",
              "      <td>0</td>\n",
              "      <td>2</td>\n",
              "      <td>0.344167</td>\n",
              "      <td>0.363625</td>\n",
              "      <td>0.805833</td>\n",
              "      <td>0.160446</td>\n",
              "      <td>331</td>\n",
              "      <td>654</td>\n",
              "      <td>985</td>\n",
              "    </tr>\n",
              "    <tr>\n",
              "      <th>1</th>\n",
              "      <td>2</td>\n",
              "      <td>2011-01-02</td>\n",
              "      <td>1</td>\n",
              "      <td>0</td>\n",
              "      <td>1</td>\n",
              "      <td>0</td>\n",
              "      <td>0</td>\n",
              "      <td>0</td>\n",
              "      <td>2</td>\n",
              "      <td>0.363478</td>\n",
              "      <td>0.353739</td>\n",
              "      <td>0.696087</td>\n",
              "      <td>0.248539</td>\n",
              "      <td>131</td>\n",
              "      <td>670</td>\n",
              "      <td>801</td>\n",
              "    </tr>\n",
              "    <tr>\n",
              "      <th>2</th>\n",
              "      <td>3</td>\n",
              "      <td>2011-01-03</td>\n",
              "      <td>1</td>\n",
              "      <td>0</td>\n",
              "      <td>1</td>\n",
              "      <td>0</td>\n",
              "      <td>1</td>\n",
              "      <td>1</td>\n",
              "      <td>1</td>\n",
              "      <td>0.196364</td>\n",
              "      <td>0.189405</td>\n",
              "      <td>0.437273</td>\n",
              "      <td>0.248309</td>\n",
              "      <td>120</td>\n",
              "      <td>1229</td>\n",
              "      <td>1349</td>\n",
              "    </tr>\n",
              "    <tr>\n",
              "      <th>3</th>\n",
              "      <td>4</td>\n",
              "      <td>2011-01-04</td>\n",
              "      <td>1</td>\n",
              "      <td>0</td>\n",
              "      <td>1</td>\n",
              "      <td>0</td>\n",
              "      <td>2</td>\n",
              "      <td>1</td>\n",
              "      <td>1</td>\n",
              "      <td>0.200000</td>\n",
              "      <td>0.212122</td>\n",
              "      <td>0.590435</td>\n",
              "      <td>0.160296</td>\n",
              "      <td>108</td>\n",
              "      <td>1454</td>\n",
              "      <td>1562</td>\n",
              "    </tr>\n",
              "    <tr>\n",
              "      <th>4</th>\n",
              "      <td>5</td>\n",
              "      <td>2011-01-05</td>\n",
              "      <td>1</td>\n",
              "      <td>0</td>\n",
              "      <td>1</td>\n",
              "      <td>0</td>\n",
              "      <td>3</td>\n",
              "      <td>1</td>\n",
              "      <td>1</td>\n",
              "      <td>0.226957</td>\n",
              "      <td>0.229270</td>\n",
              "      <td>0.436957</td>\n",
              "      <td>0.186900</td>\n",
              "      <td>82</td>\n",
              "      <td>1518</td>\n",
              "      <td>1600</td>\n",
              "    </tr>\n",
              "  </tbody>\n",
              "</table>\n",
              "</div>"
            ],
            "text/plain": [
              "   instant     dteday season yr mnth holiday weekday workingday weathersit  \\\n",
              "0        1 2011-01-01      1  0    1       0       6          0          2   \n",
              "1        2 2011-01-02      1  0    1       0       0          0          2   \n",
              "2        3 2011-01-03      1  0    1       0       1          1          1   \n",
              "3        4 2011-01-04      1  0    1       0       2          1          1   \n",
              "4        5 2011-01-05      1  0    1       0       3          1          1   \n",
              "\n",
              "       temp     atemp       hum  windspeed  casual  registered   cnt  \n",
              "0  0.344167  0.363625  0.805833   0.160446     331         654   985  \n",
              "1  0.363478  0.353739  0.696087   0.248539     131         670   801  \n",
              "2  0.196364  0.189405  0.437273   0.248309     120        1229  1349  \n",
              "3  0.200000  0.212122  0.590435   0.160296     108        1454  1562  \n",
              "4  0.226957  0.229270  0.436957   0.186900      82        1518  1600  "
            ]
          },
          "execution_count": 9,
          "metadata": {},
          "output_type": "execute_result"
        }
      ],
      "source": [
        "MNDday_df.head()"
      ]
    },
    {
      "cell_type": "markdown",
      "metadata": {
        "id": "Q_5ejIqckiSP"
      },
      "source": [
        "**Insight:**\n",
        "- Pada data MNDday_df kita telah melakukan penggantian tipe data pada kolom dteday yang awalnya object kemudian dirubah menjadi datetimes\n",
        "- Kita juga telah mengganti tipe data pada kolom season, yr, mnth, holiday, weekday, workingday, dan weathersit yang awalnya int64 dirubah menjadi category"
      ]
    },
    {
      "cell_type": "markdown",
      "metadata": {
        "id": "gp-Y6wU38DC1"
      },
      "source": [
        "## Exploratory Data Analysis (EDA)"
      ]
    },
    {
      "cell_type": "markdown",
      "metadata": {
        "id": "MW7WF2kr8DC1"
      },
      "source": [
        "### Explore `MNDday`"
      ]
    },
    {
      "cell_type": "code",
      "execution_count": 10,
      "metadata": {
        "colab": {
          "base_uri": "https://localhost:8080/",
          "height": 313
        },
        "id": "fCUYnnqMop7k",
        "outputId": "b8167c1c-dd5a-4a48-ac5a-9b7f24d599b6"
      },
      "outputs": [
        {
          "data": {
            "text/html": [
              "<div>\n",
              "<style scoped>\n",
              "    .dataframe tbody tr th:only-of-type {\n",
              "        vertical-align: middle;\n",
              "    }\n",
              "\n",
              "    .dataframe tbody tr th {\n",
              "        vertical-align: top;\n",
              "    }\n",
              "\n",
              "    .dataframe thead th {\n",
              "        text-align: right;\n",
              "    }\n",
              "</style>\n",
              "<table border=\"1\" class=\"dataframe\">\n",
              "  <thead>\n",
              "    <tr style=\"text-align: right;\">\n",
              "      <th></th>\n",
              "      <th>instant</th>\n",
              "      <th>dteday</th>\n",
              "      <th>season</th>\n",
              "      <th>yr</th>\n",
              "      <th>mnth</th>\n",
              "      <th>holiday</th>\n",
              "      <th>weekday</th>\n",
              "      <th>workingday</th>\n",
              "      <th>weathersit</th>\n",
              "      <th>temp</th>\n",
              "      <th>atemp</th>\n",
              "      <th>hum</th>\n",
              "      <th>windspeed</th>\n",
              "      <th>casual</th>\n",
              "      <th>registered</th>\n",
              "      <th>cnt</th>\n",
              "    </tr>\n",
              "  </thead>\n",
              "  <tbody>\n",
              "    <tr>\n",
              "      <th>615</th>\n",
              "      <td>616</td>\n",
              "      <td>2012-09-07</td>\n",
              "      <td>3</td>\n",
              "      <td>1</td>\n",
              "      <td>9</td>\n",
              "      <td>0</td>\n",
              "      <td>5</td>\n",
              "      <td>1</td>\n",
              "      <td>1</td>\n",
              "      <td>0.703333</td>\n",
              "      <td>0.657204</td>\n",
              "      <td>0.736250</td>\n",
              "      <td>0.171646</td>\n",
              "      <td>1045</td>\n",
              "      <td>6459</td>\n",
              "      <td>7504</td>\n",
              "    </tr>\n",
              "    <tr>\n",
              "      <th>649</th>\n",
              "      <td>650</td>\n",
              "      <td>2012-10-11</td>\n",
              "      <td>4</td>\n",
              "      <td>1</td>\n",
              "      <td>10</td>\n",
              "      <td>0</td>\n",
              "      <td>4</td>\n",
              "      <td>1</td>\n",
              "      <td>1</td>\n",
              "      <td>0.435000</td>\n",
              "      <td>0.431167</td>\n",
              "      <td>0.463333</td>\n",
              "      <td>0.181596</td>\n",
              "      <td>834</td>\n",
              "      <td>6736</td>\n",
              "      <td>7570</td>\n",
              "    </tr>\n",
              "    <tr>\n",
              "      <th>369</th>\n",
              "      <td>370</td>\n",
              "      <td>2012-01-05</td>\n",
              "      <td>1</td>\n",
              "      <td>1</td>\n",
              "      <td>1</td>\n",
              "      <td>0</td>\n",
              "      <td>4</td>\n",
              "      <td>1</td>\n",
              "      <td>1</td>\n",
              "      <td>0.265833</td>\n",
              "      <td>0.278412</td>\n",
              "      <td>0.524167</td>\n",
              "      <td>0.129987</td>\n",
              "      <td>140</td>\n",
              "      <td>3132</td>\n",
              "      <td>3272</td>\n",
              "    </tr>\n",
              "    <tr>\n",
              "      <th>158</th>\n",
              "      <td>159</td>\n",
              "      <td>2011-06-08</td>\n",
              "      <td>2</td>\n",
              "      <td>0</td>\n",
              "      <td>6</td>\n",
              "      <td>0</td>\n",
              "      <td>3</td>\n",
              "      <td>1</td>\n",
              "      <td>1</td>\n",
              "      <td>0.775833</td>\n",
              "      <td>0.727279</td>\n",
              "      <td>0.622083</td>\n",
              "      <td>0.136817</td>\n",
              "      <td>676</td>\n",
              "      <td>3725</td>\n",
              "      <td>4401</td>\n",
              "    </tr>\n",
              "    <tr>\n",
              "      <th>417</th>\n",
              "      <td>418</td>\n",
              "      <td>2012-02-22</td>\n",
              "      <td>1</td>\n",
              "      <td>1</td>\n",
              "      <td>2</td>\n",
              "      <td>0</td>\n",
              "      <td>3</td>\n",
              "      <td>1</td>\n",
              "      <td>1</td>\n",
              "      <td>0.395833</td>\n",
              "      <td>0.392667</td>\n",
              "      <td>0.567917</td>\n",
              "      <td>0.234471</td>\n",
              "      <td>394</td>\n",
              "      <td>4379</td>\n",
              "      <td>4773</td>\n",
              "    </tr>\n",
              "  </tbody>\n",
              "</table>\n",
              "</div>"
            ],
            "text/plain": [
              "     instant     dteday season yr mnth holiday weekday workingday weathersit  \\\n",
              "615      616 2012-09-07      3  1    9       0       5          1          1   \n",
              "649      650 2012-10-11      4  1   10       0       4          1          1   \n",
              "369      370 2012-01-05      1  1    1       0       4          1          1   \n",
              "158      159 2011-06-08      2  0    6       0       3          1          1   \n",
              "417      418 2012-02-22      1  1    2       0       3          1          1   \n",
              "\n",
              "         temp     atemp       hum  windspeed  casual  registered   cnt  \n",
              "615  0.703333  0.657204  0.736250   0.171646    1045        6459  7504  \n",
              "649  0.435000  0.431167  0.463333   0.181596     834        6736  7570  \n",
              "369  0.265833  0.278412  0.524167   0.129987     140        3132  3272  \n",
              "158  0.775833  0.727279  0.622083   0.136817     676        3725  4401  \n",
              "417  0.395833  0.392667  0.567917   0.234471     394        4379  4773  "
            ]
          },
          "execution_count": 10,
          "metadata": {},
          "output_type": "execute_result"
        }
      ],
      "source": [
        "MNDday_df.sample(5)"
      ]
    },
    {
      "cell_type": "code",
      "execution_count": 11,
      "metadata": {
        "colab": {
          "base_uri": "https://localhost:8080/",
          "height": 622
        },
        "id": "e9CQCZjk8DC2",
        "outputId": "ae28d8d3-6116-446f-fbd7-1c9719768207"
      },
      "outputs": [
        {
          "data": {
            "text/html": [
              "<div>\n",
              "<style scoped>\n",
              "    .dataframe tbody tr th:only-of-type {\n",
              "        vertical-align: middle;\n",
              "    }\n",
              "\n",
              "    .dataframe tbody tr th {\n",
              "        vertical-align: top;\n",
              "    }\n",
              "\n",
              "    .dataframe thead th {\n",
              "        text-align: right;\n",
              "    }\n",
              "</style>\n",
              "<table border=\"1\" class=\"dataframe\">\n",
              "  <thead>\n",
              "    <tr style=\"text-align: right;\">\n",
              "      <th></th>\n",
              "      <th>instant</th>\n",
              "      <th>dteday</th>\n",
              "      <th>season</th>\n",
              "      <th>yr</th>\n",
              "      <th>mnth</th>\n",
              "      <th>holiday</th>\n",
              "      <th>weekday</th>\n",
              "      <th>workingday</th>\n",
              "      <th>weathersit</th>\n",
              "      <th>temp</th>\n",
              "      <th>atemp</th>\n",
              "      <th>hum</th>\n",
              "      <th>windspeed</th>\n",
              "      <th>casual</th>\n",
              "      <th>registered</th>\n",
              "      <th>cnt</th>\n",
              "    </tr>\n",
              "  </thead>\n",
              "  <tbody>\n",
              "    <tr>\n",
              "      <th>count</th>\n",
              "      <td>731.000000</td>\n",
              "      <td>731</td>\n",
              "      <td>731.0</td>\n",
              "      <td>731.0</td>\n",
              "      <td>731.0</td>\n",
              "      <td>731.0</td>\n",
              "      <td>731.0</td>\n",
              "      <td>731.0</td>\n",
              "      <td>731.0</td>\n",
              "      <td>731.000000</td>\n",
              "      <td>731.000000</td>\n",
              "      <td>731.000000</td>\n",
              "      <td>731.000000</td>\n",
              "      <td>731.000000</td>\n",
              "      <td>731.000000</td>\n",
              "      <td>731.000000</td>\n",
              "    </tr>\n",
              "    <tr>\n",
              "      <th>unique</th>\n",
              "      <td>NaN</td>\n",
              "      <td>NaN</td>\n",
              "      <td>4.0</td>\n",
              "      <td>2.0</td>\n",
              "      <td>12.0</td>\n",
              "      <td>2.0</td>\n",
              "      <td>7.0</td>\n",
              "      <td>2.0</td>\n",
              "      <td>3.0</td>\n",
              "      <td>NaN</td>\n",
              "      <td>NaN</td>\n",
              "      <td>NaN</td>\n",
              "      <td>NaN</td>\n",
              "      <td>NaN</td>\n",
              "      <td>NaN</td>\n",
              "      <td>NaN</td>\n",
              "    </tr>\n",
              "    <tr>\n",
              "      <th>top</th>\n",
              "      <td>NaN</td>\n",
              "      <td>NaN</td>\n",
              "      <td>3.0</td>\n",
              "      <td>1.0</td>\n",
              "      <td>1.0</td>\n",
              "      <td>0.0</td>\n",
              "      <td>0.0</td>\n",
              "      <td>1.0</td>\n",
              "      <td>1.0</td>\n",
              "      <td>NaN</td>\n",
              "      <td>NaN</td>\n",
              "      <td>NaN</td>\n",
              "      <td>NaN</td>\n",
              "      <td>NaN</td>\n",
              "      <td>NaN</td>\n",
              "      <td>NaN</td>\n",
              "    </tr>\n",
              "    <tr>\n",
              "      <th>freq</th>\n",
              "      <td>NaN</td>\n",
              "      <td>NaN</td>\n",
              "      <td>188.0</td>\n",
              "      <td>366.0</td>\n",
              "      <td>62.0</td>\n",
              "      <td>710.0</td>\n",
              "      <td>105.0</td>\n",
              "      <td>500.0</td>\n",
              "      <td>463.0</td>\n",
              "      <td>NaN</td>\n",
              "      <td>NaN</td>\n",
              "      <td>NaN</td>\n",
              "      <td>NaN</td>\n",
              "      <td>NaN</td>\n",
              "      <td>NaN</td>\n",
              "      <td>NaN</td>\n",
              "    </tr>\n",
              "    <tr>\n",
              "      <th>mean</th>\n",
              "      <td>366.000000</td>\n",
              "      <td>2012-01-01 00:00:00</td>\n",
              "      <td>NaN</td>\n",
              "      <td>NaN</td>\n",
              "      <td>NaN</td>\n",
              "      <td>NaN</td>\n",
              "      <td>NaN</td>\n",
              "      <td>NaN</td>\n",
              "      <td>NaN</td>\n",
              "      <td>0.495385</td>\n",
              "      <td>0.474354</td>\n",
              "      <td>0.627894</td>\n",
              "      <td>0.190486</td>\n",
              "      <td>848.176471</td>\n",
              "      <td>3656.172367</td>\n",
              "      <td>4504.348837</td>\n",
              "    </tr>\n",
              "    <tr>\n",
              "      <th>min</th>\n",
              "      <td>1.000000</td>\n",
              "      <td>2011-01-01 00:00:00</td>\n",
              "      <td>NaN</td>\n",
              "      <td>NaN</td>\n",
              "      <td>NaN</td>\n",
              "      <td>NaN</td>\n",
              "      <td>NaN</td>\n",
              "      <td>NaN</td>\n",
              "      <td>NaN</td>\n",
              "      <td>0.059130</td>\n",
              "      <td>0.079070</td>\n",
              "      <td>0.000000</td>\n",
              "      <td>0.022392</td>\n",
              "      <td>2.000000</td>\n",
              "      <td>20.000000</td>\n",
              "      <td>22.000000</td>\n",
              "    </tr>\n",
              "    <tr>\n",
              "      <th>25%</th>\n",
              "      <td>183.500000</td>\n",
              "      <td>2011-07-02 12:00:00</td>\n",
              "      <td>NaN</td>\n",
              "      <td>NaN</td>\n",
              "      <td>NaN</td>\n",
              "      <td>NaN</td>\n",
              "      <td>NaN</td>\n",
              "      <td>NaN</td>\n",
              "      <td>NaN</td>\n",
              "      <td>0.337083</td>\n",
              "      <td>0.337842</td>\n",
              "      <td>0.520000</td>\n",
              "      <td>0.134950</td>\n",
              "      <td>315.500000</td>\n",
              "      <td>2497.000000</td>\n",
              "      <td>3152.000000</td>\n",
              "    </tr>\n",
              "    <tr>\n",
              "      <th>50%</th>\n",
              "      <td>366.000000</td>\n",
              "      <td>2012-01-01 00:00:00</td>\n",
              "      <td>NaN</td>\n",
              "      <td>NaN</td>\n",
              "      <td>NaN</td>\n",
              "      <td>NaN</td>\n",
              "      <td>NaN</td>\n",
              "      <td>NaN</td>\n",
              "      <td>NaN</td>\n",
              "      <td>0.498333</td>\n",
              "      <td>0.486733</td>\n",
              "      <td>0.626667</td>\n",
              "      <td>0.180975</td>\n",
              "      <td>713.000000</td>\n",
              "      <td>3662.000000</td>\n",
              "      <td>4548.000000</td>\n",
              "    </tr>\n",
              "    <tr>\n",
              "      <th>75%</th>\n",
              "      <td>548.500000</td>\n",
              "      <td>2012-07-01 12:00:00</td>\n",
              "      <td>NaN</td>\n",
              "      <td>NaN</td>\n",
              "      <td>NaN</td>\n",
              "      <td>NaN</td>\n",
              "      <td>NaN</td>\n",
              "      <td>NaN</td>\n",
              "      <td>NaN</td>\n",
              "      <td>0.655417</td>\n",
              "      <td>0.608602</td>\n",
              "      <td>0.730209</td>\n",
              "      <td>0.233214</td>\n",
              "      <td>1096.000000</td>\n",
              "      <td>4776.500000</td>\n",
              "      <td>5956.000000</td>\n",
              "    </tr>\n",
              "    <tr>\n",
              "      <th>max</th>\n",
              "      <td>731.000000</td>\n",
              "      <td>2012-12-31 00:00:00</td>\n",
              "      <td>NaN</td>\n",
              "      <td>NaN</td>\n",
              "      <td>NaN</td>\n",
              "      <td>NaN</td>\n",
              "      <td>NaN</td>\n",
              "      <td>NaN</td>\n",
              "      <td>NaN</td>\n",
              "      <td>0.861667</td>\n",
              "      <td>0.840896</td>\n",
              "      <td>0.972500</td>\n",
              "      <td>0.507463</td>\n",
              "      <td>3410.000000</td>\n",
              "      <td>6946.000000</td>\n",
              "      <td>8714.000000</td>\n",
              "    </tr>\n",
              "    <tr>\n",
              "      <th>std</th>\n",
              "      <td>211.165812</td>\n",
              "      <td>NaN</td>\n",
              "      <td>NaN</td>\n",
              "      <td>NaN</td>\n",
              "      <td>NaN</td>\n",
              "      <td>NaN</td>\n",
              "      <td>NaN</td>\n",
              "      <td>NaN</td>\n",
              "      <td>NaN</td>\n",
              "      <td>0.183051</td>\n",
              "      <td>0.162961</td>\n",
              "      <td>0.142429</td>\n",
              "      <td>0.077498</td>\n",
              "      <td>686.622488</td>\n",
              "      <td>1560.256377</td>\n",
              "      <td>1937.211452</td>\n",
              "    </tr>\n",
              "  </tbody>\n",
              "</table>\n",
              "</div>"
            ],
            "text/plain": [
              "           instant               dteday  season     yr   mnth  holiday  \\\n",
              "count   731.000000                  731   731.0  731.0  731.0    731.0   \n",
              "unique         NaN                  NaN     4.0    2.0   12.0      2.0   \n",
              "top            NaN                  NaN     3.0    1.0    1.0      0.0   \n",
              "freq           NaN                  NaN   188.0  366.0   62.0    710.0   \n",
              "mean    366.000000  2012-01-01 00:00:00     NaN    NaN    NaN      NaN   \n",
              "min       1.000000  2011-01-01 00:00:00     NaN    NaN    NaN      NaN   \n",
              "25%     183.500000  2011-07-02 12:00:00     NaN    NaN    NaN      NaN   \n",
              "50%     366.000000  2012-01-01 00:00:00     NaN    NaN    NaN      NaN   \n",
              "75%     548.500000  2012-07-01 12:00:00     NaN    NaN    NaN      NaN   \n",
              "max     731.000000  2012-12-31 00:00:00     NaN    NaN    NaN      NaN   \n",
              "std     211.165812                  NaN     NaN    NaN    NaN      NaN   \n",
              "\n",
              "        weekday  workingday  weathersit        temp       atemp         hum  \\\n",
              "count     731.0       731.0       731.0  731.000000  731.000000  731.000000   \n",
              "unique      7.0         2.0         3.0         NaN         NaN         NaN   \n",
              "top         0.0         1.0         1.0         NaN         NaN         NaN   \n",
              "freq      105.0       500.0       463.0         NaN         NaN         NaN   \n",
              "mean        NaN         NaN         NaN    0.495385    0.474354    0.627894   \n",
              "min         NaN         NaN         NaN    0.059130    0.079070    0.000000   \n",
              "25%         NaN         NaN         NaN    0.337083    0.337842    0.520000   \n",
              "50%         NaN         NaN         NaN    0.498333    0.486733    0.626667   \n",
              "75%         NaN         NaN         NaN    0.655417    0.608602    0.730209   \n",
              "max         NaN         NaN         NaN    0.861667    0.840896    0.972500   \n",
              "std         NaN         NaN         NaN    0.183051    0.162961    0.142429   \n",
              "\n",
              "         windspeed       casual   registered          cnt  \n",
              "count   731.000000   731.000000   731.000000   731.000000  \n",
              "unique         NaN          NaN          NaN          NaN  \n",
              "top            NaN          NaN          NaN          NaN  \n",
              "freq           NaN          NaN          NaN          NaN  \n",
              "mean      0.190486   848.176471  3656.172367  4504.348837  \n",
              "min       0.022392     2.000000    20.000000    22.000000  \n",
              "25%       0.134950   315.500000  2497.000000  3152.000000  \n",
              "50%       0.180975   713.000000  3662.000000  4548.000000  \n",
              "75%       0.233214  1096.000000  4776.500000  5956.000000  \n",
              "max       0.507463  3410.000000  6946.000000  8714.000000  \n",
              "std       0.077498   686.622488  1560.256377  1937.211452  "
            ]
          },
          "execution_count": 11,
          "metadata": {},
          "output_type": "execute_result"
        }
      ],
      "source": [
        "MNDday_df.describe(include=\"all\")"
      ]
    },
    {
      "cell_type": "code",
      "execution_count": 12,
      "metadata": {
        "colab": {
          "base_uri": "https://localhost:8080/"
        },
        "id": "JwjU9V7b0sUh",
        "outputId": "4cc4bf31-4e7d-48cf-9a9d-89d762e85d66"
      },
      "outputs": [
        {
          "data": {
            "text/plain": [
              "True"
            ]
          },
          "execution_count": 12,
          "metadata": {},
          "output_type": "execute_result"
        }
      ],
      "source": [
        "MNDday_df.instant.is_unique"
      ]
    },
    {
      "cell_type": "markdown",
      "metadata": {},
      "source": [
        "### Pertanyaan 1:\n",
        "Bagaimana pola penyewa sepeda berdasarkan kondisi cuaca, weekday, workingday, holiday, dan season?"
      ]
    },
    {
      "cell_type": "markdown",
      "metadata": {},
      "source": [
        "#### Berdasarkan cuaca"
      ]
    },
    {
      "cell_type": "code",
      "execution_count": 13,
      "metadata": {
        "colab": {
          "base_uri": "https://localhost:8080/"
        },
        "id": "kS2nx92M0BYv",
        "outputId": "619ae10a-f683-4b21-9c80-661d9462bc72"
      },
      "outputs": [
        {
          "name": "stdout",
          "output_type": "stream",
          "text": [
            "                    min   max         mean      sum\n",
            "cuaca                                              \n",
            "Cerah               431  8714  4876.786177  2257952\n",
            "Berawan             605  8362  4035.862348   996858\n",
            "Hujan/Salju ringan   22  4639  1803.285714    37869\n"
          ]
        },
        {
          "name": "stderr",
          "output_type": "stream",
          "text": [
            "C:\\Users\\User\\AppData\\Local\\Temp\\ipykernel_10312\\2876266081.py:7: FutureWarning: The default of observed=False is deprecated and will be changed to True in a future version of pandas. Pass observed=False to retain current behavior or observed=True to adopt the future default and silence this warning.\n",
            "  summary_cuaca = MNDday_df.groupby('cuaca')['cnt'].agg([\"min\", \"max\", \"mean\", \"sum\"])\n"
          ]
        }
      ],
      "source": [
        "weather_mapping = {\n",
        "    1: 'Cerah',\n",
        "    2: 'Berawan',\n",
        "    3: 'Hujan/Salju ringan' \n",
        "}\n",
        "MNDday_df['cuaca'] = MNDday_df['weathersit'].map(weather_mapping)\n",
        "summary_cuaca = MNDday_df.groupby('cuaca')['cnt'].agg([\"min\", \"max\", \"mean\", \"sum\"])\n",
        "print(summary_cuaca)"
      ]
    },
    {
      "cell_type": "markdown",
      "metadata": {},
      "source": [
        "* Minimum penyewa sepeda paling rendah terjadi ketika cuaca hujan/salju ringan\n",
        "* Maksimum penyewa sepeda ketika cuaca cerah\n",
        "* Rata-rata penyewa sepeda tertinggi ketika cuaca cerah dan rata-rata penyewa sepeda terendah ketika cuaca hujan/salju ringan\n",
        "* Jumlah penyewa sepeda teringgi ketika cuaca cerah dan jumlah penyewa sepeda terendah ketika cuaca hujan/salju ringan"
      ]
    },
    {
      "cell_type": "markdown",
      "metadata": {},
      "source": [
        "#### Berdasarkan weekday"
      ]
    },
    {
      "cell_type": "code",
      "execution_count": 14,
      "metadata": {},
      "outputs": [
        {
          "name": "stdout",
          "output_type": "stream",
          "text": [
            "                min   max         mean     sum\n",
            "weekday_label                                 \n",
            "Minggu          605  8227  4228.828571  444027\n",
            "Senin            22  7525  4338.123810  455503\n",
            "Selasa          683  7767  4510.663462  469109\n",
            "Rabu            441  8173  4548.538462  473048\n",
            "Kamis           431  7804  4667.259615  485395\n",
            "Jumat          1167  8362  4690.288462  487790\n",
            "Sabtu           627  8714  4550.542857  477807\n"
          ]
        },
        {
          "name": "stderr",
          "output_type": "stream",
          "text": [
            "C:\\Users\\User\\AppData\\Local\\Temp\\ipykernel_10312\\978296533.py:11: FutureWarning: The default of observed=False is deprecated and will be changed to True in a future version of pandas. Pass observed=False to retain current behavior or observed=True to adopt the future default and silence this warning.\n",
            "  summary_weekday = MNDday_df.groupby('weekday_label')['cnt'].agg([\"min\", \"max\", \"mean\", \"sum\"])\n"
          ]
        }
      ],
      "source": [
        "weekday_mapping = { \n",
        "    0: 'Minggu',\n",
        "    1: 'Senin',\n",
        "    2: 'Selasa',\n",
        "    3: 'Rabu',\n",
        "    4: 'Kamis',\n",
        "    5: 'Jumat',\n",
        "    6: 'Sabtu'\n",
        "}\n",
        "MNDday_df['weekday_label'] = MNDday_df['weekday'].map(weekday_mapping)\n",
        "summary_weekday = MNDday_df.groupby('weekday_label')['cnt'].agg([\"min\", \"max\", \"mean\", \"sum\"])\n",
        "print(summary_weekday)"
      ]
    },
    {
      "cell_type": "markdown",
      "metadata": {},
      "source": [
        "* Nilai minimum penyewa sepeda terjadi pada hari Senin\n",
        "* Nilai maksimum penyewa sepeda terjadi pada hari Sabtu\n",
        "* Rata-Rata penyewa sepeda tertinggi pada hari Jumat dan rata-rata terendah pada hari Minggu\n",
        "* Jumlah tertinggi penyewa sepeda pada hari Jumat dan jumlah terendah pada hari Minggu"
      ]
    },
    {
      "cell_type": "markdown",
      "metadata": {},
      "source": [
        "#### Berdasarkan workingday"
      ]
    },
    {
      "cell_type": "code",
      "execution_count": 15,
      "metadata": {},
      "outputs": [
        {
          "name": "stdout",
          "output_type": "stream",
          "text": [
            "                  min   max         mean      sum\n",
            "workingday_label                                 \n",
            "Tidak             605  8714  4330.168831  1000269\n",
            "Ya                 22  8362  4584.820000  2292410\n"
          ]
        },
        {
          "name": "stderr",
          "output_type": "stream",
          "text": [
            "C:\\Users\\User\\AppData\\Local\\Temp\\ipykernel_10312\\2375517520.py:6: FutureWarning: The default of observed=False is deprecated and will be changed to True in a future version of pandas. Pass observed=False to retain current behavior or observed=True to adopt the future default and silence this warning.\n",
            "  summary_workingday = MNDday_df.groupby('workingday_label')['cnt'].agg([\"min\", \"max\", \"mean\", \"sum\"])\n"
          ]
        }
      ],
      "source": [
        "workingday_mapping = { \n",
        "    0: 'Tidak',\n",
        "    1: 'Ya'\n",
        "}\n",
        "MNDday_df['workingday_label'] = MNDday_df['workingday'].map(workingday_mapping)\n",
        "summary_workingday = MNDday_df.groupby('workingday_label')['cnt'].agg([\"min\", \"max\", \"mean\", \"sum\"])\n",
        "print(summary_workingday)"
      ]
    },
    {
      "cell_type": "markdown",
      "metadata": {},
      "source": [
        "* Nilai minimum penyewa sepeda terjadi ketika workingday\n",
        "* Nilai maksimum penyewa sepeda terjadi ketika bukan workingday\n",
        "* Rata-rata penyewa sepeda tertinggi terjadi ketika workingday\n",
        "* Jumlah penyewa sepeda tertinggi terjadi ketika workingday"
      ]
    },
    {
      "cell_type": "markdown",
      "metadata": {},
      "source": [
        "#### Berdasarkan holiday"
      ]
    },
    {
      "cell_type": "code",
      "execution_count": 16,
      "metadata": {},
      "outputs": [
        {
          "name": "stdout",
          "output_type": "stream",
          "text": [
            "                min   max         mean      sum\n",
            "holiday_label                                  \n",
            "Tidak            22  8714  4527.104225  3214244\n",
            "Ya             1000  7403  3735.000000    78435\n"
          ]
        },
        {
          "name": "stderr",
          "output_type": "stream",
          "text": [
            "C:\\Users\\User\\AppData\\Local\\Temp\\ipykernel_10312\\4010795420.py:6: FutureWarning: The default of observed=False is deprecated and will be changed to True in a future version of pandas. Pass observed=False to retain current behavior or observed=True to adopt the future default and silence this warning.\n",
            "  summary_holiday = MNDday_df.groupby('holiday_label')['cnt'].agg([\"min\", \"max\", \"mean\", \"sum\"])\n"
          ]
        }
      ],
      "source": [
        "holiday_mapping = { \n",
        "    0: 'Tidak',\n",
        "    1: 'Ya'\n",
        "}\n",
        "MNDday_df['holiday_label'] = MNDday_df['holiday'].map(holiday_mapping)\n",
        "summary_holiday = MNDday_df.groupby('holiday_label')['cnt'].agg([\"min\", \"max\", \"mean\", \"sum\"])\n",
        "print(summary_holiday)"
      ]
    },
    {
      "cell_type": "markdown",
      "metadata": {},
      "source": [
        "* Nilai minimum sepeda yang disewa terjadi ketika bukan holiday\n",
        "* Nilai maksimum sepeda yang disewa terjadi ketika bukan holiday\n",
        "* Rata-rata tertinggi sepeda yang disewa terjadi ketika bukan holiday\n",
        "* Jumlah sepeda yang disewa tertinggi terjadi ketika bukan holiday"
      ]
    },
    {
      "cell_type": "markdown",
      "metadata": {},
      "source": [
        "#### Berdasarkan Musim"
      ]
    },
    {
      "cell_type": "code",
      "execution_count": 17,
      "metadata": {},
      "outputs": [
        {
          "name": "stdout",
          "output_type": "stream",
          "text": [
            "               min   max         mean      sum\n",
            "season_label                                  \n",
            "Spring         431  7836  2604.132597   471348\n",
            "Summer         795  8362  4992.331522   918589\n",
            "Fall          1115  8714  5644.303191  1061129\n",
            "Winter          22  8555  4728.162921   841613\n"
          ]
        },
        {
          "name": "stderr",
          "output_type": "stream",
          "text": [
            "C:\\Users\\User\\AppData\\Local\\Temp\\ipykernel_10312\\3795089065.py:8: FutureWarning: The default of observed=False is deprecated and will be changed to True in a future version of pandas. Pass observed=False to retain current behavior or observed=True to adopt the future default and silence this warning.\n",
            "  summary_season = MNDday_df.groupby('season_label')['cnt'].agg([\"min\", \"max\", \"mean\", \"sum\"])\n"
          ]
        }
      ],
      "source": [
        "season_mapping = { \n",
        "    1: 'Spring',\n",
        "    2: 'Summer',\n",
        "    3: 'Fall',\n",
        "    4: 'Winter'\n",
        "}\n",
        "MNDday_df['season_label'] = MNDday_df['season'].map(season_mapping)\n",
        "summary_season = MNDday_df.groupby('season_label')['cnt'].agg([\"min\", \"max\", \"mean\", \"sum\"])\n",
        "print(summary_season)"
      ]
    },
    {
      "cell_type": "markdown",
      "metadata": {},
      "source": [
        "* Nilai minimum sepeda yang disewa terjadi ketika musim winter\n",
        "* Nilai maksimum sepeda yang disewa terjadi ketika musim Fall\n",
        "* Rata-rata tertinggi sepeda yang disewa terjadi ketika musim Fall dan rata-rata terendah ketika musim Spring\n",
        "* Jumlah tertinggi sepeda yang disewa terjadi ketika musim Fall dan jumlah terendah ketika musim Spring"
      ]
    },
    {
      "cell_type": "markdown",
      "metadata": {},
      "source": [
        "### Pertanyaan 2:\n",
        "Bagaimana pengaruh dari atempt, hum, windspeed terhadap banyaknya penyewa sepeda?"
      ]
    },
    {
      "cell_type": "code",
      "execution_count": 18,
      "metadata": {},
      "outputs": [
        {
          "name": "stdout",
          "output_type": "stream",
          "text": [
            "              atemp       hum  windspeed       cnt\n",
            "atemp      1.000000  0.139988  -0.183643  0.631066\n",
            "hum        0.139988  1.000000  -0.248489 -0.100659\n",
            "windspeed -0.183643 -0.248489   1.000000 -0.234545\n",
            "cnt        0.631066 -0.100659  -0.234545  1.000000\n"
          ]
        }
      ],
      "source": [
        "hubungan = MNDday_df[['atemp', 'hum', 'windspeed', 'cnt']]\n",
        "correlation_matrix = hubungan.corr()\n",
        "print(correlation_matrix)"
      ]
    },
    {
      "cell_type": "markdown",
      "metadata": {},
      "source": [
        "Dari matriks korelasi di atas diperoleh:\n",
        "* Korelasi antara atemp (suhu terasa) dengan cnt (jumlah) memiliki korelasi kuat, artinya ketika suhu terasa naik maka jumlah penyewa sepeda juga akan naik\n",
        "* Korelasi antara hum (kelembaban) dengan cnt (jumlah) memiliki korelasi sangat rendah, artinya kelembaban tidak memiliki pengaruh terhadap jumlah penyewa sepeda\n",
        "* Korelasi antara windspeed (kecepatan angin) dengan cnt (jumlah) memiliki korelasi negatif tapi rendah, artinya windspeed hanya memiliki pengaruh yang kecil terhadap jumlah penyewa sepeda, apabila windspeed naik maka penyewa sepeda akan sedikit berkurang"
      ]
    },
    {
      "cell_type": "code",
      "execution_count": 19,
      "metadata": {},
      "outputs": [
        {
          "name": "stdout",
          "output_type": "stream",
          "text": [
            "Rata-rata suhu terasa: 23.72°C\n",
            "\n",
            "Contoh data suhu setelah konversi dan pelabelan:\n",
            "      atemp  atemp_actual         atemp_label\n",
            "0  0.363625      18.18125  Di Bawah Rata-rata\n",
            "1  0.353739      17.68695  Di Bawah Rata-rata\n",
            "2  0.189405       9.47025  Di Bawah Rata-rata\n",
            "3  0.212122      10.60610  Di Bawah Rata-rata\n",
            "4  0.229270      11.46350  Di Bawah Rata-rata\n",
            "5  0.233209      11.66045  Di Bawah Rata-rata\n",
            "6  0.208839      10.44195  Di Bawah Rata-rata\n",
            "7  0.162254       8.11270  Di Bawah Rata-rata\n",
            "8  0.116175       5.80875  Di Bawah Rata-rata\n",
            "9  0.150888       7.54440  Di Bawah Rata-rata\n",
            "\n",
            "Ringkasan Penyewaan Berdasarkan Suhu:\n",
            "                     min   max         mean      sum\n",
            "atemp_label                                         \n",
            "Di Atas Rata-rata   1115  8714  5662.571429  1902624\n",
            "Normal                22  8090  4891.816092   425588\n",
            "Di Bawah Rata-rata   431  7570  3131.386364   964467\n"
          ]
        }
      ],
      "source": [
        "MNDday_df['atemp_actual'] = MNDday_df['atemp'] * 50\n",
        "average_atemp = MNDday_df['atemp_actual'].mean()\n",
        "tolerance = 2\n",
        "print(f\"Rata-rata suhu terasa: {average_atemp:.2f}°C\")\n",
        "def label_temp(row):\n",
        "    if row['atemp_actual'] < (average_atemp - tolerance):\n",
        "        return 'Di Bawah Rata-rata'\n",
        "    elif (average_atemp - tolerance) <= row['atemp_actual'] <= (average_atemp + tolerance):\n",
        "        return 'Normal'\n",
        "    else:\n",
        "        return 'Di Atas Rata-rata'\n",
        "MNDday_df['atemp_label'] = MNDday_df.apply(label_temp, axis=1)\n",
        "print(\"\\nContoh data suhu setelah konversi dan pelabelan:\")\n",
        "print(MNDday_df[['atemp', 'atemp_actual', 'atemp_label']].head(10))\n",
        "summary_atemp = MNDday_df.groupby('atemp_label')['cnt'].agg([\"min\", \"max\", \"mean\", \"sum\"]).sort_values('mean', ascending=False)\n",
        "print(\"\\nRingkasan Penyewaan Berdasarkan Suhu:\")\n",
        "print(summary_atemp)"
      ]
    },
    {
      "cell_type": "markdown",
      "metadata": {},
      "source": [
        "* Ketika suhu di atas rata-rata nilai minimum penyewa sepeda adalah 1115, nilai maksimumnya 8714, dengan rata rata 5662,57 dan jumlahnya 1902624\n",
        "* Ketika suhu normal  nilai minimum penyewa sepeda adalah 22, nilai maksimumnya 8090, dengan rata rata 4891,816 dan jumlahnya 425588\n",
        "* Ketika suhu di bawah rata-rata nilai minimum penyewa sepeda adalah 431, nilai maksimumnya 7570, dengan rata rata 3131,386 dan jumlahnya 964467"
      ]
    },
    {
      "cell_type": "markdown",
      "metadata": {
        "id": "th_Lzl2Fkj9O"
      },
      "source": [
        "**Insight:**\n",
        "- Pola penyewa sepeda tertinggi terjadi pada saat working day juga tidak sedang holiday terutama pada hari Jumat ketika cuaca cerah di musim gugur (Fall). Dan penyewa sepeda terendah terjadi ketika bukan working day juga holiday terutama pada hari Minggu ketika cuaca sedang hujan/salju ringan di musim semi (Spring)\n",
        "- Atempt memiliki pengaruh yang cukup kuat dengan banyaknya penyewa sepeda, ketika atempt naik maka penyewa sepeda juga naik. Ketika atempt di atas rata-rata penyewa sepeda malah lebih banyak. Windspeed hanya memiliki pengaruh yang sangat kecil terhadap banyaknya penyewa sepeda, namun dalam pengaruh kecil negatif, jadi ketika windspeed naik maka akan sedikit menurunkan penyewa sepeda, sedangkan hum tidak memiliki pengaruh terhadap banyaknya penyewa sepeda"
      ]
    },
    {
      "cell_type": "markdown",
      "metadata": {
        "id": "zsyZjqak8DC2"
      },
      "source": [
        "## Visualization & Explanatory Analysis"
      ]
    },
    {
      "cell_type": "markdown",
      "metadata": {
        "id": "HZxOiQ6n8DC2"
      },
      "source": [
        "### Pertanyaan 1:\n",
        "Bagaimana pola penyewa sepeda berdasarkan kondisi cuaca, weekday, workingday, holiday, dan season?"
      ]
    },
    {
      "cell_type": "code",
      "execution_count": 20,
      "metadata": {
        "colab": {
          "base_uri": "https://localhost:8080/",
          "height": 313
        },
        "id": "BedR_HA7O7NN",
        "outputId": "4c3cdcaa-a078-437c-b54c-e16642d2ec67"
      },
      "outputs": [
        {
          "data": {
            "text/html": [
              "<div>\n",
              "<style scoped>\n",
              "    .dataframe tbody tr th:only-of-type {\n",
              "        vertical-align: middle;\n",
              "    }\n",
              "\n",
              "    .dataframe tbody tr th {\n",
              "        vertical-align: top;\n",
              "    }\n",
              "\n",
              "    .dataframe thead th {\n",
              "        text-align: right;\n",
              "    }\n",
              "</style>\n",
              "<table border=\"1\" class=\"dataframe\">\n",
              "  <thead>\n",
              "    <tr style=\"text-align: right;\">\n",
              "      <th></th>\n",
              "      <th>instant</th>\n",
              "      <th>dteday</th>\n",
              "      <th>season</th>\n",
              "      <th>yr</th>\n",
              "      <th>mnth</th>\n",
              "      <th>holiday</th>\n",
              "      <th>weekday</th>\n",
              "      <th>workingday</th>\n",
              "      <th>weathersit</th>\n",
              "      <th>temp</th>\n",
              "      <th>...</th>\n",
              "      <th>casual</th>\n",
              "      <th>registered</th>\n",
              "      <th>cnt</th>\n",
              "      <th>cuaca</th>\n",
              "      <th>weekday_label</th>\n",
              "      <th>workingday_label</th>\n",
              "      <th>holiday_label</th>\n",
              "      <th>season_label</th>\n",
              "      <th>atemp_actual</th>\n",
              "      <th>atemp_label</th>\n",
              "    </tr>\n",
              "  </thead>\n",
              "  <tbody>\n",
              "    <tr>\n",
              "      <th>41</th>\n",
              "      <td>42</td>\n",
              "      <td>2011-02-11</td>\n",
              "      <td>1</td>\n",
              "      <td>0</td>\n",
              "      <td>2</td>\n",
              "      <td>0</td>\n",
              "      <td>5</td>\n",
              "      <td>1</td>\n",
              "      <td>1</td>\n",
              "      <td>0.189091</td>\n",
              "      <td>...</td>\n",
              "      <td>149</td>\n",
              "      <td>1597</td>\n",
              "      <td>1746</td>\n",
              "      <td>Cerah</td>\n",
              "      <td>Jumat</td>\n",
              "      <td>Ya</td>\n",
              "      <td>Tidak</td>\n",
              "      <td>Spring</td>\n",
              "      <td>10.67545</td>\n",
              "      <td>Di Bawah Rata-rata</td>\n",
              "    </tr>\n",
              "    <tr>\n",
              "      <th>116</th>\n",
              "      <td>117</td>\n",
              "      <td>2011-04-27</td>\n",
              "      <td>2</td>\n",
              "      <td>0</td>\n",
              "      <td>4</td>\n",
              "      <td>0</td>\n",
              "      <td>3</td>\n",
              "      <td>1</td>\n",
              "      <td>2</td>\n",
              "      <td>0.620000</td>\n",
              "      <td>...</td>\n",
              "      <td>547</td>\n",
              "      <td>3325</td>\n",
              "      <td>3872</td>\n",
              "      <td>Berawan</td>\n",
              "      <td>Rabu</td>\n",
              "      <td>Ya</td>\n",
              "      <td>Tidak</td>\n",
              "      <td>Summer</td>\n",
              "      <td>28.75710</td>\n",
              "      <td>Di Atas Rata-rata</td>\n",
              "    </tr>\n",
              "    <tr>\n",
              "      <th>379</th>\n",
              "      <td>380</td>\n",
              "      <td>2012-01-15</td>\n",
              "      <td>1</td>\n",
              "      <td>1</td>\n",
              "      <td>1</td>\n",
              "      <td>0</td>\n",
              "      <td>0</td>\n",
              "      <td>0</td>\n",
              "      <td>1</td>\n",
              "      <td>0.166667</td>\n",
              "      <td>...</td>\n",
              "      <td>284</td>\n",
              "      <td>2027</td>\n",
              "      <td>2311</td>\n",
              "      <td>Cerah</td>\n",
              "      <td>Minggu</td>\n",
              "      <td>Tidak</td>\n",
              "      <td>Tidak</td>\n",
              "      <td>Spring</td>\n",
              "      <td>8.08125</td>\n",
              "      <td>Di Bawah Rata-rata</td>\n",
              "    </tr>\n",
              "    <tr>\n",
              "      <th>332</th>\n",
              "      <td>333</td>\n",
              "      <td>2011-11-29</td>\n",
              "      <td>4</td>\n",
              "      <td>0</td>\n",
              "      <td>11</td>\n",
              "      <td>0</td>\n",
              "      <td>2</td>\n",
              "      <td>1</td>\n",
              "      <td>2</td>\n",
              "      <td>0.458333</td>\n",
              "      <td>...</td>\n",
              "      <td>96</td>\n",
              "      <td>2818</td>\n",
              "      <td>2914</td>\n",
              "      <td>Berawan</td>\n",
              "      <td>Selasa</td>\n",
              "      <td>Ya</td>\n",
              "      <td>Tidak</td>\n",
              "      <td>Winter</td>\n",
              "      <td>22.56875</td>\n",
              "      <td>Normal</td>\n",
              "    </tr>\n",
              "    <tr>\n",
              "      <th>27</th>\n",
              "      <td>28</td>\n",
              "      <td>2011-01-28</td>\n",
              "      <td>1</td>\n",
              "      <td>0</td>\n",
              "      <td>1</td>\n",
              "      <td>0</td>\n",
              "      <td>5</td>\n",
              "      <td>1</td>\n",
              "      <td>2</td>\n",
              "      <td>0.203478</td>\n",
              "      <td>...</td>\n",
              "      <td>38</td>\n",
              "      <td>1129</td>\n",
              "      <td>1167</td>\n",
              "      <td>Berawan</td>\n",
              "      <td>Jumat</td>\n",
              "      <td>Ya</td>\n",
              "      <td>Tidak</td>\n",
              "      <td>Spring</td>\n",
              "      <td>11.16585</td>\n",
              "      <td>Di Bawah Rata-rata</td>\n",
              "    </tr>\n",
              "  </tbody>\n",
              "</table>\n",
              "<p>5 rows × 23 columns</p>\n",
              "</div>"
            ],
            "text/plain": [
              "     instant     dteday season yr mnth holiday weekday workingday weathersit  \\\n",
              "41        42 2011-02-11      1  0    2       0       5          1          1   \n",
              "116      117 2011-04-27      2  0    4       0       3          1          2   \n",
              "379      380 2012-01-15      1  1    1       0       0          0          1   \n",
              "332      333 2011-11-29      4  0   11       0       2          1          2   \n",
              "27        28 2011-01-28      1  0    1       0       5          1          2   \n",
              "\n",
              "         temp  ...  casual  registered   cnt    cuaca  weekday_label  \\\n",
              "41   0.189091  ...     149        1597  1746    Cerah          Jumat   \n",
              "116  0.620000  ...     547        3325  3872  Berawan           Rabu   \n",
              "379  0.166667  ...     284        2027  2311    Cerah         Minggu   \n",
              "332  0.458333  ...      96        2818  2914  Berawan         Selasa   \n",
              "27   0.203478  ...      38        1129  1167  Berawan          Jumat   \n",
              "\n",
              "     workingday_label holiday_label season_label atemp_actual  \\\n",
              "41                 Ya         Tidak       Spring     10.67545   \n",
              "116                Ya         Tidak       Summer     28.75710   \n",
              "379             Tidak         Tidak       Spring      8.08125   \n",
              "332                Ya         Tidak       Winter     22.56875   \n",
              "27                 Ya         Tidak       Spring     11.16585   \n",
              "\n",
              "            atemp_label  \n",
              "41   Di Bawah Rata-rata  \n",
              "116   Di Atas Rata-rata  \n",
              "379  Di Bawah Rata-rata  \n",
              "332              Normal  \n",
              "27   Di Bawah Rata-rata  \n",
              "\n",
              "[5 rows x 23 columns]"
            ]
          },
          "execution_count": 20,
          "metadata": {},
          "output_type": "execute_result"
        }
      ],
      "source": [
        "MNDday_df.sample(5)"
      ]
    },
    {
      "cell_type": "code",
      "execution_count": 21,
      "metadata": {
        "colab": {
          "base_uri": "https://localhost:8080/",
          "height": 313
        },
        "id": "m9rPaWZaQKyL",
        "outputId": "394ece9a-df9d-4ed3-c8d3-5ac0311c836c"
      },
      "outputs": [
        {
          "data": {
            "text/html": [
              "<div>\n",
              "<style scoped>\n",
              "    .dataframe tbody tr th:only-of-type {\n",
              "        vertical-align: middle;\n",
              "    }\n",
              "\n",
              "    .dataframe tbody tr th {\n",
              "        vertical-align: top;\n",
              "    }\n",
              "\n",
              "    .dataframe thead th {\n",
              "        text-align: right;\n",
              "    }\n",
              "</style>\n",
              "<table border=\"1\" class=\"dataframe\">\n",
              "  <thead>\n",
              "    <tr style=\"text-align: right;\">\n",
              "      <th></th>\n",
              "      <th>instant</th>\n",
              "      <th>dteday</th>\n",
              "      <th>season</th>\n",
              "      <th>yr</th>\n",
              "      <th>mnth</th>\n",
              "      <th>holiday</th>\n",
              "      <th>weekday</th>\n",
              "      <th>workingday</th>\n",
              "      <th>weathersit</th>\n",
              "      <th>temp</th>\n",
              "      <th>...</th>\n",
              "      <th>casual</th>\n",
              "      <th>registered</th>\n",
              "      <th>cnt</th>\n",
              "      <th>cuaca</th>\n",
              "      <th>weekday_label</th>\n",
              "      <th>workingday_label</th>\n",
              "      <th>holiday_label</th>\n",
              "      <th>season_label</th>\n",
              "      <th>atemp_actual</th>\n",
              "      <th>atemp_label</th>\n",
              "    </tr>\n",
              "  </thead>\n",
              "  <tbody>\n",
              "    <tr>\n",
              "      <th>0</th>\n",
              "      <td>1</td>\n",
              "      <td>2011-01-01</td>\n",
              "      <td>1</td>\n",
              "      <td>0</td>\n",
              "      <td>1</td>\n",
              "      <td>0</td>\n",
              "      <td>6</td>\n",
              "      <td>0</td>\n",
              "      <td>2</td>\n",
              "      <td>0.344167</td>\n",
              "      <td>...</td>\n",
              "      <td>331</td>\n",
              "      <td>654</td>\n",
              "      <td>985</td>\n",
              "      <td>Berawan</td>\n",
              "      <td>Sabtu</td>\n",
              "      <td>Tidak</td>\n",
              "      <td>Tidak</td>\n",
              "      <td>Spring</td>\n",
              "      <td>18.18125</td>\n",
              "      <td>Di Bawah Rata-rata</td>\n",
              "    </tr>\n",
              "    <tr>\n",
              "      <th>1</th>\n",
              "      <td>2</td>\n",
              "      <td>2011-01-02</td>\n",
              "      <td>1</td>\n",
              "      <td>0</td>\n",
              "      <td>1</td>\n",
              "      <td>0</td>\n",
              "      <td>0</td>\n",
              "      <td>0</td>\n",
              "      <td>2</td>\n",
              "      <td>0.363478</td>\n",
              "      <td>...</td>\n",
              "      <td>131</td>\n",
              "      <td>670</td>\n",
              "      <td>801</td>\n",
              "      <td>Berawan</td>\n",
              "      <td>Minggu</td>\n",
              "      <td>Tidak</td>\n",
              "      <td>Tidak</td>\n",
              "      <td>Spring</td>\n",
              "      <td>17.68695</td>\n",
              "      <td>Di Bawah Rata-rata</td>\n",
              "    </tr>\n",
              "    <tr>\n",
              "      <th>2</th>\n",
              "      <td>3</td>\n",
              "      <td>2011-01-03</td>\n",
              "      <td>1</td>\n",
              "      <td>0</td>\n",
              "      <td>1</td>\n",
              "      <td>0</td>\n",
              "      <td>1</td>\n",
              "      <td>1</td>\n",
              "      <td>1</td>\n",
              "      <td>0.196364</td>\n",
              "      <td>...</td>\n",
              "      <td>120</td>\n",
              "      <td>1229</td>\n",
              "      <td>1349</td>\n",
              "      <td>Cerah</td>\n",
              "      <td>Senin</td>\n",
              "      <td>Ya</td>\n",
              "      <td>Tidak</td>\n",
              "      <td>Spring</td>\n",
              "      <td>9.47025</td>\n",
              "      <td>Di Bawah Rata-rata</td>\n",
              "    </tr>\n",
              "    <tr>\n",
              "      <th>3</th>\n",
              "      <td>4</td>\n",
              "      <td>2011-01-04</td>\n",
              "      <td>1</td>\n",
              "      <td>0</td>\n",
              "      <td>1</td>\n",
              "      <td>0</td>\n",
              "      <td>2</td>\n",
              "      <td>1</td>\n",
              "      <td>1</td>\n",
              "      <td>0.200000</td>\n",
              "      <td>...</td>\n",
              "      <td>108</td>\n",
              "      <td>1454</td>\n",
              "      <td>1562</td>\n",
              "      <td>Cerah</td>\n",
              "      <td>Selasa</td>\n",
              "      <td>Ya</td>\n",
              "      <td>Tidak</td>\n",
              "      <td>Spring</td>\n",
              "      <td>10.60610</td>\n",
              "      <td>Di Bawah Rata-rata</td>\n",
              "    </tr>\n",
              "    <tr>\n",
              "      <th>4</th>\n",
              "      <td>5</td>\n",
              "      <td>2011-01-05</td>\n",
              "      <td>1</td>\n",
              "      <td>0</td>\n",
              "      <td>1</td>\n",
              "      <td>0</td>\n",
              "      <td>3</td>\n",
              "      <td>1</td>\n",
              "      <td>1</td>\n",
              "      <td>0.226957</td>\n",
              "      <td>...</td>\n",
              "      <td>82</td>\n",
              "      <td>1518</td>\n",
              "      <td>1600</td>\n",
              "      <td>Cerah</td>\n",
              "      <td>Rabu</td>\n",
              "      <td>Ya</td>\n",
              "      <td>Tidak</td>\n",
              "      <td>Spring</td>\n",
              "      <td>11.46350</td>\n",
              "      <td>Di Bawah Rata-rata</td>\n",
              "    </tr>\n",
              "  </tbody>\n",
              "</table>\n",
              "<p>5 rows × 23 columns</p>\n",
              "</div>"
            ],
            "text/plain": [
              "   instant     dteday season yr mnth holiday weekday workingday weathersit  \\\n",
              "0        1 2011-01-01      1  0    1       0       6          0          2   \n",
              "1        2 2011-01-02      1  0    1       0       0          0          2   \n",
              "2        3 2011-01-03      1  0    1       0       1          1          1   \n",
              "3        4 2011-01-04      1  0    1       0       2          1          1   \n",
              "4        5 2011-01-05      1  0    1       0       3          1          1   \n",
              "\n",
              "       temp  ...  casual  registered   cnt    cuaca  weekday_label  \\\n",
              "0  0.344167  ...     331         654   985  Berawan          Sabtu   \n",
              "1  0.363478  ...     131         670   801  Berawan         Minggu   \n",
              "2  0.196364  ...     120        1229  1349    Cerah          Senin   \n",
              "3  0.200000  ...     108        1454  1562    Cerah         Selasa   \n",
              "4  0.226957  ...      82        1518  1600    Cerah           Rabu   \n",
              "\n",
              "   workingday_label holiday_label season_label atemp_actual  \\\n",
              "0             Tidak         Tidak       Spring     18.18125   \n",
              "1             Tidak         Tidak       Spring     17.68695   \n",
              "2                Ya         Tidak       Spring      9.47025   \n",
              "3                Ya         Tidak       Spring     10.60610   \n",
              "4                Ya         Tidak       Spring     11.46350   \n",
              "\n",
              "          atemp_label  \n",
              "0  Di Bawah Rata-rata  \n",
              "1  Di Bawah Rata-rata  \n",
              "2  Di Bawah Rata-rata  \n",
              "3  Di Bawah Rata-rata  \n",
              "4  Di Bawah Rata-rata  \n",
              "\n",
              "[5 rows x 23 columns]"
            ]
          },
          "execution_count": 21,
          "metadata": {},
          "output_type": "execute_result"
        }
      ],
      "source": [
        "MNDday_df.head()"
      ]
    },
    {
      "cell_type": "code",
      "execution_count": 23,
      "metadata": {},
      "outputs": [
        {
          "name": "stderr",
          "output_type": "stream",
          "text": [
            "C:\\Users\\User\\AppData\\Local\\Temp\\ipykernel_10312\\3776457815.py:3: FutureWarning: 'M' is deprecated and will be removed in a future version, please use 'ME' instead.\n",
            "  monthly_rentals_df = MNDday_df.resample(rule='M', on='dteday').agg({\n"
          ]
        },
        {
          "name": "stdout",
          "output_type": "stream",
          "text": [
            "     month  total_rentals weathersit weekday workingday holiday season\n",
            "0  2011-01          38189          1       0          1       0      1\n",
            "1  2011-02          48215          1       0          1       0      1\n",
            "2  2011-03          64045          1       2          1       0      1\n",
            "3  2011-04          94870          2       5          1       0      2\n",
            "4  2011-05         135821          1       0          1       0      2\n"
          ]
        }
      ],
      "source": [
        "from scipy import stats\n",
        "MNDday_df['dteday'] = pd.to_datetime(MNDday_df['dteday'])\n",
        "monthly_rentals_df = MNDday_df.resample(rule='M', on='dteday').agg({\n",
        "    \"cnt\": \"sum\",\n",
        "    \"weathersit\": lambda x: stats.mode(x, keepdims=True)[0][0],\n",
        "    \"weekday\": lambda x: stats.mode(x, keepdims=True)[0][0],\n",
        "    \"workingday\": lambda x: stats.mode(x, keepdims=True)[0][0],\n",
        "    \"holiday\": lambda x: stats.mode(x, keepdims=True)[0][0],\n",
        "    \"season\": lambda x: stats.mode(x, keepdims=True)[0][0]\n",
        "})\n",
        "monthly_rentals_df.index = monthly_rentals_df.index.strftime('%Y-%m')\n",
        "monthly_rentals_df = monthly_rentals_df.reset_index()\n",
        "monthly_rentals_df.rename(columns={\n",
        "    \"dteday\": \"month\",\n",
        "    \"cnt\": \"total_rentals\"\n",
        "}, inplace=True)\n",
        "print(monthly_rentals_df.head())\n"
      ]
    },
    {
      "cell_type": "code",
      "execution_count": 27,
      "metadata": {},
      "outputs": [
        {
          "name": "stderr",
          "output_type": "stream",
          "text": [
            "C:\\Users\\User\\AppData\\Local\\Temp\\ipykernel_10312\\3057202937.py:5: FutureWarning: The default of observed=False is deprecated and will be changed to True in a future version of pandas. Pass observed=False to retain current behavior or observed=True to adopt the future default and silence this warning.\n",
            "  grouped_data = monthly_rentals_df.groupby(var)[\"total_rentals\"].sum().reset_index()\n",
            "C:\\Users\\User\\AppData\\Local\\Temp\\ipykernel_10312\\3057202937.py:5: FutureWarning: The default of observed=False is deprecated and will be changed to True in a future version of pandas. Pass observed=False to retain current behavior or observed=True to adopt the future default and silence this warning.\n",
            "  grouped_data = monthly_rentals_df.groupby(var)[\"total_rentals\"].sum().reset_index()\n",
            "C:\\Users\\User\\AppData\\Local\\Temp\\ipykernel_10312\\3057202937.py:5: FutureWarning: The default of observed=False is deprecated and will be changed to True in a future version of pandas. Pass observed=False to retain current behavior or observed=True to adopt the future default and silence this warning.\n",
            "  grouped_data = monthly_rentals_df.groupby(var)[\"total_rentals\"].sum().reset_index()\n",
            "C:\\Users\\User\\AppData\\Local\\Temp\\ipykernel_10312\\3057202937.py:5: FutureWarning: The default of observed=False is deprecated and will be changed to True in a future version of pandas. Pass observed=False to retain current behavior or observed=True to adopt the future default and silence this warning.\n",
            "  grouped_data = monthly_rentals_df.groupby(var)[\"total_rentals\"].sum().reset_index()\n",
            "C:\\Users\\User\\AppData\\Local\\Temp\\ipykernel_10312\\3057202937.py:5: FutureWarning: The default of observed=False is deprecated and will be changed to True in a future version of pandas. Pass observed=False to retain current behavior or observed=True to adopt the future default and silence this warning.\n",
            "  grouped_data = monthly_rentals_df.groupby(var)[\"total_rentals\"].sum().reset_index()\n"
          ]
        },
        {
          "data": {
            "image/png": "[encoded data removed]",
            "text/plain": [
              "<Figure size 1200x1200 with 5 Axes>"
            ]
          },
          "metadata": {},
          "output_type": "display_data"
        }
      ],
      "source": [
        "fig, axes = plt.subplots(3, 2, figsize=(12, 12))\n",
        "axes = axes.flatten()\n",
        "categorical_vars = [\"weathersit\", \"weekday\", \"workingday\", \"holiday\", \"season\"]\n",
        "for i, var in enumerate(categorical_vars):\n",
        "    grouped_data = monthly_rentals_df.groupby(var)[\"total_rentals\"].sum().reset_index()\n",
        "    axes[i].plot(grouped_data[var], grouped_data[\"total_rentals\"], marker='o', linestyle='-', color='b')\n",
        "    axes[i].set_title(f\"Total Rentals by {var.capitalize()}\")\n",
        "    axes[i].set_xlabel(var.capitalize())\n",
        "    axes[i].set_ylabel(\"Total Rentals\")\n",
        "if len(categorical_vars) % 2 != 0:\n",
        "    fig.delaxes(axes[-1])\n",
        "plt.tight_layout()\n",
        "plt.show()\n"
      ]
    },
    {
      "cell_type": "markdown",
      "metadata": {
        "id": "DgHI7CiU8DC2"
      },
      "source": [
        "### Pertanyaan 2:\n",
        "Bagaimana pengaruh dari atempt, hum, windspeed terhadap banyaknya penyewa sepeda?"
      ]
    },
    {
      "cell_type": "code",
      "execution_count": 28,
      "metadata": {
        "colab": {
          "base_uri": "https://localhost:8080/",
          "height": 542
        },
        "id": "E2YlCNG1gCJW",
        "outputId": "6909d365-0dd3-43f7-a7df-a146bd642643"
      },
      "outputs": [
        {
          "data": {
            "image/png": "[encoded data removed]",
            "text/plain": [
              "<Figure size 800x600 with 2 Axes>"
            ]
          },
          "metadata": {},
          "output_type": "display_data"
        }
      ],
      "source": [
        "plt.figure(figsize=(8, 6))\n",
        "sns.heatmap(correlation_matrix, annot=True, cmap=\"coolwarm\", linewidths=0.5)\n",
        "plt.title(\"Matriks Korelasi Variabel\")\n",
        "plt.show()"
      ]
    },
    {
      "cell_type": "markdown",
      "metadata": {},
      "source": [
        "Dari matriks korelasi di atas diperoleh:\n",
        "* Korelasi antara atemp (suhu terasa) dengan cnt (jumlah) memiliki korelasi kuat, artinya ketika suhu terasa naik maka jumlah penyewa sepeda juga akan naik\n",
        "* Korelasi antara hum (kelembaban) dengan cnt (jumlah) memiliki korelasi sangat rendah, artinya kelembaban tidak memiliki pengaruh terhadap jumlah penyewa sepeda\n",
        "* Korelasi antara windspeed (kecepatan angin) dengan cnt (jumlah) memiliki korelasi negatif tapi korelasinya rendah, artinya windspeed hanya memiliki pengaruh yang kecil terhadap jumlah penyewa sepeda, apabila windspeed naik maka akan menurunkan sedikit cnt(jumlah)"
      ]
    },
    {
      "cell_type": "markdown",
      "metadata": {},
      "source": [
        "#### Penyewaan Berdasarkan Tingkat Suhu"
      ]
    },
    {
      "cell_type": "code",
      "execution_count": 29,
      "metadata": {},
      "outputs": [
        {
          "name": "stderr",
          "output_type": "stream",
          "text": [
            "C:\\Users\\User\\AppData\\Local\\Temp\\ipykernel_10312\\1232636631.py:2: FutureWarning: \n",
            "\n",
            "Passing `palette` without assigning `hue` is deprecated and will be removed in v0.14.0. Assign the `x` variable to `hue` and set `legend=False` for the same effect.\n",
            "\n",
            "  sns.barplot(data=summary_atemp.reset_index(), x='atemp_label', y='mean', palette='coolwarm')\n"
          ]
        },
        {
          "data": {
            "image/png": "[encoded data removed]",
            "text/plain": [
              "<Figure size 800x500 with 1 Axes>"
            ]
          },
          "metadata": {},
          "output_type": "display_data"
        }
      ],
      "source": [
        "plt.figure(figsize=(8, 5))\n",
        "sns.barplot(data=summary_atemp.reset_index(), x='atemp_label', y='mean', palette='coolwarm')\n",
        "plt.title(\"Rata-rata Penyewaan Berdasarkan Kategori Suhu\")\n",
        "plt.xlabel(\"Kategori Suhu\")\n",
        "plt.ylabel(\"Rata-rata Jumlah Penyewa\")\n",
        "plt.xticks(rotation=20)\n",
        "plt.grid(axis=\"y\", linestyle=\"--\", alpha=0.7)\n",
        "plt.show()"
      ]
    },
    {
      "cell_type": "markdown",
      "metadata": {},
      "source": [
        "* Ketika suhu di atas rata-rata penyewa sepeda akan lebih banyak\n",
        "* Ketika suhu di bawah rata-rata penyewa sepeda akan menurun"
      ]
    },
    {
      "cell_type": "markdown",
      "metadata": {
        "id": "_0-36BDLklRg"
      },
      "source": [
        "**Insight:**\n",
        "- Rata-rata tertinggi penyewa sepeda terjadi ketika workingday terutama hari Jumat ketika sedang tidak holiday dengan cuaca cerah di musim gugur (Fall) dan rata rata penyewa sepeda terendah terjadi ketika  bukan workingday terutama pada hari Minggu dan holiday ketika cuaca hujan/salju di musim panas (spring) \n",
        "- korelasi suhu terasa (atempt) dengan jumlah penyewa sepeda (cnt) memiliki korelasi yang sangat kuat sehingga ketika atempt naik maka jumlah penyewa sepeda akan ikut naik terutama ketika suhu di atas rata-rata, korelasi windspeed hanya memiliki korelasi rendah dan negatif sehingga ketika windspeed naik maka penyewa sepeda akan sedikit turun, dan kelembaban (hum) tidak memiliki korelasi dengan jumlah penyewa sepeda."
      ]
    },
    {
      "cell_type": "markdown",
      "metadata": {
        "id": "9y4VUsmcYNZ5"
      },
      "source": [
        "## Analisis Lanjutan (Analisis Clustering)"
      ]
    },
    {
      "cell_type": "code",
      "execution_count": 30,
      "metadata": {},
      "outputs": [
        {
          "name": "stdout",
          "output_type": "stream",
          "text": [
            "\n",
            "Ringkasan Cluster Manual:\n",
            "+-----+---------------------------------+--------------------+-------+-------+\n",
            "|     |         cluster_manual          |        mean        |  sum  | count |\n",
            "+-----+---------------------------------+--------------------+-------+-------+\n",
            "|  0  |  3_1_4_1_0_Panas_Sedang_Pelan   | 6339.733333333334  | 95096 |  15   |\n",
            "|  1  |  3_1_3_1_0_Panas_Sedang_Pelan   | 6223.666666666667  | 74684 |  12   |\n",
            "|  2  |  3_1_5_1_0_Panas_Sedang_Pelan   |       5428.9       | 54289 |  10   |\n",
            "|  3  |  3_1_2_1_0_Panas_Sedang_Pelan   |       5862.7       | 58627 |  10   |\n",
            "|  4  |  3_1_6_0_0_Panas_Sedang_Pelan   |       5594.1       | 55941 |  10   |\n",
            "|  5  |  4_1_6_0_0_Sedang_Sedang_Pelan  | 5258.555555555556  | 47327 |   9   |\n",
            "|  6  |  3_1_1_1_0_Panas_Sedang_Pelan   | 5772.222222222223  | 51950 |   9   |\n",
            "|  7  |  3_1_0_0_0_Panas_Sedang_Pelan   | 5369.888888888889  | 48329 |   9   |\n",
            "|  8  |  2_1_6_0_0_Sedang_Sedang_Pelan  |      6858.25       | 54866 |   8   |\n",
            "|  9  |  4_1_5_1_0_Sedang_Sedang_Pelan  |      4846.125      | 38769 |   8   |\n",
            "| 10  | 4_1_0_0_0_Sedang_Sedang_Sedang  |       5174.0       | 31044 |   6   |\n",
            "| 11  |  4_1_3_1_0_Sedang_Sedang_Pelan  | 6347.333333333333  | 38084 |   6   |\n",
            "| 12  | 2_2_3_1_0_Sedang_Tinggi_Sedang  | 3226.6666666666665 | 19360 |   6   |\n",
            "| 13  |  2_1_3_1_0_Sedang_Sedang_Pelan  | 6078.833333333333  | 36473 |   6   |\n",
            "| 14  | 2_2_1_1_0_Sedang_Tinggi_Sedang  |       3352.5       | 20115 |   6   |\n",
            "| 15  | 2_1_4_1_0_Sedang_Sedang_Sedang  | 5686.666666666667  | 34120 |   6   |\n",
            "| 16  |  3_2_6_0_0_Panas_Tinggi_Sedang  | 4647.833333333333  | 27887 |   6   |\n",
            "| 17  | 1_1_0_0_0_Dingin_Sedang_Sedang  | 1852.6666666666667 | 11116 |   6   |\n",
            "| 18  |  1_1_4_1_0_Dingin_Sedang_Pelan  |       2312.4       | 11562 |   5   |\n",
            "| 19  | 4_1_6_0_0_Sedang_Sedang_Sedang  |       5893.4       | 29467 |   5   |\n",
            "| 20  | 4_1_5_1_0_Sedang_Sedang_Sedang  |       5725.4       | 28627 |   5   |\n",
            "| 21  |  2_2_0_0_0_Sedang_Tinggi_Pelan  |       4269.8       | 21349 |   5   |\n",
            "| 22  |  4_2_0_0_0_Sedang_Tinggi_Pelan  |       4036.6       | 20183 |   5   |\n",
            "| 23  |  4_1_0_0_0_Sedang_Sedang_Pelan  |       5800.6       | 29003 |   5   |\n",
            "| 24  |  2_1_0_0_0_Sedang_Sedang_Pelan  |       5701.0       | 28505 |   5   |\n",
            "| 25  |  4_2_1_1_0_Sedang_Tinggi_Pelan  |       4353.2       | 21766 |   5   |\n",
            "| 26  |  4_1_2_1_0_Sedang_Sedang_Pelan  |       5455.6       | 27278 |   5   |\n",
            "| 27  |  3_1_2_1_0_Panas_Sedang_Sedang  |       5202.0       | 26010 |   5   |\n",
            "| 28  | 1_1_0_0_0_Sedang_Sedang_Sedang  |       2962.2       | 14811 |   5   |\n",
            "| 29  | 1_1_1_1_0_Dingin_Sedang_Sedang  |       2299.8       | 11499 |   5   |\n",
            "| 30  |  2_1_5_1_0_Sedang_Sedang_Pelan  |       7345.6       | 36728 |   5   |\n",
            "| 31  |  4_1_1_1_0_Sedang_Tinggi_Pelan  |       4398.4       | 21992 |   5   |\n",
            "| 32  | 1_1_2_1_0_Dingin_Sedang_Sedang  |       2670.0       | 13350 |   5   |\n",
            "| 33  | 2_1_2_1_0_Sedang_Sedang_Sedang  |      4786.25       | 19145 |   4   |\n",
            "| 34  |  3_1_1_1_0_Panas_Sedang_Sedang  |      5020.25       | 20081 |   4   |\n",
            "| 35  |  4_2_2_1_0_Sedang_Tinggi_Pelan  |      4955.75       | 19823 |   4   |\n",
            "| 36  | 2_1_3_1_0_Sedang_Sedang_Sedang  |       4328.0       | 17312 |   4   |\n",
            "| 37  |  2_1_4_1_0_Sedang_Sedang_Pelan  |      5116.75       | 20467 |   4   |\n",
            "| 38  | 1_1_3_1_0_Sedang_Sedang_Sedang  |       3484.5       | 13938 |   4   |\n",
            "| 39  |  3_1_3_1_0_Panas_Tinggi_Pelan   |       5145.0       | 20580 |   4   |\n",
            "| 40  | 2_2_2_1_0_Sedang_Sedang_Sedang  |      4743.75       | 18975 |   4   |\n",
            "| 41  |  4_2_4_1_0_Sedang_Tinggi_Pelan  |       3966.0       | 15864 |   4   |\n",
            "| 42  |  1_1_6_0_0_Dingin_Sedang_Pelan  |      1642.75       | 6571  |   4   |\n",
            "| 43  |  3_1_6_0_0_Panas_Sedang_Sedang  |       6586.0       | 26344 |   4   |\n",
            "| 44  |  4_1_1_1_0_Sedang_Sedang_Pelan  |      6037.75       | 24151 |   4   |\n",
            "| 45  |  4_2_5_1_0_Sedang_Tinggi_Pelan  |      5067.75       | 20271 |   4   |\n",
            "| 46  | 2_1_1_1_0_Sedang_Sedang_Sedang  |      5401.75       | 21607 |   4   |\n",
            "| 47  | 1_1_5_1_0_Sedang_Sedang_Sedang  |      3132.25       | 12529 |   4   |\n",
            "| 48  | 2_1_0_0_0_Sedang_Sedang_Sedang  |      6030.75       | 24123 |   4   |\n",
            "| 49  |  1_2_5_1_0_Dingin_Sedang_Pelan  |       2536.0       | 10144 |   4   |\n",
            "| 50  |  4_1_0_0_0_Sedang_Tinggi_Pelan  |       4256.5       | 17026 |   4   |\n",
            "| 51  |  1_2_4_1_0_Sedang_Tinggi_Pelan  |      3561.25       | 14245 |   4   |\n",
            "| 52  |  1_1_0_0_0_Dingin_Sedang_Pelan  |       1342.0       | 5368  |   4   |\n",
            "| 53  | 1_1_4_1_0_Dingin_Sedang_Sedang  |       1946.5       | 7786  |   4   |\n",
            "| 54  |  2_2_6_0_0_Sedang_Tinggi_Pelan  |      4029.75       | 16119 |   4   |\n",
            "| 55  | 2_2_2_1_0_Sedang_Tinggi_Sedang  | 3709.6666666666665 | 11129 |   3   |\n",
            "| 56  | 1_2_5_1_0_Sedang_Tinggi_Sedang  | 2801.3333333333335 | 8404  |   3   |\n",
            "| 57  | 2_1_5_1_0_Sedang_Sedang_Sedang  | 5145.333333333333  | 15436 |   3   |\n",
            "| 58  |  1_2_6_0_0_Dingin_Tinggi_Pelan  |       1726.0       | 5178  |   3   |\n",
            "| 59  |  2_2_1_1_0_Sedang_Tinggi_Pelan  | 4503.333333333333  | 13510 |   3   |\n",
            "| 60  |  2_1_3_1_0_Panas_Sedang_Pelan   | 5196.666666666667  | 15590 |   3   |\n",
            "| 61  |  4_1_0_0_0_Dingin_Sedang_Pelan  | 2532.6666666666665 | 7598  |   3   |\n",
            "| 62  | 4_1_3_1_0_Sedang_Sedang_Sedang  | 5691.666666666667  | 17075 |   3   |\n",
            "| 63  | 2_1_5_1_0_Sedang_Rendah_Sedang  | 6267.333333333333  | 18802 |   3   |\n",
            "| 64  |  4_1_4_1_0_Dingin_Sedang_Pelan  |       5410.0       | 16230 |   3   |\n",
            "| 65  |  2_1_6_0_0_Panas_Sedang_Pelan   |       5861.0       | 17583 |   3   |\n",
            "| 66  |  4_1_4_1_0_Sedang_Sedang_Pelan  | 5724.666666666667  | 17174 |   3   |\n",
            "| 67  |  3_2_5_1_0_Panas_Tinggi_Sedang  |       5232.0       | 15696 |   3   |\n",
            "| 68  |  2_1_2_1_0_Panas_Sedang_Pelan   | 5213.333333333333  | 15640 |   3   |\n",
            "| 69  | 4_2_5_1_0_Sedang_Sedang_Sedang  |       3790.0       | 11370 |   3   |\n",
            "| 70  | 1_1_6_0_0_Sedang_Sedang_Sedang  |       2880.0       | 8640  |   3   |\n",
            "| 71  |  4_2_6_0_0_Sedang_Tinggi_Pelan  | 5398.666666666667  | 16196 |   3   |\n",
            "| 72  |  3_1_0_0_0_Panas_Tinggi_Sedang  | 4199.333333333333  | 12598 |   3   |\n",
            "| 73  |  1_1_3_1_0_Dingin_Sedang_Pelan  | 2595.6666666666665 | 7787  |   3   |\n",
            "| 74  |  3_1_0_0_0_Panas_Sedang_Sedang  | 5033.333333333333  | 15100 |   3   |\n",
            "| 75  |  3_1_3_1_0_Panas_Sedang_Sedang  |       5045.0       | 15135 |   3   |\n",
            "| 76  |  4_2_3_1_0_Sedang_Tinggi_Pelan  | 5124.333333333333  | 15373 |   3   |\n",
            "| 77  |  3_2_1_1_0_Panas_Sedang_Pelan   | 6096.666666666667  | 18290 |   3   |\n",
            "| 78  |  1_1_2_1_0_Sedang_Sedang_Pelan  | 3368.6666666666665 | 10106 |   3   |\n",
            "| 79  |  1_2_1_1_0_Dingin_Tinggi_Pelan  | 1909.3333333333333 | 5728  |   3   |\n",
            "| 80  |  3_1_4_1_0_Panas_Sedang_Sedang  |       5250.0       | 15750 |   3   |\n",
            "| 81  |  1_1_3_1_0_Sedang_Sedang_Pelan  |       5020.0       | 15060 |   3   |\n",
            "| 82  |  3_2_0_0_0_Panas_Tinggi_Pelan   |       5923.0       | 17769 |   3   |\n",
            "| 83  |  1_1_5_1_0_Sedang_Sedang_Pelan  | 3749.3333333333335 | 11248 |   3   |\n",
            "| 84  | 1_1_4_1_0_Sedang_Sedang_Sedang  |       3403.0       | 10209 |   3   |\n",
            "| 85  |  1_1_1_1_0_Dingin_Sedang_Pelan  |       2874.0       | 8622  |   3   |\n",
            "| 86  |  1_1_0_0_0_Sedang_Sedang_Pelan  |       2707.0       | 8121  |   3   |\n",
            "| 87  |  4_2_2_1_0_Sedang_Sedang_Pelan  | 4526.333333333333  | 13579 |   3   |\n",
            "| 88  |  2_2_4_1_0_Sedang_Tinggi_Pelan  | 5340.666666666667  | 16022 |   3   |\n",
            "| 89  | 4_3_3_1_0_Sedang_Tinggi_Sedang  | 1848.3333333333333 | 5545  |   3   |\n",
            "| 90  | 1_2_3_1_0_Dingin_Tinggi_Sedang  |       1689.0       | 5067  |   3   |\n",
            "| 91  |  4_2_4_1_0_Sedang_Sedang_Pelan  | 5186.333333333333  | 15559 |   3   |\n",
            "| 92  |  3_1_2_1_0_Sedang_Sedang_Pelan  |       6485.5       | 12971 |   2   |\n",
            "| 93  | 4_1_1_1_0_Sedang_Sedang_Sedang  |       4872.5       | 9745  |   2   |\n",
            "| 94  |  2_1_5_1_0_Panas_Tinggi_Pelan   |       5789.0       | 11578 |   2   |\n",
            "| 95  |  4_1_1_1_0_Dingin_Sedang_Pelan  |       3356.5       | 6713  |   2   |\n",
            "| 96  |  4_1_1_0_1_Sedang_Tinggi_Pelan  |       5693.0       | 11386 |   2   |\n",
            "| 97  |  3_1_4_1_0_Sedang_Sedang_Pelan  |       7762.0       | 15524 |   2   |\n",
            "| 98  |  3_1_5_1_0_Panas_Tinggi_Pelan   |       6082.5       | 12165 |   2   |\n",
            "| 99  |  2_1_4_1_0_Sedang_Tinggi_Pelan  |       5867.5       | 11735 |   2   |\n",
            "| 100 |  3_1_5_1_0_Sedang_Sedang_Pelan  |       8088.0       | 16176 |   2   |\n",
            "| 101 |  2_1_5_1_0_Sedang_Tinggi_Pelan  |       5606.5       | 11213 |   2   |\n",
            "| 102 |  3_2_5_1_0_Panas_Tinggi_Pelan   |       4440.0       | 8880  |   2   |\n",
            "| 103 |  3_2_1_1_0_Sedang_Tinggi_Pelan  |       6699.5       | 13399 |   2   |\n",
            "| 104 |  2_2_6_0_0_Sedang_Sedang_Pelan  |       3236.0       | 6472  |   2   |\n",
            "| 105 |  3_2_5_1_0_Panas_Sedang_Pelan   |       7540.5       | 15081 |   2   |\n",
            "| 106 |  3_2_6_0_0_Panas_Sedang_Pelan   |       6554.5       | 13109 |   2   |\n",
            "| 107 |  3_2_4_1_0_Panas_Tinggi_Sedang  |       4166.0       | 8332  |   2   |\n",
            "| 108 |  2_2_2_1_0_Sedang_Tinggi_Pelan  |       5594.0       | 11188 |   2   |\n",
            "| 109 | 4_1_2_1_0_Sedang_Sedang_Sedang  |       6547.5       | 13095 |   2   |\n",
            "| 110 |  2_2_2_1_0_Sedang_Sedang_Pelan  |       4472.0       | 8944  |   2   |\n",
            "| 111 |  3_2_4_1_0_Panas_Tinggi_Pelan   |       5389.5       | 10779 |   2   |\n",
            "| 112 | 2_2_5_1_0_Sedang_Tinggi_Sedang  |       1577.0       | 3154  |   2   |\n",
            "| 113 | 2_2_6_0_0_Sedang_Tinggi_Sedang  |       5135.5       | 10271 |   2   |\n",
            "| 114 |  3_1_2_1_0_Panas_Tinggi_Pelan   |       5989.5       | 11979 |   2   |\n",
            "| 115 |  3_2_3_1_0_Panas_Sedang_Pelan   |       5554.0       | 11108 |   2   |\n",
            "| 116 |  2_2_0_0_0_Panas_Sedang_Pelan   |       4825.0       | 9650  |   2   |\n",
            "| 117 |  3_1_0_0_0_Panas_Tinggi_Pelan   |       5538.5       | 11077 |   2   |\n",
            "| 118 | 2_1_6_0_0_Sedang_Sedang_Sedang  |       5968.0       | 11936 |   2   |\n",
            "| 119 |  3_1_0_0_0_Sedang_Sedang_Pelan  |       5803.5       | 11607 |   2   |\n",
            "| 120 |  3_1_1_1_0_Panas_Tinggi_Pelan   |       5378.5       | 10757 |   2   |\n",
            "| 121 |  2_2_3_1_0_Sedang_Tinggi_Pelan  |       5745.0       | 11490 |   2   |\n",
            "| 122 |  3_2_2_1_0_Panas_Tinggi_Pelan   |       6054.0       | 12108 |   2   |\n",
            "| 123 |  2_2_5_1_0_Sedang_Sedang_Pelan  |       6910.5       | 13821 |   2   |\n",
            "| 124 |  3_1_6_0_0_Panas_Tinggi_Pelan   |       4914.5       | 9829  |   2   |\n",
            "| 125 |  2_1_4_1_0_Panas_Sedang_Pelan   |       6007.5       | 12015 |   2   |\n",
            "| 126 | 1_2_3_1_0_Sedang_Tinggi_Sedang  |       2426.0       | 4852  |   2   |\n",
            "| 127 | 1_1_2_1_0_Sedang_Sedang_Sedang  |       5178.0       | 10356 |   2   |\n",
            "| 128 |  1_1_2_1_0_Sedang_Tinggi_Pelan  |       5216.0       | 10432 |   2   |\n",
            "| 129 | 1_1_3_1_0_Dingin_Sedang_Sedang  |       1732.0       | 3464  |   2   |\n",
            "| 130 | 1_2_5_1_0_Sedang_Sedang_Sedang  |       2800.0       | 5600  |   2   |\n",
            "| 131 |  1_1_4_1_0_Sedang_Sedang_Pelan  |       5627.0       | 11254 |   2   |\n",
            "| 132 | 1_2_5_1_0_Dingin_Sedang_Sedang  |       2553.5       | 5107  |   2   |\n",
            "| 133 |  1_1_5_1_0_Dingin_Sedang_Pelan  |       1583.5       | 3167  |   2   |\n",
            "| 134 | 1_1_5_1_0_Dingin_Sedang_Sedang  |       2378.5       | 4757  |   2   |\n",
            "| 135 | 1_2_4_1_0_Dingin_Sedang_Sedang  |       1960.5       | 3921  |   2   |\n",
            "| 136 |  1_2_3_1_0_Dingin_Tinggi_Pelan  |       2489.5       | 4979  |   2   |\n",
            "| 137 |  1_1_2_1_0_Dingin_Sedang_Pelan  |       1506.0       | 3012  |   2   |\n",
            "| 138 |  1_2_3_1_0_Dingin_Sedang_Pelan  |       1986.5       | 3973  |   2   |\n",
            "| 139 | 4_2_4_1_0_Sedang_Sedang_Sedang  |       3381.0       | 6762  |   2   |\n",
            "| 140 | 4_2_2_1_0_Sedang_Sedang_Sedang  |       4797.5       | 9595  |   2   |\n",
            "| 141 |  1_2_2_1_0_Sedang_Sedang_Pelan  |       2989.0       | 5978  |   2   |\n",
            "| 142 |  1_2_2_1_0_Dingin_Tinggi_Pelan  |       1021.5       | 2043  |   2   |\n",
            "| 143 |  1_2_2_1_0_Dingin_Sedang_Pelan  |       1624.0       | 3248  |   2   |\n",
            "| 144 | 4_2_2_1_0_Sedang_Tinggi_Sedang  |       2005.0       | 4010  |   2   |\n",
            "| 145 |  1_2_1_1_0_Dingin_Sedang_Pelan  |       2115.0       | 4230  |   2   |\n",
            "| 146 |  1_1_6_0_0_Sedang_Sedang_Pelan  |       4419.5       | 8839  |   2   |\n",
            "| 147 | 4_2_6_0_0_Sedang_Tinggi_Sedang  |       5140.5       | 10281 |   2   |\n",
            "| 148 |  4_2_3_1_0_Sedang_Sedang_Pelan  |       4653.0       | 9306  |   2   |\n",
            "| 149 |  1_1_1_1_0_Sedang_Tinggi_Pelan  |       3932.5       | 7865  |   2   |\n",
            "| 150 | 1_1_1_0_1_Dingin_Sedang_Sedang  |       2713.5       | 5427  |   2   |\n",
            "| 151 |  2_1_1_1_0_Sedang_Sedang_Pelan  |       3895.5       | 7791  |   2   |\n",
            "| 152 |  4_1_4_0_1_Sedang_Sedang_Pelan  |       1960.0       | 3920  |   2   |\n",
            "| 153 |  4_3_2_1_0_Sedang_Tinggi_Pelan  |       3123.0       | 6246  |   2   |\n",
            "| 154 |  4_1_3_1_0_Sedang_Tinggi_Pelan  |       4147.5       | 8295  |   2   |\n",
            "| 155 |  2_1_2_1_0_Sedang_Rendah_Pelan  |       5937.0       | 11874 |   2   |\n",
            "| 156 | 1_1_1_1_0_Sedang_Sedang_Sedang  |       4810.0       | 9620  |   2   |\n",
            "| 157 |  2_1_1_0_1_Panas_Sedang_Pelan   |       5070.5       | 10141 |   2   |\n",
            "| 158 |  2_1_1_1_0_Sedang_Tinggi_Pelan  |       4015.5       | 8031  |   2   |\n",
            "| 159 |  4_1_2_1_0_Sedang_Tinggi_Pelan  |       5405.5       | 10811 |   2   |\n",
            "| 160 |  4_1_5_1_0_Dingin_Sedang_Pelan  |       4501.5       | 9003  |   2   |\n",
            "| 161 | 4_1_6_0_0_Dingin_Sedang_Sedang  |       2733.5       | 5467  |   2   |\n",
            "| 162 | 1_3_3_1_0_Dingin_Tinggi_Sedang  |       473.5        |  947  |   2   |\n",
            "| 163 |  1_2_6_0_0_Sedang_Tinggi_Pelan  |       4410.5       | 8821  |   2   |\n",
            "| 164 |  4_3_3_1_0_Sedang_Tinggi_Pelan  |       1817.0       | 1817  |   1   |\n",
            "| 165 | 4_2_4_1_0_Sedang_Tinggi_Sedang  |       7509.0       | 7509  |   1   |\n",
            "| 166 |  3_2_2_1_0_Sedang_Tinggi_Pelan  |       3641.0       | 3641  |   1   |\n",
            "| 167 | 3_2_2_1_0_Sedang_Tinggi_Sedang  |       4073.0       | 4073  |   1   |\n",
            "| 168 | 4_3_2_1_0_Sedang_Tinggi_Sedang  |       2594.0       | 2594  |   1   |\n",
            "| 169 |  4_2_4_1_0_Panas_Tinggi_Pelan   |       7328.0       | 7328  |   1   |\n",
            "| 170 | 3_2_0_0_0_Sedang_Tinggi_Sedang  |       5255.0       | 5255  |   1   |\n",
            "| 171 |  3_2_0_0_0_Panas_Sedang_Sedang  |       4649.0       | 4649  |   1   |\n",
            "| 172 |  4_2_5_1_0_Sedang_Sedang_Pelan  |       7415.0       | 7415  |   1   |\n",
            "| 173 | 4_2_5_1_0_Sedang_Tinggi_Sedang  |       3644.0       | 3644  |   1   |\n",
            "| 174 |  3_2_1_0_1_Panas_Sedang_Pelan   |       6043.0       | 6043  |   1   |\n",
            "| 175 |  3_2_2_1_0_Panas_Sedang_Pelan   |       6290.0       | 6290  |   1   |\n",
            "| 176 | 4_3_1_1_0_Sedang_Tinggi_Sedang  |        22.0        |  22   |   1   |\n",
            "| 177 |  3_2_0_0_0_Panas_Tinggi_Sedang  |       3820.0       | 3820  |   1   |\n",
            "| 178 | 4_2_6_0_0_Dingin_Sedang_Sedang  |       2739.0       | 2739  |   1   |\n",
            "| 179 |  3_2_1_1_0_Sedang_Sedang_Pelan  |       4539.0       | 4539  |   1   |\n",
            "| 180 |  4_3_1_1_0_Sedang_Tinggi_Pelan  |       2765.0       | 2765  |   1   |\n",
            "| 181 | 4_2_6_0_0_Sedang_Sedang_Sedang  |       5138.0       | 5138  |   1   |\n",
            "| 182 |  4_2_4_1_0_Panas_Sedang_Pelan   |       7393.0       | 7393  |   1   |\n",
            "| 183 |  3_2_1_0_1_Panas_Tinggi_Sedang  |       3351.0       | 3351  |   1   |\n",
            "| 184 |  3_2_4_1_0_Sedang_Tinggi_Pelan  |       4795.0       | 4795  |   1   |\n",
            "| 185 | 4_2_3_1_0_Sedang_Tinggi_Sedang  |       2566.0       | 2566  |   1   |\n",
            "| 186 | 4_1_4_1_0_Sedang_Sedang_Sedang  |       3727.0       | 3727  |   1   |\n",
            "| 187 |  3_3_3_1_0_Sedang_Tinggi_Pelan  |       1996.0       | 1996  |   1   |\n",
            "| 188 |  3_3_4_1_0_Sedang_Tinggi_Pelan  |       1842.0       | 1842  |   1   |\n",
            "| 189 |  4_1_6_0_0_Sedang_Tinggi_Pelan  |       5409.0       | 5409  |   1   |\n",
            "| 190 | 3_3_6_0_0_Sedang_Tinggi_Sedang  |       4459.0       | 4459  |   1   |\n",
            "| 191 | 4_1_5_0_1_Sedang_Sedang_Sedang  |       3368.0       | 3368  |   1   |\n",
            "| 192 |  4_1_4_1_0_Sedang_Tinggi_Pelan  |       3974.0       | 3974  |   1   |\n",
            "| 193 | 4_1_4_1_0_Sedang_Sedang_Kencang |       4195.0       | 4195  |   1   |\n",
            "| 194 |  3_2_6_0_0_Sedang_Tinggi_Pelan  |       4511.0       | 4511  |   1   |\n",
            "| 195 | 4_1_4_1_0_Sedang_Rendah_Sedang  |       5315.0       | 5315  |   1   |\n",
            "| 196 | 4_1_4_1_0_Dingin_Sedang_Sedang  |       3322.0       | 3322  |   1   |\n",
            "| 197 | 3_1_6_0_0_Sedang_Sedang_Sedang  |       8714.0       | 8714  |   1   |\n",
            "| 198 | 4_1_3_1_0_Dingin_Sedang_Sedang  |       5260.0       | 5260  |   1   |\n",
            "| 199 |  4_1_3_1_0_Dingin_Sedang_Pelan  |       5495.0       | 5495  |   1   |\n",
            "| 200 | 4_1_2_1_0_Sedang_Tinggi_Sedang  |       4456.0       | 4456  |   1   |\n",
            "| 201 | 3_3_2_1_0_Sedang_Tinggi_Sedang  |       2710.0       | 2710  |   1   |\n",
            "| 202 |  4_2_0_0_0_Sedang_Sedang_Pelan  |       3520.0       | 3520  |   1   |\n",
            "| 203 | 4_2_3_1_0_Dingin_Sedang_Sedang  |       5035.0       | 5035  |   1   |\n",
            "| 204 | 4_2_2_1_0_Dingin_Tinggi_Sedang  |       3959.0       | 3959  |   1   |\n",
            "| 205 |  3_2_3_1_0_Sedang_Tinggi_Pelan  |       4352.0       | 4352  |   1   |\n",
            "| 206 |  3_2_4_1_0_Panas_Sedang_Sedang  |       3784.0       | 3784  |   1   |\n",
            "| 207 |  4_2_3_1_0_Dingin_Sedang_Pelan  |       5319.0       | 5319  |   1   |\n",
            "| 208 |  4_1_2_1_0_Dingin_Sedang_Pelan  |       5686.0       | 5686  |   1   |\n",
            "| 209 | 3_2_4_1_0_Sedang_Tinggi_Sedang  |       3659.0       | 3659  |   1   |\n",
            "| 210 |  3_2_5_1_0_Panas_Sedang_Sedang  |       7175.0       | 7175  |   1   |\n",
            "| 211 | 4_2_1_1_0_Sedang_Tinggi_Sedang  |       5875.0       | 5875  |   1   |\n",
            "| 212 | 4_2_0_0_0_Sedang_Sedang_Sedang  |       4459.0       | 4459  |   1   |\n",
            "| 213 |  3_2_5_1_0_Sedang_Sedang_Pelan  |       4760.0       | 4760  |   1   |\n",
            "| 214 |  3_2_5_1_0_Sedang_Tinggi_Pelan  |       3544.0       | 3544  |   1   |\n",
            "| 215 | 4_2_1_1_0_Sedang_Sedang_Sedang  |       5499.0       | 5499  |   1   |\n",
            "| 216 |  4_2_1_1_0_Sedang_Sedang_Pelan  |       6778.0       | 6778  |   1   |\n",
            "| 217 |  4_2_1_0_1_Sedang_Tinggi_Pelan  |       5478.0       | 5478  |   1   |\n",
            "| 218 | 4_2_0_0_0_Sedang_Tinggi_Sedang  |       2918.0       | 2918  |   1   |\n",
            "| 219 | 1_1_0_0_0_Dingin_Rendah_Sedang  |       3243.0       | 3243  |   1   |\n",
            "| 220 |  2_2_3_1_0_Sedang_Sedang_Pelan  |       4367.0       | 4367  |   1   |\n",
            "| 221 |  3_1_5_1_0_Panas_Sedang_Sedang  |       4991.0       | 4991  |   1   |\n",
            "| 222 | 1_2_6_0_0_Dingin_Tinggi_Sedang  |       1301.0       | 1301  |   1   |\n",
            "| 223 |  1_2_2_1_0_Sedang_Tinggi_Pelan  |       1162.0       | 1162  |   1   |\n",
            "| 224 | 1_2_2_1_0_Sedang_Tinggi_Sedang  |       2935.0       | 2935  |   1   |\n",
            "| 225 |  1_2_3_1_0_Sedang_Tinggi_Pelan  |       1834.0       | 1834  |   1   |\n",
            "| 226 |  1_2_4_1_0_Dingin_Sedang_Pelan  |       1927.0       | 1927  |   1   |\n",
            "| 227 |  1_2_4_1_0_Sedang_Sedang_Pelan  |       3761.0       | 3761  |   1   |\n",
            "| 228 |  1_2_5_1_0_Dingin_Tinggi_Pelan  |       1167.0       | 1167  |   1   |\n",
            "| 229 | 1_2_5_1_0_Sedang_Sedang_Kencang |       4569.0       | 4569  |   1   |\n",
            "| 230 |  1_2_5_1_0_Sedang_Sedang_Pelan  |       3194.0       | 3194  |   1   |\n",
            "| 231 |  1_2_5_1_0_Sedang_Tinggi_Pelan  |       4378.0       | 4378  |   1   |\n",
            "| 232 |  1_2_6_0_0_Dingin_Sedang_Pelan  |       1248.0       | 1248  |   1   |\n",
            "| 233 | 1_2_6_0_0_Dingin_Sedang_Sedang  |       959.0        |  959  |   1   |\n",
            "| 234 |  1_2_6_0_0_Sedang_Sedang_Pelan  |       4066.0       | 4066  |   1   |\n",
            "| 235 |  3_1_5_1_0_Panas_Rendah_Pelan   |       5362.0       | 5362  |   1   |\n",
            "| 236 | 1_2_6_0_0_Sedang_Tinggi_Sedang  |       2077.0       | 2077  |   1   |\n",
            "| 237 |   1_3_4_1_0_Sedang_nan_Sedang   |       623.0        |  623  |   1   |\n",
            "| 238 | 1_3_6_0_0_Dingin_Tinggi_Sedang  |       2169.0       | 2169  |   1   |\n",
            "| 239 |  2_1_0_0_0_Panas_Sedang_Pelan   |       6598.0       | 6598  |   1   |\n",
            "| 240 |  2_1_0_0_0_Panas_Sedang_Sedang  |       6591.0       | 6591  |   1   |\n",
            "| 241 |  2_1_0_0_0_Panas_Tinggi_Pelan   |       4460.0       | 4460  |   1   |\n",
            "| 242 |  2_1_0_0_0_Panas_Tinggi_Sedang  |       4788.0       | 4788  |   1   |\n",
            "| 243 | 2_1_0_0_0_Sedang_Rendah_Sedang  |       5169.0       | 5169  |   1   |\n",
            "| 244 |  2_1_0_0_0_Sedang_Tinggi_Pelan  |       4660.0       | 4660  |   1   |\n",
            "| 245 |  2_1_1_0_1_Panas_Sedang_Sedang  |       6370.0       | 6370  |   1   |\n",
            "| 246 | 2_1_1_1_0_Dingin_Rendah_Sedang  |       2028.0       | 2028  |   1   |\n",
            "| 247 |  1_2_2_0_1_Dingin_Tinggi_Pelan  |       1013.0       | 1013  |   1   |\n",
            "| 248 | 1_2_1_1_0_Sedang_Tinggi_Sedang  |       1446.0       | 1446  |   1   |\n",
            "| 249 | 1_2_1_0_1_Dingin_Sedang_Sedang  |       1107.0       | 1107  |   1   |\n",
            "| 250 |  1_2_1_0_1_Dingin_Sedang_Pelan  |       1000.0       | 1000  |   1   |\n",
            "| 251 |  1_1_0_0_0_Dingin_Tinggi_Pelan  |       1096.0       | 1096  |   1   |\n",
            "| 252 | 1_1_1_0_1_Dingin_Rendah_Sedang  |       1951.0       | 1951  |   1   |\n",
            "| 253 | 1_1_1_0_1_Sedang_Sedang_Sedang  |       1317.0       | 1317  |   1   |\n",
            "| 254 | 1_1_1_1_0_Sedang_Rendah_Kencang |       1913.0       | 1913  |   1   |\n",
            "| 255 |  1_1_1_1_0_Sedang_Sedang_Pelan  |       2046.0       | 2046  |   1   |\n",
            "| 256 | 1_1_2_1_0_Dingin_Rendah_Sedang  |       1815.0       | 1815  |   1   |\n",
            "| 257 |  1_1_2_1_0_Sedang_Rendah_Pelan  |       4363.0       | 4363  |   1   |\n",
            "| 258 | 1_1_3_1_0_Dingin_Sedang_Kencang |       3376.0       | 3376  |   1   |\n",
            "| 259 | 1_1_4_1_0_Dingin_Rendah_Sedang  |       1685.0       | 1685  |   1   |\n",
            "| 260 | 1_1_4_1_0_Sedang_Sedang_Kencang |       5382.0       | 5382  |   1   |\n",
            "| 261 | 1_1_6_0_0_Dingin_Rendah_Kencang |       2732.0       | 2732  |   1   |\n",
            "| 262 |  1_1_6_0_0_Dingin_Rendah_Pelan  |       981.0        |  981  |   1   |\n",
            "| 263 | 1_1_6_0_0_Dingin_Rendah_Sedang  |       4118.0       | 4118  |   1   |\n",
            "| 264 | 1_1_6_0_0_Dingin_Sedang_Kencang |       1749.0       | 1749  |   1   |\n",
            "| 265 | 1_1_6_0_0_Dingin_Sedang_Sedang  |       1472.0       | 1472  |   1   |\n",
            "| 266 | 1_1_6_0_0_Sedang_Rendah_Kencang |       1635.0       | 1635  |   1   |\n",
            "| 267 | 1_1_6_0_0_Sedang_Rendah_Sedang  |       3117.0       | 3117  |   1   |\n",
            "| 268 |  1_2_0_0_0_Dingin_Sedang_Pelan  |       2947.0       | 2947  |   1   |\n",
            "| 269 | 1_2_0_0_0_Dingin_Sedang_Sedang  |       2689.0       | 2689  |   1   |\n",
            "| 270 |  1_2_0_0_0_Dingin_Tinggi_Pelan  |       1977.0       | 1977  |   1   |\n",
            "| 271 | 1_2_0_0_0_Sedang_Sedang_Sedang  |       801.0        |  801  |   1   |\n",
            "| 272 |  1_2_0_0_0_Sedang_Tinggi_Pelan  |       5892.0       | 5892  |   1   |\n",
            "| 273 | 1_2_0_0_0_Sedang_Tinggi_Sedang  |       605.0        |  605  |   1   |\n",
            "| 274 |  2_1_1_1_0_Panas_Sedang_Pelan   |       4548.0       | 4548  |   1   |\n",
            "| 275 |  2_1_1_1_0_Panas_Sedang_Sedang  |       5020.0       | 5020  |   1   |\n",
            "| 276 | 2_1_1_1_0_Sedang_Rendah_Sedang  |       5585.0       | 5585  |   1   |\n",
            "| 277 |  2_2_3_1_0_Dingin_Sedang_Pelan  |       1536.0       | 1536  |   1   |\n",
            "| 278 |  2_2_3_1_0_Panas_Sedang_Sedang  |       3974.0       | 3974  |   1   |\n",
            "| 279 | 1_1_0_0_0_Dingin_Sedang_Kencang |       1529.0       | 1529  |   1   |\n",
            "| 280 | 2_2_4_1_0_Dingin_Tinggi_Sedang  |       1865.0       | 1865  |   1   |\n",
            "| 281 |  2_2_4_1_0_Panas_Sedang_Pelan   |       3915.0       | 3915  |   1   |\n",
            "| 282 | 2_2_4_1_0_Sedang_Sedang_Sedang  |       3767.0       | 3767  |   1   |\n",
            "| 283 | 2_2_4_1_0_Sedang_Tinggi_Sedang  |       4058.0       | 4058  |   1   |\n",
            "| 284 | 2_2_5_1_0_Dingin_Sedang_Sedang  |       2227.0       | 2227  |   1   |\n",
            "| 285 |  2_2_5_1_0_Panas_Tinggi_Sedang  |       4127.0       | 4127  |   1   |\n",
            "| 286 |  2_2_5_1_0_Sedang_Tinggi_Pelan  |       4105.0       | 4105  |   1   |\n",
            "| 287 | 2_3_0_0_0_Sedang_Tinggi_Sedang  |       1027.0       | 1027  |   1   |\n",
            "| 288 | 2_3_4_1_0_Dingin_Tinggi_Sedang  |       1685.0       | 1685  |   1   |\n",
            "| 289 | 2_3_6_0_0_Sedang_Tinggi_Sedang  |       795.0        |  795  |   1   |\n",
            "| 290 | 3_1_0_0_0_Sedang_Sedang_Sedang  |       8227.0       | 8227  |   1   |\n",
            "| 291 |  3_1_1_0_1_Panas_Tinggi_Pelan   |       6034.0       | 6034  |   1   |\n",
            "| 292 |  3_1_1_1_0_Panas_Tinggi_Sedang  |       4338.0       | 4338  |   1   |\n",
            "| 293 | 3_1_1_1_0_Sedang_Sedang_Sedang  |       7525.0       | 7525  |   1   |\n",
            "| 294 |  3_1_2_1_0_Panas_Tinggi_Sedang  |       6864.0       | 6864  |   1   |\n",
            "| 295 | 3_1_2_1_0_Sedang_Rendah_Sedang  |       7442.0       | 7442  |   1   |\n",
            "| 296 |  3_1_3_0_1_Panas_Sedang_Pelan   |       7403.0       | 7403  |   1   |\n",
            "| 297 |  3_1_3_1_0_Panas_Rendah_Sedang  |       7335.0       | 7335  |   1   |\n",
            "| 298 |  3_1_3_1_0_Sedang_Sedang_Pelan  |       7870.0       | 7870  |   1   |\n",
            "| 299 | 3_1_3_1_0_Sedang_Sedang_Sedang  |       7591.0       | 7591  |   1   |\n",
            "| 300 | 3_1_5_1_0_Dingin_Sedang_Sedang  |       7148.0       | 7148  |   1   |\n",
            "| 301 |  2_2_3_1_0_Panas_Sedang_Pelan   |       6855.0       | 6855  |   1   |\n",
            "| 302 |  2_2_2_1_0_Panas_Tinggi_Sedang  |       4492.0       | 4492  |   1   |\n",
            "| 303 | 2_1_2_1_0_Dingin_Rendah_Sedang  |       2425.0       | 2425  |   1   |\n",
            "| 304 | 2_2_1_1_0_Sedang_Sedang_Sedang  |       6273.0       | 6273  |   1   |\n",
            "| 305 |  2_1_2_1_0_Panas_Sedang_Sedang  |       5743.0       | 5743  |   1   |\n",
            "| 306 | 2_1_2_1_0_Sedang_Rendah_Sedang  |       6691.0       | 6691  |   1   |\n",
            "| 307 |  2_1_2_1_0_Sedang_Sedang_Pelan  |       4803.0       | 4803  |   1   |\n",
            "| 308 | 2_1_2_1_0_Sedang_Tinggi_Sedang  |       4400.0       | 4400  |   1   |\n",
            "| 309 |  2_1_3_1_0_Panas_Sedang_Sedang  |       7421.0       | 7421  |   1   |\n",
            "| 310 |  2_1_3_1_0_Sedang_Tinggi_Pelan  |       6169.0       | 6169  |   1   |\n",
            "| 311 |  2_1_4_1_0_Panas_Rendah_Sedang  |       4968.0       | 4968  |   1   |\n",
            "| 312 |  2_1_4_1_0_Panas_Sedang_Sedang  |       7363.0       | 7363  |   1   |\n",
            "| 313 |  2_1_4_1_0_Panas_Tinggi_Pelan   |       6770.0       | 6770  |   1   |\n",
            "| 314 | 2_1_4_1_0_Sedang_Rendah_Sedang  |       6457.0       | 6457  |   1   |\n",
            "| 315 | 2_1_5_0_1_Sedang_Sedang_Sedang  |       3126.0       | 3126  |   1   |\n",
            "| 316 | 2_1_5_1_0_Dingin_Sedang_Sedang  |       2210.0       | 2210  |   1   |\n",
            "| 317 |  2_1_5_1_0_Panas_Sedang_Pelan   |       4586.0       | 4586  |   1   |\n",
            "| 318 |  2_1_5_1_0_Panas_Sedang_Sedang  |       4679.0       | 4679  |   1   |\n",
            "| 319 | 2_1_6_0_0_Dingin_Rendah_Sedang  |       2496.0       | 2496  |   1   |\n",
            "| 320 |  2_1_6_0_0_Panas_Tinggi_Pelan   |       6536.0       | 6536  |   1   |\n",
            "| 321 |  2_1_6_0_0_Panas_Tinggi_Sedang  |       4758.0       | 4758  |   1   |\n",
            "| 322 | 2_1_6_0_0_Sedang_Rendah_Sedang  |       6857.0       | 6857  |   1   |\n",
            "| 323 |  2_2_0_0_0_Dingin_Sedang_Pelan  |       1693.0       | 1693  |   1   |\n",
            "| 324 |  2_2_0_0_0_Sedang_Sedang_Pelan  |       6041.0       | 6041  |   1   |\n",
            "| 325 | 2_2_0_0_0_Sedang_Tinggi_Sedang  |       4996.0       | 4996  |   1   |\n",
            "| 326 |  2_2_1_1_0_Panas_Sedang_Sedang  |       6664.0       | 6664  |   1   |\n",
            "| 327 |  2_2_1_1_0_Sedang_Sedang_Pelan  |       5572.0       | 5572  |   1   |\n",
            "| 328 | 4_3_6_0_0_Dingin_Tinggi_Sedang  |       627.0        |  627  |   1   |\n",
            "+-----+---------------------------------+--------------------+-------+-------+\n"
          ]
        }
      ],
      "source": [
        "MNDday_df['suhu_kategori'] = pd.cut(MNDday_df['atemp'], bins=[0, 0.3, 0.6, 1], labels=['Dingin', 'Sedang', 'Panas'])\n",
        "MNDday_df['kelembaban_kategori'] = pd.cut(MNDday_df['hum'], bins=[0, 0.4, 0.7, 1], labels=['Rendah', 'Sedang', 'Tinggi'])\n",
        "MNDday_df['angin_kategori'] = pd.cut(MNDday_df['windspeed'], bins=[0, 0.2, 0.4, 1], labels=['Pelan', 'Sedang', 'Kencang'])\n",
        "\n",
        "# Gabung kategori ke satu kolom cluster\n",
        "MNDday_df['cluster_manual'] = MNDday_df['season'].astype(str) + \"_\" + MNDday_df['weathersit'].astype(str) + \"_\" + \\\n",
        "                               MNDday_df['weekday'].astype(str) + \"_\" + MNDday_df['workingday'].astype(str) + \"_\" + \\\n",
        "                               MNDday_df['holiday'].astype(str) + \"_\" + MNDday_df['suhu_kategori'].astype(str) + \"_\" + \\\n",
        "                               MNDday_df['kelembaban_kategori'].astype(str) + \"_\" + MNDday_df['angin_kategori'].astype(str)\n",
        "\n",
        "# Buat ringkasan cluster\n",
        "summary_cluster = MNDday_df.groupby('cluster_manual')['cnt'].agg(['mean', 'sum', 'count']).sort_values('count', ascending=False)\n",
        "\n",
        "# Ubah ke format tabel lebih rapi\n",
        "print(\"\\nRingkasan Cluster Manual:\")\n",
        "from tabulate import tabulate\n",
        "print(tabulate(summary_cluster.reset_index(), headers='keys', tablefmt='pretty'))\n"
      ]
    },
    {
      "cell_type": "markdown",
      "metadata": {
        "id": "LXwJSOEtb1v3"
      },
      "source": [
        "**Insight:**\n",
        "- Penyewa sepeda tertinggi terjadi ketika cuaca cerah dengan, suhunya panas, workingday, bukan holiday dan musim gugur. Kelembaban dan angin tidak terlalu berpengaruh.\n",
        "- Penyewa sepeda terendah terjadi ketika cuaca hujan/salju, suhunya dingin, weekend, holiday, dan musim semi"
      ]
    },
    {
      "cell_type": "markdown",
      "metadata": {
        "id": "_WeHlCeX8DC2"
      },
      "source": [
        "## Conclusion"
      ]
    },
    {
      "cell_type": "markdown",
      "metadata": {
        "id": "ZTcyR48Y8DC2"
      },
      "source": [
        "- **Conclution pertanyaan 1**\n",
        "Dari seluruh proses analisis data yang telah dilakukan kita dapat disimpulkan bahwa penyewa sepeda tertinggi terjadi ketika workingday (tidak dalam masa holiday) terutama pada hari Jumat ketika cuaca cerah di musim gugur(Fall). Penyewaan sepeda terendah terjadi ketika bukan workingday (holiday) terutama hari Minggu ketika cuaca hujan/salju ringan di musim gugur (Fall) \n",
        "- **Conclution pertanyaan 2**\n",
        "Dari seluruh proses analisis data yang telah dilakukan kita dapat disiimpulkan bahwa atemp memiliki pengaruh yang kuat terhadap jumlah penyewa sepeda, semakin tinggi atempt maka semakin tinggi pula jumlah penyewa sepeda, windspeed hanya memiliki korelasi lemah dan negatif artinya setiap windspeed meningkat akan sedikit menurunkan jumlah penyewa sepeda, dan kelembaban (hum) tidak memiliki korelasi dengan jumlah penyewa sepeda."
      ]
    },
    {
      "cell_type": "code",
      "execution_count": 31,
      "metadata": {
        "id": "CM8iUtskn_HH"
      },
      "outputs": [],
      "source": [
        "MNDday_df.to_csv(\"MNDday_df.csv\", index=False)"
      ]
    },
    {
      "cell_type": "code",
      "execution_count": 32,
      "metadata": {},
      "outputs": [
        {
          "name": "stdout",
          "output_type": "stream",
          "text": [
            "Note: you may need to restart the kernel to use updated packages.\n"
          ]
        }
      ],
      "source": [
        "pip freeze > requirements.txt"
      ]
    }
  ],
  "metadata": {
    "colab": {
      "provenance": []
    },
    "kernelspec": {
      "display_name": "Python 3",
      "name": "python3"
    },
    "language_info": {
      "codemirror_mode": {
        "name": "ipython",
        "version": 3
      },
      "file_extension": ".py",
      "mimetype": "text/x-python",
      "name": "python",
      "nbconvert_exporter": "python",
      "pygments_lexer": "ipython3",
      "version": "3.13.0"
    }
  },
  "nbformat": 4,
  "nbformat_minor": 0
}
