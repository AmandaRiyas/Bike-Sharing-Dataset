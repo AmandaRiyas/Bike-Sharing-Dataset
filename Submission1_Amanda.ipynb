{
  "cells": [
    {
      "cell_type": "markdown",
      "metadata": {
        "id": "H9wADwK78DCz"
      },
      "source": [
        "# Proyek Analisis Data: [Bike Sharing Dataset]\n",
        "- **Nama:** [Amanda Riyas Utami]\n",
        "- **Email:** [amandariyas12@gmail.com]\n",
        "- **ID Dicoding:** [MC223D5X0901]"
      ]
    },
    {
      "cell_type": "markdown",
      "metadata": {
        "id": "eE0raob58DC0"
      },
      "source": [
        "## Menentukan Pertanyaan Bisnis"
      ]
    },
    {
      "cell_type": "markdown",
      "metadata": {
        "id": "GmQeQ5YF8DC0"
      },
      "source": [
        "- Bagaimana pola penyewaan sepeda berdasarkan kondisi cuaca, weekday, workingday, holiday, dan season?\n",
        "- Bagaimana pengaruh dari atempt, hum, windspeed terhadap banyaknya penyewa sepeda?"
      ]
    },
    {
      "cell_type": "markdown",
      "metadata": {
        "id": "H-z4QGlO8DC1"
      },
      "source": [
        "## Import Semua Packages/Library yang Digunakan"
      ]
    },
    {
      "cell_type": "code",
      "execution_count": 2,
      "metadata": {
        "id": "FVYwaObI8DC1"
      },
      "outputs": [],
      "source": [
        "import numpy as np\n",
        "import pandas as pd\n",
        "import matplotlib.pyplot as plt\n",
        "import seaborn as sns\n",
        "import streamlit as st"
      ]
    },
    {
      "cell_type": "markdown",
      "metadata": {
        "id": "h_Sh51Xy8DC1"
      },
      "source": [
        "## Data Wrangling"
      ]
    },
    {
      "cell_type": "markdown",
      "metadata": {
        "id": "sXU2GBYu8DC1"
      },
      "source": [
        "### Gathering Data"
      ]
    },
    {
      "cell_type": "code",
      "execution_count": 3,
      "metadata": {
        "colab": {
          "base_uri": "https://localhost:8080/",
          "height": 313
        },
        "id": "zjCBk1BI8DC1",
        "outputId": "35496b7d-733a-40af-e9b9-909186903664"
      },
      "outputs": [
        {
          "data": {
            "text/html": [
              "<div>\n",
              "<style scoped>\n",
              "    .dataframe tbody tr th:only-of-type {\n",
              "        vertical-align: middle;\n",
              "    }\n",
              "\n",
              "    .dataframe tbody tr th {\n",
              "        vertical-align: top;\n",
              "    }\n",
              "\n",
              "    .dataframe thead th {\n",
              "        text-align: right;\n",
              "    }\n",
              "</style>\n",
              "<table border=\"1\" class=\"dataframe\">\n",
              "  <thead>\n",
              "    <tr style=\"text-align: right;\">\n",
              "      <th></th>\n",
              "      <th>instant</th>\n",
              "      <th>dteday</th>\n",
              "      <th>season</th>\n",
              "      <th>yr</th>\n",
              "      <th>mnth</th>\n",
              "      <th>holiday</th>\n",
              "      <th>weekday</th>\n",
              "      <th>workingday</th>\n",
              "      <th>weathersit</th>\n",
              "      <th>temp</th>\n",
              "      <th>atemp</th>\n",
              "      <th>hum</th>\n",
              "      <th>windspeed</th>\n",
              "      <th>casual</th>\n",
              "      <th>registered</th>\n",
              "      <th>cnt</th>\n",
              "    </tr>\n",
              "  </thead>\n",
              "  <tbody>\n",
              "    <tr>\n",
              "      <th>0</th>\n",
              "      <td>1</td>\n",
              "      <td>2011-01-01</td>\n",
              "      <td>1</td>\n",
              "      <td>0</td>\n",
              "      <td>1</td>\n",
              "      <td>0</td>\n",
              "      <td>6</td>\n",
              "      <td>0</td>\n",
              "      <td>2</td>\n",
              "      <td>0.344167</td>\n",
              "      <td>0.363625</td>\n",
              "      <td>0.805833</td>\n",
              "      <td>0.160446</td>\n",
              "      <td>331</td>\n",
              "      <td>654</td>\n",
              "      <td>985</td>\n",
              "    </tr>\n",
              "    <tr>\n",
              "      <th>1</th>\n",
              "      <td>2</td>\n",
              "      <td>2011-01-02</td>\n",
              "      <td>1</td>\n",
              "      <td>0</td>\n",
              "      <td>1</td>\n",
              "      <td>0</td>\n",
              "      <td>0</td>\n",
              "      <td>0</td>\n",
              "      <td>2</td>\n",
              "      <td>0.363478</td>\n",
              "      <td>0.353739</td>\n",
              "      <td>0.696087</td>\n",
              "      <td>0.248539</td>\n",
              "      <td>131</td>\n",
              "      <td>670</td>\n",
              "      <td>801</td>\n",
              "    </tr>\n",
              "    <tr>\n",
              "      <th>2</th>\n",
              "      <td>3</td>\n",
              "      <td>2011-01-03</td>\n",
              "      <td>1</td>\n",
              "      <td>0</td>\n",
              "      <td>1</td>\n",
              "      <td>0</td>\n",
              "      <td>1</td>\n",
              "      <td>1</td>\n",
              "      <td>1</td>\n",
              "      <td>0.196364</td>\n",
              "      <td>0.189405</td>\n",
              "      <td>0.437273</td>\n",
              "      <td>0.248309</td>\n",
              "      <td>120</td>\n",
              "      <td>1229</td>\n",
              "      <td>1349</td>\n",
              "    </tr>\n",
              "    <tr>\n",
              "      <th>3</th>\n",
              "      <td>4</td>\n",
              "      <td>2011-01-04</td>\n",
              "      <td>1</td>\n",
              "      <td>0</td>\n",
              "      <td>1</td>\n",
              "      <td>0</td>\n",
              "      <td>2</td>\n",
              "      <td>1</td>\n",
              "      <td>1</td>\n",
              "      <td>0.200000</td>\n",
              "      <td>0.212122</td>\n",
              "      <td>0.590435</td>\n",
              "      <td>0.160296</td>\n",
              "      <td>108</td>\n",
              "      <td>1454</td>\n",
              "      <td>1562</td>\n",
              "    </tr>\n",
              "    <tr>\n",
              "      <th>4</th>\n",
              "      <td>5</td>\n",
              "      <td>2011-01-05</td>\n",
              "      <td>1</td>\n",
              "      <td>0</td>\n",
              "      <td>1</td>\n",
              "      <td>0</td>\n",
              "      <td>3</td>\n",
              "      <td>1</td>\n",
              "      <td>1</td>\n",
              "      <td>0.226957</td>\n",
              "      <td>0.229270</td>\n",
              "      <td>0.436957</td>\n",
              "      <td>0.186900</td>\n",
              "      <td>82</td>\n",
              "      <td>1518</td>\n",
              "      <td>1600</td>\n",
              "    </tr>\n",
              "  </tbody>\n",
              "</table>\n",
              "</div>"
            ],
            "text/plain": [
              "   instant      dteday  season  yr  mnth  holiday  weekday  workingday  \\\n",
              "0        1  2011-01-01       1   0     1        0        6           0   \n",
              "1        2  2011-01-02       1   0     1        0        0           0   \n",
              "2        3  2011-01-03       1   0     1        0        1           1   \n",
              "3        4  2011-01-04       1   0     1        0        2           1   \n",
              "4        5  2011-01-05       1   0     1        0        3           1   \n",
              "\n",
              "   weathersit      temp     atemp       hum  windspeed  casual  registered  \\\n",
              "0           2  0.344167  0.363625  0.805833   0.160446     331         654   \n",
              "1           2  0.363478  0.353739  0.696087   0.248539     131         670   \n",
              "2           1  0.196364  0.189405  0.437273   0.248309     120        1229   \n",
              "3           1  0.200000  0.212122  0.590435   0.160296     108        1454   \n",
              "4           1  0.226957  0.229270  0.436957   0.186900      82        1518   \n",
              "\n",
              "    cnt  \n",
              "0   985  \n",
              "1   801  \n",
              "2  1349  \n",
              "3  1562  \n",
              "4  1600  "
            ]
          },
          "execution_count": 3,
          "metadata": {},
          "output_type": "execute_result"
        }
      ],
      "source": [
        "MNDday_df = pd.read_csv(\"https://raw.githubusercontent.com/AmandaRiyas/Bike-Sharing-Dataset/refs/heads/main/data/day.csv\", sep=\",\")\n",
        "MNDday_df.head()"
      ]
    },
    {
      "cell_type": "markdown",
      "metadata": {
        "id": "MMi6xGaDkbCi"
      },
      "source": [
        "**Insight:**\n",
        "- MNDday_df merupakan dataset penyewaan sepeda setiap harinya. Data ini memiliki 16 kolom yang terdiri dari instant, dteday, season, yr, mnth, holiday, weekday, workingday, weathersit, tempt, attemp, hum, windspeed, casual, registered, dan cnt.\n",
        "- Pada bagian kolom season kategori dari setiap data yaitu (1:Spring , 2:Summer, 3:Fall, 4:winter)\n",
        "- Pada bagian kolom holiday kaetegori dari setiap data yaitu (0: Tidak, 1: Ya)\n",
        "- Pada bagian kolom weekday kategori dari setiap data yaitu (0:Minggu 1:Senin, 2: Selasa, 3:Rabu, 4:Kamis, 5:Jumat, 6: Sabtu)\n",
        "- Pada bagian kolom workingday kategori dari setiap data yaitu (0:Tidak, 2: Ya)\n",
        "- Pada bagian kolom weathersit kategori dari setiap data yaitu (1:Cerah, 2:Berawan, 3: Hujan/Salju Ringan)"
      ]
    },
    {
      "cell_type": "markdown",
      "metadata": {
        "id": "FHSiqaZp8DC1"
      },
      "source": [
        "### Assessing Data"
      ]
    },
    {
      "cell_type": "markdown",
      "metadata": {
        "id": "UZtjtyIt-ixq"
      },
      "source": [
        "#### Menilai tabel `MNDday_df`"
      ]
    },
    {
      "cell_type": "code",
      "execution_count": 4,
      "metadata": {
        "colab": {
          "base_uri": "https://localhost:8080/"
        },
        "id": "ax-3tEjc9Cj1",
        "outputId": "29068415-657a-4e9d-8e67-a4184cc18b4a"
      },
      "outputs": [
        {
          "name": "stdout",
          "output_type": "stream",
          "text": [
            "<class 'pandas.core.frame.DataFrame'>\n",
            "RangeIndex: 731 entries, 0 to 730\n",
            "Data columns (total 16 columns):\n",
            " #   Column      Non-Null Count  Dtype  \n",
            "---  ------      --------------  -----  \n",
            " 0   instant     731 non-null    int64  \n",
            " 1   dteday      731 non-null    object \n",
            " 2   season      731 non-null    int64  \n",
            " 3   yr          731 non-null    int64  \n",
            " 4   mnth        731 non-null    int64  \n",
            " 5   holiday     731 non-null    int64  \n",
            " 6   weekday     731 non-null    int64  \n",
            " 7   workingday  731 non-null    int64  \n",
            " 8   weathersit  731 non-null    int64  \n",
            " 9   temp        731 non-null    float64\n",
            " 10  atemp       731 non-null    float64\n",
            " 11  hum         731 non-null    float64\n",
            " 12  windspeed   731 non-null    float64\n",
            " 13  casual      731 non-null    int64  \n",
            " 14  registered  731 non-null    int64  \n",
            " 15  cnt         731 non-null    int64  \n",
            "dtypes: float64(4), int64(11), object(1)\n",
            "memory usage: 91.5+ KB\n"
          ]
        }
      ],
      "source": [
        "MNDday_df.info()"
      ]
    },
    {
      "cell_type": "code",
      "execution_count": 5,
      "metadata": {
        "colab": {
          "base_uri": "https://localhost:8080/",
          "height": 585
        },
        "id": "L8OztJv-lshJ",
        "outputId": "8ed92eb9-7ac7-413c-99ce-ea29a9d808b7"
      },
      "outputs": [
        {
          "data": {
            "text/plain": [
              "instant       0\n",
              "dteday        0\n",
              "season        0\n",
              "yr            0\n",
              "mnth          0\n",
              "holiday       0\n",
              "weekday       0\n",
              "workingday    0\n",
              "weathersit    0\n",
              "temp          0\n",
              "atemp         0\n",
              "hum           0\n",
              "windspeed     0\n",
              "casual        0\n",
              "registered    0\n",
              "cnt           0\n",
              "dtype: int64"
            ]
          },
          "execution_count": 5,
          "metadata": {},
          "output_type": "execute_result"
        }
      ],
      "source": [
        "MNDday_df.isna().sum()"
      ]
    },
    {
      "cell_type": "code",
      "execution_count": 6,
      "metadata": {
        "colab": {
          "base_uri": "https://localhost:8080/"
        },
        "id": "y0c4LFyAnFvJ",
        "outputId": "c3136921-4cd8-4c0b-a0a4-e3f9f6b36b7f"
      },
      "outputs": [
        {
          "name": "stdout",
          "output_type": "stream",
          "text": [
            "Jumlah duplikasi:  0\n"
          ]
        }
      ],
      "source": [
        "print(\"Jumlah duplikasi: \", MNDday_df.duplicated().sum())"
      ]
    },
    {
      "cell_type": "code",
      "execution_count": 7,
      "metadata": {
        "colab": {
          "base_uri": "https://localhost:8080/",
          "height": 320
        },
        "id": "RYRdL8vMCFPM",
        "outputId": "11f894cb-8852-4404-cf1f-4576c89c2f7c"
      },
      "outputs": [
        {
          "data": {
            "text/html": [
              "<div>\n",
              "<style scoped>\n",
              "    .dataframe tbody tr th:only-of-type {\n",
              "        vertical-align: middle;\n",
              "    }\n",
              "\n",
              "    .dataframe tbody tr th {\n",
              "        vertical-align: top;\n",
              "    }\n",
              "\n",
              "    .dataframe thead th {\n",
              "        text-align: right;\n",
              "    }\n",
              "</style>\n",
              "<table border=\"1\" class=\"dataframe\">\n",
              "  <thead>\n",
              "    <tr style=\"text-align: right;\">\n",
              "      <th></th>\n",
              "      <th>instant</th>\n",
              "      <th>season</th>\n",
              "      <th>yr</th>\n",
              "      <th>mnth</th>\n",
              "      <th>holiday</th>\n",
              "      <th>weekday</th>\n",
              "      <th>workingday</th>\n",
              "      <th>weathersit</th>\n",
              "      <th>temp</th>\n",
              "      <th>atemp</th>\n",
              "      <th>hum</th>\n",
              "      <th>windspeed</th>\n",
              "      <th>casual</th>\n",
              "      <th>registered</th>\n",
              "      <th>cnt</th>\n",
              "    </tr>\n",
              "  </thead>\n",
              "  <tbody>\n",
              "    <tr>\n",
              "      <th>count</th>\n",
              "      <td>731.000000</td>\n",
              "      <td>731.000000</td>\n",
              "      <td>731.000000</td>\n",
              "      <td>731.000000</td>\n",
              "      <td>731.000000</td>\n",
              "      <td>731.000000</td>\n",
              "      <td>731.000000</td>\n",
              "      <td>731.000000</td>\n",
              "      <td>731.000000</td>\n",
              "      <td>731.000000</td>\n",
              "      <td>731.000000</td>\n",
              "      <td>731.000000</td>\n",
              "      <td>731.000000</td>\n",
              "      <td>731.000000</td>\n",
              "      <td>731.000000</td>\n",
              "    </tr>\n",
              "    <tr>\n",
              "      <th>mean</th>\n",
              "      <td>366.000000</td>\n",
              "      <td>2.496580</td>\n",
              "      <td>0.500684</td>\n",
              "      <td>6.519836</td>\n",
              "      <td>0.028728</td>\n",
              "      <td>2.997264</td>\n",
              "      <td>0.683995</td>\n",
              "      <td>1.395349</td>\n",
              "      <td>0.495385</td>\n",
              "      <td>0.474354</td>\n",
              "      <td>0.627894</td>\n",
              "      <td>0.190486</td>\n",
              "      <td>848.176471</td>\n",
              "      <td>3656.172367</td>\n",
              "      <td>4504.348837</td>\n",
              "    </tr>\n",
              "    <tr>\n",
              "      <th>std</th>\n",
              "      <td>211.165812</td>\n",
              "      <td>1.110807</td>\n",
              "      <td>0.500342</td>\n",
              "      <td>3.451913</td>\n",
              "      <td>0.167155</td>\n",
              "      <td>2.004787</td>\n",
              "      <td>0.465233</td>\n",
              "      <td>0.544894</td>\n",
              "      <td>0.183051</td>\n",
              "      <td>0.162961</td>\n",
              "      <td>0.142429</td>\n",
              "      <td>0.077498</td>\n",
              "      <td>686.622488</td>\n",
              "      <td>1560.256377</td>\n",
              "      <td>1937.211452</td>\n",
              "    </tr>\n",
              "    <tr>\n",
              "      <th>min</th>\n",
              "      <td>1.000000</td>\n",
              "      <td>1.000000</td>\n",
              "      <td>0.000000</td>\n",
              "      <td>1.000000</td>\n",
              "      <td>0.000000</td>\n",
              "      <td>0.000000</td>\n",
              "      <td>0.000000</td>\n",
              "      <td>1.000000</td>\n",
              "      <td>0.059130</td>\n",
              "      <td>0.079070</td>\n",
              "      <td>0.000000</td>\n",
              "      <td>0.022392</td>\n",
              "      <td>2.000000</td>\n",
              "      <td>20.000000</td>\n",
              "      <td>22.000000</td>\n",
              "    </tr>\n",
              "    <tr>\n",
              "      <th>25%</th>\n",
              "      <td>183.500000</td>\n",
              "      <td>2.000000</td>\n",
              "      <td>0.000000</td>\n",
              "      <td>4.000000</td>\n",
              "      <td>0.000000</td>\n",
              "      <td>1.000000</td>\n",
              "      <td>0.000000</td>\n",
              "      <td>1.000000</td>\n",
              "      <td>0.337083</td>\n",
              "      <td>0.337842</td>\n",
              "      <td>0.520000</td>\n",
              "      <td>0.134950</td>\n",
              "      <td>315.500000</td>\n",
              "      <td>2497.000000</td>\n",
              "      <td>3152.000000</td>\n",
              "    </tr>\n",
              "    <tr>\n",
              "      <th>50%</th>\n",
              "      <td>366.000000</td>\n",
              "      <td>3.000000</td>\n",
              "      <td>1.000000</td>\n",
              "      <td>7.000000</td>\n",
              "      <td>0.000000</td>\n",
              "      <td>3.000000</td>\n",
              "      <td>1.000000</td>\n",
              "      <td>1.000000</td>\n",
              "      <td>0.498333</td>\n",
              "      <td>0.486733</td>\n",
              "      <td>0.626667</td>\n",
              "      <td>0.180975</td>\n",
              "      <td>713.000000</td>\n",
              "      <td>3662.000000</td>\n",
              "      <td>4548.000000</td>\n",
              "    </tr>\n",
              "    <tr>\n",
              "      <th>75%</th>\n",
              "      <td>548.500000</td>\n",
              "      <td>3.000000</td>\n",
              "      <td>1.000000</td>\n",
              "      <td>10.000000</td>\n",
              "      <td>0.000000</td>\n",
              "      <td>5.000000</td>\n",
              "      <td>1.000000</td>\n",
              "      <td>2.000000</td>\n",
              "      <td>0.655417</td>\n",
              "      <td>0.608602</td>\n",
              "      <td>0.730209</td>\n",
              "      <td>0.233214</td>\n",
              "      <td>1096.000000</td>\n",
              "      <td>4776.500000</td>\n",
              "      <td>5956.000000</td>\n",
              "    </tr>\n",
              "    <tr>\n",
              "      <th>max</th>\n",
              "      <td>731.000000</td>\n",
              "      <td>4.000000</td>\n",
              "      <td>1.000000</td>\n",
              "      <td>12.000000</td>\n",
              "      <td>1.000000</td>\n",
              "      <td>6.000000</td>\n",
              "      <td>1.000000</td>\n",
              "      <td>3.000000</td>\n",
              "      <td>0.861667</td>\n",
              "      <td>0.840896</td>\n",
              "      <td>0.972500</td>\n",
              "      <td>0.507463</td>\n",
              "      <td>3410.000000</td>\n",
              "      <td>6946.000000</td>\n",
              "      <td>8714.000000</td>\n",
              "    </tr>\n",
              "  </tbody>\n",
              "</table>\n",
              "</div>"
            ],
            "text/plain": [
              "          instant      season          yr        mnth     holiday     weekday  \\\n",
              "count  731.000000  731.000000  731.000000  731.000000  731.000000  731.000000   \n",
              "mean   366.000000    2.496580    0.500684    6.519836    0.028728    2.997264   \n",
              "std    211.165812    1.110807    0.500342    3.451913    0.167155    2.004787   \n",
              "min      1.000000    1.000000    0.000000    1.000000    0.000000    0.000000   \n",
              "25%    183.500000    2.000000    0.000000    4.000000    0.000000    1.000000   \n",
              "50%    366.000000    3.000000    1.000000    7.000000    0.000000    3.000000   \n",
              "75%    548.500000    3.000000    1.000000   10.000000    0.000000    5.000000   \n",
              "max    731.000000    4.000000    1.000000   12.000000    1.000000    6.000000   \n",
              "\n",
              "       workingday  weathersit        temp       atemp         hum   windspeed  \\\n",
              "count  731.000000  731.000000  731.000000  731.000000  731.000000  731.000000   \n",
              "mean     0.683995    1.395349    0.495385    0.474354    0.627894    0.190486   \n",
              "std      0.465233    0.544894    0.183051    0.162961    0.142429    0.077498   \n",
              "min      0.000000    1.000000    0.059130    0.079070    0.000000    0.022392   \n",
              "25%      0.000000    1.000000    0.337083    0.337842    0.520000    0.134950   \n",
              "50%      1.000000    1.000000    0.498333    0.486733    0.626667    0.180975   \n",
              "75%      1.000000    2.000000    0.655417    0.608602    0.730209    0.233214   \n",
              "max      1.000000    3.000000    0.861667    0.840896    0.972500    0.507463   \n",
              "\n",
              "            casual   registered          cnt  \n",
              "count   731.000000   731.000000   731.000000  \n",
              "mean    848.176471  3656.172367  4504.348837  \n",
              "std     686.622488  1560.256377  1937.211452  \n",
              "min       2.000000    20.000000    22.000000  \n",
              "25%     315.500000  2497.000000  3152.000000  \n",
              "50%     713.000000  3662.000000  4548.000000  \n",
              "75%    1096.000000  4776.500000  5956.000000  \n",
              "max    3410.000000  6946.000000  8714.000000  "
            ]
          },
          "execution_count": 7,
          "metadata": {},
          "output_type": "execute_result"
        }
      ],
      "source": [
        "MNDday_df.describe()"
      ]
    },
    {
      "cell_type": "markdown",
      "metadata": {
        "id": "7dtxhAPrkhPL"
      },
      "source": [
        "**Insight:**\n",
        "- Dari data \"MNDday_df\" setelah di cek tidak ada missing value, duplicate data, maupun innacurate value\n",
        "- Data \"MNDday_df\" terdapat kesalahan pada tipe data bagian dteday yang harusnya bertipe datetime dan (season, yr, mnth, holiday, weekday, workingday, dan weathersit) yang harusnya category."
      ]
    },
    {
      "cell_type": "markdown",
      "metadata": {
        "id": "EhN5R4hr8DC1"
      },
      "source": [
        "### Cleaning Data"
      ]
    },
    {
      "cell_type": "markdown",
      "metadata": {
        "id": "42OziWAgaPuF"
      },
      "source": [
        "#### Cleaning tabel `MNDday_df`"
      ]
    },
    {
      "cell_type": "code",
      "execution_count": 8,
      "metadata": {
        "colab": {
          "base_uri": "https://localhost:8080/"
        },
        "id": "Px1Yupi7gA6F",
        "outputId": "c73b91b1-c894-42ed-e5b6-0e04ef8b7afe"
      },
      "outputs": [
        {
          "name": "stdout",
          "output_type": "stream",
          "text": [
            "<class 'pandas.core.frame.DataFrame'>\n",
            "RangeIndex: 731 entries, 0 to 730\n",
            "Data columns (total 16 columns):\n",
            " #   Column      Non-Null Count  Dtype         \n",
            "---  ------      --------------  -----         \n",
            " 0   instant     731 non-null    int64         \n",
            " 1   dteday      731 non-null    datetime64[ns]\n",
            " 2   season      731 non-null    int64         \n",
            " 3   yr          731 non-null    int64         \n",
            " 4   mnth        731 non-null    int64         \n",
            " 5   holiday     731 non-null    int64         \n",
            " 6   weekday     731 non-null    int64         \n",
            " 7   workingday  731 non-null    int64         \n",
            " 8   weathersit  731 non-null    int64         \n",
            " 9   temp        731 non-null    float64       \n",
            " 10  atemp       731 non-null    float64       \n",
            " 11  hum         731 non-null    float64       \n",
            " 12  windspeed   731 non-null    float64       \n",
            " 13  casual      731 non-null    int64         \n",
            " 14  registered  731 non-null    int64         \n",
            " 15  cnt         731 non-null    int64         \n",
            "dtypes: datetime64[ns](1), float64(4), int64(11)\n",
            "memory usage: 91.5 KB\n"
          ]
        }
      ],
      "source": [
        "# Mengganti tipe data dteday dari object menjadi datetimes\n",
        "datetime_columns = [\"dteday\"]\n",
        "\n",
        "for column in datetime_columns:\n",
        "  MNDday_df[column] = pd.to_datetime(MNDday_df[column])\n",
        "MNDday_df.info()"
      ]
    },
    {
      "cell_type": "code",
      "execution_count": 9,
      "metadata": {
        "colab": {
          "base_uri": "https://localhost:8080/"
        },
        "id": "Q5uAh7DpgkIy",
        "outputId": "07cd8588-decf-4f36-c64e-82458dfa497f"
      },
      "outputs": [
        {
          "name": "stdout",
          "output_type": "stream",
          "text": [
            "<class 'pandas.core.frame.DataFrame'>\n",
            "RangeIndex: 731 entries, 0 to 730\n",
            "Data columns (total 16 columns):\n",
            " #   Column      Non-Null Count  Dtype         \n",
            "---  ------      --------------  -----         \n",
            " 0   instant     731 non-null    int64         \n",
            " 1   dteday      731 non-null    datetime64[ns]\n",
            " 2   season      731 non-null    category      \n",
            " 3   yr          731 non-null    category      \n",
            " 4   mnth        731 non-null    category      \n",
            " 5   holiday     731 non-null    category      \n",
            " 6   weekday     731 non-null    category      \n",
            " 7   workingday  731 non-null    category      \n",
            " 8   weathersit  731 non-null    category      \n",
            " 9   temp        731 non-null    float64       \n",
            " 10  atemp       731 non-null    float64       \n",
            " 11  hum         731 non-null    float64       \n",
            " 12  windspeed   731 non-null    float64       \n",
            " 13  casual      731 non-null    int64         \n",
            " 14  registered  731 non-null    int64         \n",
            " 15  cnt         731 non-null    int64         \n",
            "dtypes: category(7), datetime64[ns](1), float64(4), int64(4)\n",
            "memory usage: 58.0 KB\n"
          ]
        }
      ],
      "source": [
        "# Mengganti tipe data season, yr, mnth, holiday, weekday, workingday, dan weathersit dari yang bertipe int menjadi category\n",
        "category_columns = [\"season\",\"yr\",\"mnth\",\"holiday\",\"weekday\",\"workingday\",\"weathersit\"]\n",
        "\n",
        "for column in category_columns:\n",
        "  MNDday_df[column] = MNDday_df[column].astype(\"category\")\n",
        "MNDday_df.info()"
      ]
    },
    {
      "cell_type": "code",
      "execution_count": 10,
      "metadata": {
        "colab": {
          "base_uri": "https://localhost:8080/",
          "height": 313
        },
        "id": "-WFSP7NiPlLK",
        "outputId": "272f79cc-10eb-42b9-dcf3-e9300b7b188e"
      },
      "outputs": [
        {
          "data": {
            "text/html": [
              "<div>\n",
              "<style scoped>\n",
              "    .dataframe tbody tr th:only-of-type {\n",
              "        vertical-align: middle;\n",
              "    }\n",
              "\n",
              "    .dataframe tbody tr th {\n",
              "        vertical-align: top;\n",
              "    }\n",
              "\n",
              "    .dataframe thead th {\n",
              "        text-align: right;\n",
              "    }\n",
              "</style>\n",
              "<table border=\"1\" class=\"dataframe\">\n",
              "  <thead>\n",
              "    <tr style=\"text-align: right;\">\n",
              "      <th></th>\n",
              "      <th>instant</th>\n",
              "      <th>dteday</th>\n",
              "      <th>season</th>\n",
              "      <th>yr</th>\n",
              "      <th>mnth</th>\n",
              "      <th>holiday</th>\n",
              "      <th>weekday</th>\n",
              "      <th>workingday</th>\n",
              "      <th>weathersit</th>\n",
              "      <th>temp</th>\n",
              "      <th>atemp</th>\n",
              "      <th>hum</th>\n",
              "      <th>windspeed</th>\n",
              "      <th>casual</th>\n",
              "      <th>registered</th>\n",
              "      <th>cnt</th>\n",
              "    </tr>\n",
              "  </thead>\n",
              "  <tbody>\n",
              "    <tr>\n",
              "      <th>0</th>\n",
              "      <td>1</td>\n",
              "      <td>2011-01-01</td>\n",
              "      <td>1</td>\n",
              "      <td>0</td>\n",
              "      <td>1</td>\n",
              "      <td>0</td>\n",
              "      <td>6</td>\n",
              "      <td>0</td>\n",
              "      <td>2</td>\n",
              "      <td>0.344167</td>\n",
              "      <td>0.363625</td>\n",
              "      <td>0.805833</td>\n",
              "      <td>0.160446</td>\n",
              "      <td>331</td>\n",
              "      <td>654</td>\n",
              "      <td>985</td>\n",
              "    </tr>\n",
              "    <tr>\n",
              "      <th>1</th>\n",
              "      <td>2</td>\n",
              "      <td>2011-01-02</td>\n",
              "      <td>1</td>\n",
              "      <td>0</td>\n",
              "      <td>1</td>\n",
              "      <td>0</td>\n",
              "      <td>0</td>\n",
              "      <td>0</td>\n",
              "      <td>2</td>\n",
              "      <td>0.363478</td>\n",
              "      <td>0.353739</td>\n",
              "      <td>0.696087</td>\n",
              "      <td>0.248539</td>\n",
              "      <td>131</td>\n",
              "      <td>670</td>\n",
              "      <td>801</td>\n",
              "    </tr>\n",
              "    <tr>\n",
              "      <th>2</th>\n",
              "      <td>3</td>\n",
              "      <td>2011-01-03</td>\n",
              "      <td>1</td>\n",
              "      <td>0</td>\n",
              "      <td>1</td>\n",
              "      <td>0</td>\n",
              "      <td>1</td>\n",
              "      <td>1</td>\n",
              "      <td>1</td>\n",
              "      <td>0.196364</td>\n",
              "      <td>0.189405</td>\n",
              "      <td>0.437273</td>\n",
              "      <td>0.248309</td>\n",
              "      <td>120</td>\n",
              "      <td>1229</td>\n",
              "      <td>1349</td>\n",
              "    </tr>\n",
              "    <tr>\n",
              "      <th>3</th>\n",
              "      <td>4</td>\n",
              "      <td>2011-01-04</td>\n",
              "      <td>1</td>\n",
              "      <td>0</td>\n",
              "      <td>1</td>\n",
              "      <td>0</td>\n",
              "      <td>2</td>\n",
              "      <td>1</td>\n",
              "      <td>1</td>\n",
              "      <td>0.200000</td>\n",
              "      <td>0.212122</td>\n",
              "      <td>0.590435</td>\n",
              "      <td>0.160296</td>\n",
              "      <td>108</td>\n",
              "      <td>1454</td>\n",
              "      <td>1562</td>\n",
              "    </tr>\n",
              "    <tr>\n",
              "      <th>4</th>\n",
              "      <td>5</td>\n",
              "      <td>2011-01-05</td>\n",
              "      <td>1</td>\n",
              "      <td>0</td>\n",
              "      <td>1</td>\n",
              "      <td>0</td>\n",
              "      <td>3</td>\n",
              "      <td>1</td>\n",
              "      <td>1</td>\n",
              "      <td>0.226957</td>\n",
              "      <td>0.229270</td>\n",
              "      <td>0.436957</td>\n",
              "      <td>0.186900</td>\n",
              "      <td>82</td>\n",
              "      <td>1518</td>\n",
              "      <td>1600</td>\n",
              "    </tr>\n",
              "  </tbody>\n",
              "</table>\n",
              "</div>"
            ],
            "text/plain": [
              "   instant     dteday season yr mnth holiday weekday workingday weathersit  \\\n",
              "0        1 2011-01-01      1  0    1       0       6          0          2   \n",
              "1        2 2011-01-02      1  0    1       0       0          0          2   \n",
              "2        3 2011-01-03      1  0    1       0       1          1          1   \n",
              "3        4 2011-01-04      1  0    1       0       2          1          1   \n",
              "4        5 2011-01-05      1  0    1       0       3          1          1   \n",
              "\n",
              "       temp     atemp       hum  windspeed  casual  registered   cnt  \n",
              "0  0.344167  0.363625  0.805833   0.160446     331         654   985  \n",
              "1  0.363478  0.353739  0.696087   0.248539     131         670   801  \n",
              "2  0.196364  0.189405  0.437273   0.248309     120        1229  1349  \n",
              "3  0.200000  0.212122  0.590435   0.160296     108        1454  1562  \n",
              "4  0.226957  0.229270  0.436957   0.186900      82        1518  1600  "
            ]
          },
          "execution_count": 10,
          "metadata": {},
          "output_type": "execute_result"
        }
      ],
      "source": [
        "MNDday_df.head()"
      ]
    },
    {
      "cell_type": "code",
      "execution_count": 11,
      "metadata": {},
      "outputs": [],
      "source": [
        "weather_mapping = {\n",
        "    1: 'Cerah',\n",
        "    2: 'Berawan',\n",
        "    3: 'Hujan/Salju ringan' \n",
        "}"
      ]
    },
    {
      "cell_type": "code",
      "execution_count": 12,
      "metadata": {},
      "outputs": [],
      "source": [
        "weekday_mapping = { \n",
        "    0: 'Minggu',\n",
        "    1: 'Senin',\n",
        "    2: 'Selasa',\n",
        "    3: 'Rabu',\n",
        "    4: 'Kamis',\n",
        "    5: 'Jumat',\n",
        "    6: 'Sabtu'\n",
        "}"
      ]
    },
    {
      "cell_type": "code",
      "execution_count": 13,
      "metadata": {},
      "outputs": [],
      "source": [
        "workingday_mapping = { \n",
        "    0: 'Tidak',\n",
        "    1: 'Ya'\n",
        "}"
      ]
    },
    {
      "cell_type": "code",
      "execution_count": 14,
      "metadata": {},
      "outputs": [],
      "source": [
        "holiday_mapping = { \n",
        "    0: 'Tidak',\n",
        "    1: 'Ya'\n",
        "}"
      ]
    },
    {
      "cell_type": "code",
      "execution_count": 15,
      "metadata": {},
      "outputs": [],
      "source": [
        "season_mapping = { \n",
        "    1: 'Spring',\n",
        "    2: 'Summer',\n",
        "    3: 'Fall',\n",
        "    4: 'Winter'\n",
        "}"
      ]
    },
    {
      "cell_type": "code",
      "execution_count": 16,
      "metadata": {},
      "outputs": [],
      "source": [
        "category_labels = {\n",
        "    \"weathersit\": {1: \"Cerah\", 2: \"Berawan\", 3: \"Hujan/Salju Ringan\"},\n",
        "    \"weekday\": {0: \"Minggu\", 1: \"Senin\", 2: \"Selasa\", 3: \"Rabu\", 4: \"Kamis\", 5: \"Jumat\", 6: \"Sabtu\"},\n",
        "    \"workingday\": {0: \"Tidak\", 1: \"Ya\"},\n",
        "    \"holiday\": {0: \"Tidak\", 1: \"Ya\"},\n",
        "    \"season\": {1: \"Spring\", 2: \"Summer\", 3: \"Fall\", 4: \"Winter\"}\n",
        "}"
      ]
    },
    {
      "cell_type": "markdown",
      "metadata": {
        "id": "Q_5ejIqckiSP"
      },
      "source": [
        "**Insight:**\n",
        "- Pada data MNDday_df kita telah melakukan penggantian tipe data pada kolom dteday yang awalnya object kemudian dirubah menjadi datetimes\n",
        "- Kita juga telah mengganti tipe data pada kolom season, yr, mnth, holiday, weekday, workingday, dan weathersit yang awalnya int64 dirubah menjadi category"
      ]
    },
    {
      "cell_type": "markdown",
      "metadata": {
        "id": "gp-Y6wU38DC1"
      },
      "source": [
        "## Exploratory Data Analysis (EDA)"
      ]
    },
    {
      "cell_type": "markdown",
      "metadata": {
        "id": "MW7WF2kr8DC1"
      },
      "source": [
        "### Explore `MNDday`"
      ]
    },
    {
      "cell_type": "code",
      "execution_count": 17,
      "metadata": {
        "colab": {
          "base_uri": "https://localhost:8080/",
          "height": 313
        },
        "id": "fCUYnnqMop7k",
        "outputId": "b8167c1c-dd5a-4a48-ac5a-9b7f24d599b6"
      },
      "outputs": [
        {
          "data": {
            "text/html": [
              "<div>\n",
              "<style scoped>\n",
              "    .dataframe tbody tr th:only-of-type {\n",
              "        vertical-align: middle;\n",
              "    }\n",
              "\n",
              "    .dataframe tbody tr th {\n",
              "        vertical-align: top;\n",
              "    }\n",
              "\n",
              "    .dataframe thead th {\n",
              "        text-align: right;\n",
              "    }\n",
              "</style>\n",
              "<table border=\"1\" class=\"dataframe\">\n",
              "  <thead>\n",
              "    <tr style=\"text-align: right;\">\n",
              "      <th></th>\n",
              "      <th>instant</th>\n",
              "      <th>dteday</th>\n",
              "      <th>season</th>\n",
              "      <th>yr</th>\n",
              "      <th>mnth</th>\n",
              "      <th>holiday</th>\n",
              "      <th>weekday</th>\n",
              "      <th>workingday</th>\n",
              "      <th>weathersit</th>\n",
              "      <th>temp</th>\n",
              "      <th>atemp</th>\n",
              "      <th>hum</th>\n",
              "      <th>windspeed</th>\n",
              "      <th>casual</th>\n",
              "      <th>registered</th>\n",
              "      <th>cnt</th>\n",
              "    </tr>\n",
              "  </thead>\n",
              "  <tbody>\n",
              "    <tr>\n",
              "      <th>345</th>\n",
              "      <td>346</td>\n",
              "      <td>2011-12-12</td>\n",
              "      <td>4</td>\n",
              "      <td>0</td>\n",
              "      <td>12</td>\n",
              "      <td>0</td>\n",
              "      <td>1</td>\n",
              "      <td>1</td>\n",
              "      <td>1</td>\n",
              "      <td>0.238333</td>\n",
              "      <td>0.270196</td>\n",
              "      <td>0.670833</td>\n",
              "      <td>0.063450</td>\n",
              "      <td>143</td>\n",
              "      <td>3167</td>\n",
              "      <td>3310</td>\n",
              "    </tr>\n",
              "    <tr>\n",
              "      <th>158</th>\n",
              "      <td>159</td>\n",
              "      <td>2011-06-08</td>\n",
              "      <td>2</td>\n",
              "      <td>0</td>\n",
              "      <td>6</td>\n",
              "      <td>0</td>\n",
              "      <td>3</td>\n",
              "      <td>1</td>\n",
              "      <td>1</td>\n",
              "      <td>0.775833</td>\n",
              "      <td>0.727279</td>\n",
              "      <td>0.622083</td>\n",
              "      <td>0.136817</td>\n",
              "      <td>676</td>\n",
              "      <td>3725</td>\n",
              "      <td>4401</td>\n",
              "    </tr>\n",
              "    <tr>\n",
              "      <th>296</th>\n",
              "      <td>297</td>\n",
              "      <td>2011-10-24</td>\n",
              "      <td>4</td>\n",
              "      <td>0</td>\n",
              "      <td>10</td>\n",
              "      <td>0</td>\n",
              "      <td>1</td>\n",
              "      <td>1</td>\n",
              "      <td>1</td>\n",
              "      <td>0.463333</td>\n",
              "      <td>0.457067</td>\n",
              "      <td>0.772083</td>\n",
              "      <td>0.118792</td>\n",
              "      <td>699</td>\n",
              "      <td>3488</td>\n",
              "      <td>4187</td>\n",
              "    </tr>\n",
              "    <tr>\n",
              "      <th>361</th>\n",
              "      <td>362</td>\n",
              "      <td>2011-12-28</td>\n",
              "      <td>1</td>\n",
              "      <td>0</td>\n",
              "      <td>12</td>\n",
              "      <td>0</td>\n",
              "      <td>3</td>\n",
              "      <td>1</td>\n",
              "      <td>1</td>\n",
              "      <td>0.299130</td>\n",
              "      <td>0.279974</td>\n",
              "      <td>0.503913</td>\n",
              "      <td>0.293961</td>\n",
              "      <td>255</td>\n",
              "      <td>2047</td>\n",
              "      <td>2302</td>\n",
              "    </tr>\n",
              "    <tr>\n",
              "      <th>682</th>\n",
              "      <td>683</td>\n",
              "      <td>2012-11-13</td>\n",
              "      <td>4</td>\n",
              "      <td>1</td>\n",
              "      <td>11</td>\n",
              "      <td>0</td>\n",
              "      <td>2</td>\n",
              "      <td>1</td>\n",
              "      <td>2</td>\n",
              "      <td>0.343333</td>\n",
              "      <td>0.323225</td>\n",
              "      <td>0.662917</td>\n",
              "      <td>0.342046</td>\n",
              "      <td>327</td>\n",
              "      <td>3767</td>\n",
              "      <td>4094</td>\n",
              "    </tr>\n",
              "  </tbody>\n",
              "</table>\n",
              "</div>"
            ],
            "text/plain": [
              "     instant     dteday season yr mnth holiday weekday workingday weathersit  \\\n",
              "345      346 2011-12-12      4  0   12       0       1          1          1   \n",
              "158      159 2011-06-08      2  0    6       0       3          1          1   \n",
              "296      297 2011-10-24      4  0   10       0       1          1          1   \n",
              "361      362 2011-12-28      1  0   12       0       3          1          1   \n",
              "682      683 2012-11-13      4  1   11       0       2          1          2   \n",
              "\n",
              "         temp     atemp       hum  windspeed  casual  registered   cnt  \n",
              "345  0.238333  0.270196  0.670833   0.063450     143        3167  3310  \n",
              "158  0.775833  0.727279  0.622083   0.136817     676        3725  4401  \n",
              "296  0.463333  0.457067  0.772083   0.118792     699        3488  4187  \n",
              "361  0.299130  0.279974  0.503913   0.293961     255        2047  2302  \n",
              "682  0.343333  0.323225  0.662917   0.342046     327        3767  4094  "
            ]
          },
          "execution_count": 17,
          "metadata": {},
          "output_type": "execute_result"
        }
      ],
      "source": [
        "MNDday_df.sample(5)"
      ]
    },
    {
      "cell_type": "code",
      "execution_count": 18,
      "metadata": {
        "colab": {
          "base_uri": "https://localhost:8080/",
          "height": 622
        },
        "id": "e9CQCZjk8DC2",
        "outputId": "ae28d8d3-6116-446f-fbd7-1c9719768207"
      },
      "outputs": [
        {
          "data": {
            "text/html": [
              "<div>\n",
              "<style scoped>\n",
              "    .dataframe tbody tr th:only-of-type {\n",
              "        vertical-align: middle;\n",
              "    }\n",
              "\n",
              "    .dataframe tbody tr th {\n",
              "        vertical-align: top;\n",
              "    }\n",
              "\n",
              "    .dataframe thead th {\n",
              "        text-align: right;\n",
              "    }\n",
              "</style>\n",
              "<table border=\"1\" class=\"dataframe\">\n",
              "  <thead>\n",
              "    <tr style=\"text-align: right;\">\n",
              "      <th></th>\n",
              "      <th>instant</th>\n",
              "      <th>dteday</th>\n",
              "      <th>season</th>\n",
              "      <th>yr</th>\n",
              "      <th>mnth</th>\n",
              "      <th>holiday</th>\n",
              "      <th>weekday</th>\n",
              "      <th>workingday</th>\n",
              "      <th>weathersit</th>\n",
              "      <th>temp</th>\n",
              "      <th>atemp</th>\n",
              "      <th>hum</th>\n",
              "      <th>windspeed</th>\n",
              "      <th>casual</th>\n",
              "      <th>registered</th>\n",
              "      <th>cnt</th>\n",
              "    </tr>\n",
              "  </thead>\n",
              "  <tbody>\n",
              "    <tr>\n",
              "      <th>count</th>\n",
              "      <td>731.000000</td>\n",
              "      <td>731</td>\n",
              "      <td>731.0</td>\n",
              "      <td>731.0</td>\n",
              "      <td>731.0</td>\n",
              "      <td>731.0</td>\n",
              "      <td>731.0</td>\n",
              "      <td>731.0</td>\n",
              "      <td>731.0</td>\n",
              "      <td>731.000000</td>\n",
              "      <td>731.000000</td>\n",
              "      <td>731.000000</td>\n",
              "      <td>731.000000</td>\n",
              "      <td>731.000000</td>\n",
              "      <td>731.000000</td>\n",
              "      <td>731.000000</td>\n",
              "    </tr>\n",
              "    <tr>\n",
              "      <th>unique</th>\n",
              "      <td>NaN</td>\n",
              "      <td>NaN</td>\n",
              "      <td>4.0</td>\n",
              "      <td>2.0</td>\n",
              "      <td>12.0</td>\n",
              "      <td>2.0</td>\n",
              "      <td>7.0</td>\n",
              "      <td>2.0</td>\n",
              "      <td>3.0</td>\n",
              "      <td>NaN</td>\n",
              "      <td>NaN</td>\n",
              "      <td>NaN</td>\n",
              "      <td>NaN</td>\n",
              "      <td>NaN</td>\n",
              "      <td>NaN</td>\n",
              "      <td>NaN</td>\n",
              "    </tr>\n",
              "    <tr>\n",
              "      <th>top</th>\n",
              "      <td>NaN</td>\n",
              "      <td>NaN</td>\n",
              "      <td>3.0</td>\n",
              "      <td>1.0</td>\n",
              "      <td>1.0</td>\n",
              "      <td>0.0</td>\n",
              "      <td>0.0</td>\n",
              "      <td>1.0</td>\n",
              "      <td>1.0</td>\n",
              "      <td>NaN</td>\n",
              "      <td>NaN</td>\n",
              "      <td>NaN</td>\n",
              "      <td>NaN</td>\n",
              "      <td>NaN</td>\n",
              "      <td>NaN</td>\n",
              "      <td>NaN</td>\n",
              "    </tr>\n",
              "    <tr>\n",
              "      <th>freq</th>\n",
              "      <td>NaN</td>\n",
              "      <td>NaN</td>\n",
              "      <td>188.0</td>\n",
              "      <td>366.0</td>\n",
              "      <td>62.0</td>\n",
              "      <td>710.0</td>\n",
              "      <td>105.0</td>\n",
              "      <td>500.0</td>\n",
              "      <td>463.0</td>\n",
              "      <td>NaN</td>\n",
              "      <td>NaN</td>\n",
              "      <td>NaN</td>\n",
              "      <td>NaN</td>\n",
              "      <td>NaN</td>\n",
              "      <td>NaN</td>\n",
              "      <td>NaN</td>\n",
              "    </tr>\n",
              "    <tr>\n",
              "      <th>mean</th>\n",
              "      <td>366.000000</td>\n",
              "      <td>2012-01-01 00:00:00</td>\n",
              "      <td>NaN</td>\n",
              "      <td>NaN</td>\n",
              "      <td>NaN</td>\n",
              "      <td>NaN</td>\n",
              "      <td>NaN</td>\n",
              "      <td>NaN</td>\n",
              "      <td>NaN</td>\n",
              "      <td>0.495385</td>\n",
              "      <td>0.474354</td>\n",
              "      <td>0.627894</td>\n",
              "      <td>0.190486</td>\n",
              "      <td>848.176471</td>\n",
              "      <td>3656.172367</td>\n",
              "      <td>4504.348837</td>\n",
              "    </tr>\n",
              "    <tr>\n",
              "      <th>min</th>\n",
              "      <td>1.000000</td>\n",
              "      <td>2011-01-01 00:00:00</td>\n",
              "      <td>NaN</td>\n",
              "      <td>NaN</td>\n",
              "      <td>NaN</td>\n",
              "      <td>NaN</td>\n",
              "      <td>NaN</td>\n",
              "      <td>NaN</td>\n",
              "      <td>NaN</td>\n",
              "      <td>0.059130</td>\n",
              "      <td>0.079070</td>\n",
              "      <td>0.000000</td>\n",
              "      <td>0.022392</td>\n",
              "      <td>2.000000</td>\n",
              "      <td>20.000000</td>\n",
              "      <td>22.000000</td>\n",
              "    </tr>\n",
              "    <tr>\n",
              "      <th>25%</th>\n",
              "      <td>183.500000</td>\n",
              "      <td>2011-07-02 12:00:00</td>\n",
              "      <td>NaN</td>\n",
              "      <td>NaN</td>\n",
              "      <td>NaN</td>\n",
              "      <td>NaN</td>\n",
              "      <td>NaN</td>\n",
              "      <td>NaN</td>\n",
              "      <td>NaN</td>\n",
              "      <td>0.337083</td>\n",
              "      <td>0.337842</td>\n",
              "      <td>0.520000</td>\n",
              "      <td>0.134950</td>\n",
              "      <td>315.500000</td>\n",
              "      <td>2497.000000</td>\n",
              "      <td>3152.000000</td>\n",
              "    </tr>\n",
              "    <tr>\n",
              "      <th>50%</th>\n",
              "      <td>366.000000</td>\n",
              "      <td>2012-01-01 00:00:00</td>\n",
              "      <td>NaN</td>\n",
              "      <td>NaN</td>\n",
              "      <td>NaN</td>\n",
              "      <td>NaN</td>\n",
              "      <td>NaN</td>\n",
              "      <td>NaN</td>\n",
              "      <td>NaN</td>\n",
              "      <td>0.498333</td>\n",
              "      <td>0.486733</td>\n",
              "      <td>0.626667</td>\n",
              "      <td>0.180975</td>\n",
              "      <td>713.000000</td>\n",
              "      <td>3662.000000</td>\n",
              "      <td>4548.000000</td>\n",
              "    </tr>\n",
              "    <tr>\n",
              "      <th>75%</th>\n",
              "      <td>548.500000</td>\n",
              "      <td>2012-07-01 12:00:00</td>\n",
              "      <td>NaN</td>\n",
              "      <td>NaN</td>\n",
              "      <td>NaN</td>\n",
              "      <td>NaN</td>\n",
              "      <td>NaN</td>\n",
              "      <td>NaN</td>\n",
              "      <td>NaN</td>\n",
              "      <td>0.655417</td>\n",
              "      <td>0.608602</td>\n",
              "      <td>0.730209</td>\n",
              "      <td>0.233214</td>\n",
              "      <td>1096.000000</td>\n",
              "      <td>4776.500000</td>\n",
              "      <td>5956.000000</td>\n",
              "    </tr>\n",
              "    <tr>\n",
              "      <th>max</th>\n",
              "      <td>731.000000</td>\n",
              "      <td>2012-12-31 00:00:00</td>\n",
              "      <td>NaN</td>\n",
              "      <td>NaN</td>\n",
              "      <td>NaN</td>\n",
              "      <td>NaN</td>\n",
              "      <td>NaN</td>\n",
              "      <td>NaN</td>\n",
              "      <td>NaN</td>\n",
              "      <td>0.861667</td>\n",
              "      <td>0.840896</td>\n",
              "      <td>0.972500</td>\n",
              "      <td>0.507463</td>\n",
              "      <td>3410.000000</td>\n",
              "      <td>6946.000000</td>\n",
              "      <td>8714.000000</td>\n",
              "    </tr>\n",
              "    <tr>\n",
              "      <th>std</th>\n",
              "      <td>211.165812</td>\n",
              "      <td>NaN</td>\n",
              "      <td>NaN</td>\n",
              "      <td>NaN</td>\n",
              "      <td>NaN</td>\n",
              "      <td>NaN</td>\n",
              "      <td>NaN</td>\n",
              "      <td>NaN</td>\n",
              "      <td>NaN</td>\n",
              "      <td>0.183051</td>\n",
              "      <td>0.162961</td>\n",
              "      <td>0.142429</td>\n",
              "      <td>0.077498</td>\n",
              "      <td>686.622488</td>\n",
              "      <td>1560.256377</td>\n",
              "      <td>1937.211452</td>\n",
              "    </tr>\n",
              "  </tbody>\n",
              "</table>\n",
              "</div>"
            ],
            "text/plain": [
              "           instant               dteday  season     yr   mnth  holiday  \\\n",
              "count   731.000000                  731   731.0  731.0  731.0    731.0   \n",
              "unique         NaN                  NaN     4.0    2.0   12.0      2.0   \n",
              "top            NaN                  NaN     3.0    1.0    1.0      0.0   \n",
              "freq           NaN                  NaN   188.0  366.0   62.0    710.0   \n",
              "mean    366.000000  2012-01-01 00:00:00     NaN    NaN    NaN      NaN   \n",
              "min       1.000000  2011-01-01 00:00:00     NaN    NaN    NaN      NaN   \n",
              "25%     183.500000  2011-07-02 12:00:00     NaN    NaN    NaN      NaN   \n",
              "50%     366.000000  2012-01-01 00:00:00     NaN    NaN    NaN      NaN   \n",
              "75%     548.500000  2012-07-01 12:00:00     NaN    NaN    NaN      NaN   \n",
              "max     731.000000  2012-12-31 00:00:00     NaN    NaN    NaN      NaN   \n",
              "std     211.165812                  NaN     NaN    NaN    NaN      NaN   \n",
              "\n",
              "        weekday  workingday  weathersit        temp       atemp         hum  \\\n",
              "count     731.0       731.0       731.0  731.000000  731.000000  731.000000   \n",
              "unique      7.0         2.0         3.0         NaN         NaN         NaN   \n",
              "top         0.0         1.0         1.0         NaN         NaN         NaN   \n",
              "freq      105.0       500.0       463.0         NaN         NaN         NaN   \n",
              "mean        NaN         NaN         NaN    0.495385    0.474354    0.627894   \n",
              "min         NaN         NaN         NaN    0.059130    0.079070    0.000000   \n",
              "25%         NaN         NaN         NaN    0.337083    0.337842    0.520000   \n",
              "50%         NaN         NaN         NaN    0.498333    0.486733    0.626667   \n",
              "75%         NaN         NaN         NaN    0.655417    0.608602    0.730209   \n",
              "max         NaN         NaN         NaN    0.861667    0.840896    0.972500   \n",
              "std         NaN         NaN         NaN    0.183051    0.162961    0.142429   \n",
              "\n",
              "         windspeed       casual   registered          cnt  \n",
              "count   731.000000   731.000000   731.000000   731.000000  \n",
              "unique         NaN          NaN          NaN          NaN  \n",
              "top            NaN          NaN          NaN          NaN  \n",
              "freq           NaN          NaN          NaN          NaN  \n",
              "mean      0.190486   848.176471  3656.172367  4504.348837  \n",
              "min       0.022392     2.000000    20.000000    22.000000  \n",
              "25%       0.134950   315.500000  2497.000000  3152.000000  \n",
              "50%       0.180975   713.000000  3662.000000  4548.000000  \n",
              "75%       0.233214  1096.000000  4776.500000  5956.000000  \n",
              "max       0.507463  3410.000000  6946.000000  8714.000000  \n",
              "std       0.077498   686.622488  1560.256377  1937.211452  "
            ]
          },
          "execution_count": 18,
          "metadata": {},
          "output_type": "execute_result"
        }
      ],
      "source": [
        "MNDday_df.describe(include=\"all\")"
      ]
    },
    {
      "cell_type": "code",
      "execution_count": 19,
      "metadata": {
        "colab": {
          "base_uri": "https://localhost:8080/"
        },
        "id": "JwjU9V7b0sUh",
        "outputId": "4cc4bf31-4e7d-48cf-9a9d-89d762e85d66"
      },
      "outputs": [
        {
          "data": {
            "text/plain": [
              "True"
            ]
          },
          "execution_count": 19,
          "metadata": {},
          "output_type": "execute_result"
        }
      ],
      "source": [
        "MNDday_df.instant.is_unique"
      ]
    },
    {
      "cell_type": "markdown",
      "metadata": {},
      "source": [
        "### Pertanyaan 1:\n",
        "Bagaimana pola penyewa sepeda berdasarkan kondisi cuaca, weekday, workingday, holiday, dan season?"
      ]
    },
    {
      "cell_type": "markdown",
      "metadata": {},
      "source": [
        "#### Berdasarkan cuaca"
      ]
    },
    {
      "cell_type": "code",
      "execution_count": 20,
      "metadata": {
        "colab": {
          "base_uri": "https://localhost:8080/"
        },
        "id": "kS2nx92M0BYv",
        "outputId": "619ae10a-f683-4b21-9c80-661d9462bc72"
      },
      "outputs": [
        {
          "name": "stdout",
          "output_type": "stream",
          "text": [
            "                    min   max         mean      sum\n",
            "cuaca                                              \n",
            "Cerah               431  8714  4876.786177  2257952\n",
            "Berawan             605  8362  4035.862348   996858\n",
            "Hujan/Salju ringan   22  4639  1803.285714    37869\n"
          ]
        },
        {
          "name": "stderr",
          "output_type": "stream",
          "text": [
            "C:\\Users\\User\\AppData\\Local\\Temp\\ipykernel_11980\\2960996034.py:2: FutureWarning: The default of observed=False is deprecated and will be changed to True in a future version of pandas. Pass observed=False to retain current behavior or observed=True to adopt the future default and silence this warning.\n",
            "  summary_cuaca = MNDday_df.groupby('cuaca')['cnt'].agg([\"min\", \"max\", \"mean\", \"sum\"])\n"
          ]
        }
      ],
      "source": [
        "MNDday_df['cuaca'] = MNDday_df['weathersit'].map(weather_mapping)\n",
        "summary_cuaca = MNDday_df.groupby('cuaca')['cnt'].agg([\"min\", \"max\", \"mean\", \"sum\"])\n",
        "print(summary_cuaca)"
      ]
    },
    {
      "cell_type": "markdown",
      "metadata": {},
      "source": [
        "* Minimum penyewa sepeda paling rendah terjadi ketika cuaca hujan/salju ringan\n",
        "* Maksimum penyewa sepeda ketika cuaca cerah\n",
        "* Rata-rata penyewa sepeda tertinggi ketika cuaca cerah dan rata-rata penyewa sepeda terendah ketika cuaca hujan/salju ringan\n",
        "* Jumlah penyewa sepeda teringgi ketika cuaca cerah dan jumlah penyewa sepeda terendah ketika cuaca hujan/salju ringan"
      ]
    },
    {
      "cell_type": "markdown",
      "metadata": {},
      "source": [
        "#### Berdasarkan weekday"
      ]
    },
    {
      "cell_type": "code",
      "execution_count": 21,
      "metadata": {},
      "outputs": [
        {
          "name": "stdout",
          "output_type": "stream",
          "text": [
            "                min   max         mean     sum\n",
            "weekday_label                                 \n",
            "Minggu          605  8227  4228.828571  444027\n",
            "Senin            22  7525  4338.123810  455503\n",
            "Selasa          683  7767  4510.663462  469109\n",
            "Rabu            441  8173  4548.538462  473048\n",
            "Kamis           431  7804  4667.259615  485395\n",
            "Jumat          1167  8362  4690.288462  487790\n",
            "Sabtu           627  8714  4550.542857  477807\n"
          ]
        },
        {
          "name": "stderr",
          "output_type": "stream",
          "text": [
            "C:\\Users\\User\\AppData\\Local\\Temp\\ipykernel_11980\\273259430.py:2: FutureWarning: The default of observed=False is deprecated and will be changed to True in a future version of pandas. Pass observed=False to retain current behavior or observed=True to adopt the future default and silence this warning.\n",
            "  summary_weekday = MNDday_df.groupby('weekday_label')['cnt'].agg([\"min\", \"max\", \"mean\", \"sum\"])\n"
          ]
        }
      ],
      "source": [
        "MNDday_df['weekday_label'] = MNDday_df['weekday'].map(weekday_mapping)\n",
        "summary_weekday = MNDday_df.groupby('weekday_label')['cnt'].agg([\"min\", \"max\", \"mean\", \"sum\"])\n",
        "print(summary_weekday)"
      ]
    },
    {
      "cell_type": "markdown",
      "metadata": {},
      "source": [
        "* Nilai minimum penyewa sepeda terjadi pada hari Senin\n",
        "* Nilai maksimum penyewa sepeda terjadi pada hari Sabtu\n",
        "* Rata-Rata penyewa sepeda tertinggi pada hari Jumat dan rata-rata terendah pada hari Minggu\n",
        "* Jumlah tertinggi penyewa sepeda pada hari Jumat dan jumlah terendah pada hari Minggu"
      ]
    },
    {
      "cell_type": "markdown",
      "metadata": {},
      "source": [
        "#### Berdasarkan workingday"
      ]
    },
    {
      "cell_type": "code",
      "execution_count": 22,
      "metadata": {},
      "outputs": [
        {
          "name": "stdout",
          "output_type": "stream",
          "text": [
            "                  min   max         mean      sum\n",
            "workingday_label                                 \n",
            "Tidak             605  8714  4330.168831  1000269\n",
            "Ya                 22  8362  4584.820000  2292410\n"
          ]
        },
        {
          "name": "stderr",
          "output_type": "stream",
          "text": [
            "C:\\Users\\User\\AppData\\Local\\Temp\\ipykernel_11980\\818483412.py:2: FutureWarning: The default of observed=False is deprecated and will be changed to True in a future version of pandas. Pass observed=False to retain current behavior or observed=True to adopt the future default and silence this warning.\n",
            "  summary_workingday = MNDday_df.groupby('workingday_label')['cnt'].agg([\"min\", \"max\", \"mean\", \"sum\"])\n"
          ]
        }
      ],
      "source": [
        "MNDday_df['workingday_label'] = MNDday_df['workingday'].map(workingday_mapping)\n",
        "summary_workingday = MNDday_df.groupby('workingday_label')['cnt'].agg([\"min\", \"max\", \"mean\", \"sum\"])\n",
        "print(summary_workingday)"
      ]
    },
    {
      "cell_type": "markdown",
      "metadata": {},
      "source": [
        "* Nilai minimum penyewa sepeda terjadi ketika workingday\n",
        "* Nilai maksimum penyewa sepeda terjadi ketika bukan workingday\n",
        "* Rata-rata penyewa sepeda tertinggi terjadi ketika workingday\n",
        "* Jumlah penyewa sepeda tertinggi terjadi ketika workingday"
      ]
    },
    {
      "cell_type": "markdown",
      "metadata": {},
      "source": [
        "#### Berdasarkan holiday"
      ]
    },
    {
      "cell_type": "code",
      "execution_count": 23,
      "metadata": {},
      "outputs": [
        {
          "name": "stdout",
          "output_type": "stream",
          "text": [
            "                min   max         mean      sum\n",
            "holiday_label                                  \n",
            "Tidak            22  8714  4527.104225  3214244\n",
            "Ya             1000  7403  3735.000000    78435\n"
          ]
        },
        {
          "name": "stderr",
          "output_type": "stream",
          "text": [
            "C:\\Users\\User\\AppData\\Local\\Temp\\ipykernel_11980\\428069493.py:2: FutureWarning: The default of observed=False is deprecated and will be changed to True in a future version of pandas. Pass observed=False to retain current behavior or observed=True to adopt the future default and silence this warning.\n",
            "  summary_holiday = MNDday_df.groupby('holiday_label')['cnt'].agg([\"min\", \"max\", \"mean\", \"sum\"])\n"
          ]
        }
      ],
      "source": [
        "MNDday_df['holiday_label'] = MNDday_df['holiday'].map(holiday_mapping)\n",
        "summary_holiday = MNDday_df.groupby('holiday_label')['cnt'].agg([\"min\", \"max\", \"mean\", \"sum\"])\n",
        "print(summary_holiday)"
      ]
    },
    {
      "cell_type": "markdown",
      "metadata": {},
      "source": [
        "* Nilai minimum sepeda yang disewa terjadi ketika bukan holiday\n",
        "* Nilai maksimum sepeda yang disewa terjadi ketika bukan holiday\n",
        "* Rata-rata tertinggi sepeda yang disewa terjadi ketika bukan holiday\n",
        "* Jumlah sepeda yang disewa tertinggi terjadi ketika bukan holiday"
      ]
    },
    {
      "cell_type": "markdown",
      "metadata": {},
      "source": [
        "#### Berdasarkan Musim"
      ]
    },
    {
      "cell_type": "code",
      "execution_count": 24,
      "metadata": {},
      "outputs": [
        {
          "name": "stdout",
          "output_type": "stream",
          "text": [
            "               min   max         mean      sum\n",
            "season_label                                  \n",
            "Spring         431  7836  2604.132597   471348\n",
            "Summer         795  8362  4992.331522   918589\n",
            "Fall          1115  8714  5644.303191  1061129\n",
            "Winter          22  8555  4728.162921   841613\n"
          ]
        },
        {
          "name": "stderr",
          "output_type": "stream",
          "text": [
            "C:\\Users\\User\\AppData\\Local\\Temp\\ipykernel_11980\\1339464233.py:2: FutureWarning: The default of observed=False is deprecated and will be changed to True in a future version of pandas. Pass observed=False to retain current behavior or observed=True to adopt the future default and silence this warning.\n",
            "  summary_season = MNDday_df.groupby('season_label')['cnt'].agg([\"min\", \"max\", \"mean\", \"sum\"])\n"
          ]
        }
      ],
      "source": [
        "MNDday_df['season_label'] = MNDday_df['season'].map(season_mapping)\n",
        "summary_season = MNDday_df.groupby('season_label')['cnt'].agg([\"min\", \"max\", \"mean\", \"sum\"])\n",
        "print(summary_season)"
      ]
    },
    {
      "cell_type": "markdown",
      "metadata": {},
      "source": [
        "* Nilai minimum sepeda yang disewa terjadi ketika musim winter\n",
        "* Nilai maksimum sepeda yang disewa terjadi ketika musim Fall\n",
        "* Rata-rata tertinggi sepeda yang disewa terjadi ketika musim Fall dan rata-rata terendah ketika musim Spring\n",
        "* Jumlah tertinggi sepeda yang disewa terjadi ketika musim Fall dan jumlah terendah ketika musim Spring"
      ]
    },
    {
      "cell_type": "markdown",
      "metadata": {},
      "source": [
        "### Pertanyaan 2:\n",
        "Bagaimana pengaruh dari atempt, hum, windspeed terhadap banyaknya penyewa sepeda?"
      ]
    },
    {
      "cell_type": "code",
      "execution_count": 25,
      "metadata": {},
      "outputs": [
        {
          "name": "stdout",
          "output_type": "stream",
          "text": [
            "              atemp       hum  windspeed       cnt\n",
            "atemp      1.000000  0.139988  -0.183643  0.631066\n",
            "hum        0.139988  1.000000  -0.248489 -0.100659\n",
            "windspeed -0.183643 -0.248489   1.000000 -0.234545\n",
            "cnt        0.631066 -0.100659  -0.234545  1.000000\n"
          ]
        }
      ],
      "source": [
        "hubungan = MNDday_df[['atemp', 'hum', 'windspeed', 'cnt']]\n",
        "correlation_matrix = hubungan.corr()\n",
        "print(correlation_matrix)"
      ]
    },
    {
      "cell_type": "markdown",
      "metadata": {},
      "source": [
        "Dari matriks korelasi di atas diperoleh:\n",
        "* Korelasi antara atemp (suhu terasa) dengan cnt (jumlah) memiliki korelasi kuat, artinya ketika suhu terasa naik maka jumlah penyewa sepeda juga akan naik\n",
        "* Korelasi antara hum (kelembaban) dengan cnt (jumlah) memiliki korelasi sangat rendah, artinya kelembaban tidak memiliki pengaruh terhadap jumlah penyewa sepeda\n",
        "* Korelasi antara windspeed (kecepatan angin) dengan cnt (jumlah) memiliki korelasi negatif tapi rendah, artinya windspeed hanya memiliki pengaruh yang kecil terhadap jumlah penyewa sepeda, apabila windspeed naik maka penyewa sepeda akan sedikit berkurang"
      ]
    },
    {
      "cell_type": "code",
      "execution_count": 26,
      "metadata": {},
      "outputs": [
        {
          "name": "stdout",
          "output_type": "stream",
          "text": [
            "Rata-rata suhu terasa: 23.72°C\n",
            "\n",
            "Contoh data suhu setelah konversi dan pelabelan:\n",
            "      atemp  atemp_actual         atemp_label\n",
            "0  0.363625      18.18125  Di Bawah Rata-rata\n",
            "1  0.353739      17.68695  Di Bawah Rata-rata\n",
            "2  0.189405       9.47025  Di Bawah Rata-rata\n",
            "3  0.212122      10.60610  Di Bawah Rata-rata\n",
            "4  0.229270      11.46350  Di Bawah Rata-rata\n",
            "5  0.233209      11.66045  Di Bawah Rata-rata\n",
            "6  0.208839      10.44195  Di Bawah Rata-rata\n",
            "7  0.162254       8.11270  Di Bawah Rata-rata\n",
            "8  0.116175       5.80875  Di Bawah Rata-rata\n",
            "9  0.150888       7.54440  Di Bawah Rata-rata\n",
            "\n",
            "Ringkasan Penyewaan Berdasarkan Suhu:\n",
            "                     min   max         mean      sum\n",
            "atemp_label                                         \n",
            "Di Atas Rata-rata   1115  8714  5662.571429  1902624\n",
            "Normal                22  8090  4891.816092   425588\n",
            "Di Bawah Rata-rata   431  7570  3131.386364   964467\n"
          ]
        }
      ],
      "source": [
        "MNDday_df['atemp_actual'] = MNDday_df['atemp'] * 50\n",
        "average_atemp = MNDday_df['atemp_actual'].mean()\n",
        "tolerance = 2\n",
        "print(f\"Rata-rata suhu terasa: {average_atemp:.2f}°C\")\n",
        "def label_temp(row):\n",
        "    if row['atemp_actual'] < (average_atemp - tolerance):\n",
        "        return 'Di Bawah Rata-rata'\n",
        "    elif (average_atemp - tolerance) <= row['atemp_actual'] <= (average_atemp + tolerance):\n",
        "        return 'Normal'\n",
        "    else:\n",
        "        return 'Di Atas Rata-rata'\n",
        "MNDday_df['atemp_label'] = MNDday_df.apply(label_temp, axis=1)\n",
        "print(\"\\nContoh data suhu setelah konversi dan pelabelan:\")\n",
        "print(MNDday_df[['atemp', 'atemp_actual', 'atemp_label']].head(10))\n",
        "summary_atemp = MNDday_df.groupby('atemp_label')['cnt'].agg([\"min\", \"max\", \"mean\", \"sum\"]).sort_values('mean', ascending=False)\n",
        "print(\"\\nRingkasan Penyewaan Berdasarkan Suhu:\")\n",
        "print(summary_atemp)"
      ]
    },
    {
      "cell_type": "markdown",
      "metadata": {},
      "source": [
        "* Ketika suhu di atas rata-rata nilai minimum penyewa sepeda adalah 1115, nilai maksimumnya 8714, dengan rata rata 5662,57 dan jumlahnya 1902624\n",
        "* Ketika suhu normal  nilai minimum penyewa sepeda adalah 22, nilai maksimumnya 8090, dengan rata rata 4891,816 dan jumlahnya 425588\n",
        "* Ketika suhu di bawah rata-rata nilai minimum penyewa sepeda adalah 431, nilai maksimumnya 7570, dengan rata rata 3131,386 dan jumlahnya 964467"
      ]
    },
    {
      "cell_type": "markdown",
      "metadata": {
        "id": "th_Lzl2Fkj9O"
      },
      "source": [
        "**Insight:**\n",
        "- Pola penyewa sepeda tertinggi terjadi pada saat working day juga tidak sedang holiday terutama pada hari Jumat ketika cuaca cerah di musim gugur (Fall). Dan penyewa sepeda terendah terjadi ketika bukan working day juga holiday terutama pada hari Minggu ketika cuaca sedang hujan/salju ringan di musim semi (Spring)\n",
        "- Atempt memiliki pengaruh yang cukup kuat dengan banyaknya penyewa sepeda, ketika atempt naik maka penyewa sepeda juga naik. Ketika atempt di atas rata-rata penyewa sepeda malah lebih banyak. Windspeed hanya memiliki pengaruh yang sangat kecil terhadap banyaknya penyewa sepeda, namun dalam pengaruh kecil negatif, jadi ketika windspeed naik maka akan sedikit menurunkan penyewa sepeda, sedangkan hum tidak memiliki pengaruh terhadap banyaknya penyewa sepeda"
      ]
    },
    {
      "cell_type": "markdown",
      "metadata": {
        "id": "zsyZjqak8DC2"
      },
      "source": [
        "## Visualization & Explanatory Analysis"
      ]
    },
    {
      "cell_type": "markdown",
      "metadata": {
        "id": "HZxOiQ6n8DC2"
      },
      "source": [
        "### Pertanyaan 1:\n",
        "Bagaimana pola penyewa sepeda berdasarkan kondisi cuaca, weekday, workingday, holiday, dan season?"
      ]
    },
    {
      "cell_type": "code",
      "execution_count": 27,
      "metadata": {
        "colab": {
          "base_uri": "https://localhost:8080/",
          "height": 313
        },
        "id": "BedR_HA7O7NN",
        "outputId": "4c3cdcaa-a078-437c-b54c-e16642d2ec67"
      },
      "outputs": [
        {
          "data": {
            "text/html": [
              "<div>\n",
              "<style scoped>\n",
              "    .dataframe tbody tr th:only-of-type {\n",
              "        vertical-align: middle;\n",
              "    }\n",
              "\n",
              "    .dataframe tbody tr th {\n",
              "        vertical-align: top;\n",
              "    }\n",
              "\n",
              "    .dataframe thead th {\n",
              "        text-align: right;\n",
              "    }\n",
              "</style>\n",
              "<table border=\"1\" class=\"dataframe\">\n",
              "  <thead>\n",
              "    <tr style=\"text-align: right;\">\n",
              "      <th></th>\n",
              "      <th>instant</th>\n",
              "      <th>dteday</th>\n",
              "      <th>season</th>\n",
              "      <th>yr</th>\n",
              "      <th>mnth</th>\n",
              "      <th>holiday</th>\n",
              "      <th>weekday</th>\n",
              "      <th>workingday</th>\n",
              "      <th>weathersit</th>\n",
              "      <th>temp</th>\n",
              "      <th>...</th>\n",
              "      <th>casual</th>\n",
              "      <th>registered</th>\n",
              "      <th>cnt</th>\n",
              "      <th>cuaca</th>\n",
              "      <th>weekday_label</th>\n",
              "      <th>workingday_label</th>\n",
              "      <th>holiday_label</th>\n",
              "      <th>season_label</th>\n",
              "      <th>atemp_actual</th>\n",
              "      <th>atemp_label</th>\n",
              "    </tr>\n",
              "  </thead>\n",
              "  <tbody>\n",
              "    <tr>\n",
              "      <th>83</th>\n",
              "      <td>84</td>\n",
              "      <td>2011-03-25</td>\n",
              "      <td>2</td>\n",
              "      <td>0</td>\n",
              "      <td>3</td>\n",
              "      <td>0</td>\n",
              "      <td>5</td>\n",
              "      <td>1</td>\n",
              "      <td>1</td>\n",
              "      <td>0.264167</td>\n",
              "      <td>...</td>\n",
              "      <td>300</td>\n",
              "      <td>1910</td>\n",
              "      <td>2210</td>\n",
              "      <td>Cerah</td>\n",
              "      <td>Jumat</td>\n",
              "      <td>Ya</td>\n",
              "      <td>Tidak</td>\n",
              "      <td>Summer</td>\n",
              "      <td>12.81560</td>\n",
              "      <td>Di Bawah Rata-rata</td>\n",
              "    </tr>\n",
              "    <tr>\n",
              "      <th>72</th>\n",
              "      <td>73</td>\n",
              "      <td>2011-03-14</td>\n",
              "      <td>1</td>\n",
              "      <td>0</td>\n",
              "      <td>3</td>\n",
              "      <td>0</td>\n",
              "      <td>1</td>\n",
              "      <td>1</td>\n",
              "      <td>1</td>\n",
              "      <td>0.325217</td>\n",
              "      <td>...</td>\n",
              "      <td>359</td>\n",
              "      <td>1687</td>\n",
              "      <td>2046</td>\n",
              "      <td>Cerah</td>\n",
              "      <td>Senin</td>\n",
              "      <td>Ya</td>\n",
              "      <td>Tidak</td>\n",
              "      <td>Spring</td>\n",
              "      <td>16.60000</td>\n",
              "      <td>Di Bawah Rata-rata</td>\n",
              "    </tr>\n",
              "    <tr>\n",
              "      <th>147</th>\n",
              "      <td>148</td>\n",
              "      <td>2011-05-28</td>\n",
              "      <td>2</td>\n",
              "      <td>0</td>\n",
              "      <td>5</td>\n",
              "      <td>0</td>\n",
              "      <td>6</td>\n",
              "      <td>0</td>\n",
              "      <td>1</td>\n",
              "      <td>0.655833</td>\n",
              "      <td>...</td>\n",
              "      <td>2001</td>\n",
              "      <td>2757</td>\n",
              "      <td>4758</td>\n",
              "      <td>Cerah</td>\n",
              "      <td>Sabtu</td>\n",
              "      <td>Tidak</td>\n",
              "      <td>Tidak</td>\n",
              "      <td>Summer</td>\n",
              "      <td>30.61895</td>\n",
              "      <td>Di Atas Rata-rata</td>\n",
              "    </tr>\n",
              "    <tr>\n",
              "      <th>130</th>\n",
              "      <td>131</td>\n",
              "      <td>2011-05-11</td>\n",
              "      <td>2</td>\n",
              "      <td>0</td>\n",
              "      <td>5</td>\n",
              "      <td>0</td>\n",
              "      <td>3</td>\n",
              "      <td>1</td>\n",
              "      <td>1</td>\n",
              "      <td>0.542500</td>\n",
              "      <td>...</td>\n",
              "      <td>550</td>\n",
              "      <td>3632</td>\n",
              "      <td>4182</td>\n",
              "      <td>Cerah</td>\n",
              "      <td>Rabu</td>\n",
              "      <td>Ya</td>\n",
              "      <td>Tidak</td>\n",
              "      <td>Summer</td>\n",
              "      <td>26.42000</td>\n",
              "      <td>Di Atas Rata-rata</td>\n",
              "    </tr>\n",
              "    <tr>\n",
              "      <th>537</th>\n",
              "      <td>538</td>\n",
              "      <td>2012-06-21</td>\n",
              "      <td>3</td>\n",
              "      <td>1</td>\n",
              "      <td>6</td>\n",
              "      <td>0</td>\n",
              "      <td>4</td>\n",
              "      <td>1</td>\n",
              "      <td>1</td>\n",
              "      <td>0.805833</td>\n",
              "      <td>...</td>\n",
              "      <td>778</td>\n",
              "      <td>5127</td>\n",
              "      <td>5905</td>\n",
              "      <td>Cerah</td>\n",
              "      <td>Kamis</td>\n",
              "      <td>Ya</td>\n",
              "      <td>Tidak</td>\n",
              "      <td>Fall</td>\n",
              "      <td>37.62710</td>\n",
              "      <td>Di Atas Rata-rata</td>\n",
              "    </tr>\n",
              "  </tbody>\n",
              "</table>\n",
              "<p>5 rows × 23 columns</p>\n",
              "</div>"
            ],
            "text/plain": [
              "     instant     dteday season yr mnth holiday weekday workingday weathersit  \\\n",
              "83        84 2011-03-25      2  0    3       0       5          1          1   \n",
              "72        73 2011-03-14      1  0    3       0       1          1          1   \n",
              "147      148 2011-05-28      2  0    5       0       6          0          1   \n",
              "130      131 2011-05-11      2  0    5       0       3          1          1   \n",
              "537      538 2012-06-21      3  1    6       0       4          1          1   \n",
              "\n",
              "         temp  ...  casual  registered   cnt  cuaca  weekday_label  \\\n",
              "83   0.264167  ...     300        1910  2210  Cerah          Jumat   \n",
              "72   0.325217  ...     359        1687  2046  Cerah          Senin   \n",
              "147  0.655833  ...    2001        2757  4758  Cerah          Sabtu   \n",
              "130  0.542500  ...     550        3632  4182  Cerah           Rabu   \n",
              "537  0.805833  ...     778        5127  5905  Cerah          Kamis   \n",
              "\n",
              "     workingday_label holiday_label season_label atemp_actual  \\\n",
              "83                 Ya         Tidak       Summer     12.81560   \n",
              "72                 Ya         Tidak       Spring     16.60000   \n",
              "147             Tidak         Tidak       Summer     30.61895   \n",
              "130                Ya         Tidak       Summer     26.42000   \n",
              "537                Ya         Tidak         Fall     37.62710   \n",
              "\n",
              "            atemp_label  \n",
              "83   Di Bawah Rata-rata  \n",
              "72   Di Bawah Rata-rata  \n",
              "147   Di Atas Rata-rata  \n",
              "130   Di Atas Rata-rata  \n",
              "537   Di Atas Rata-rata  \n",
              "\n",
              "[5 rows x 23 columns]"
            ]
          },
          "execution_count": 27,
          "metadata": {},
          "output_type": "execute_result"
        }
      ],
      "source": [
        "MNDday_df.sample(5)"
      ]
    },
    {
      "cell_type": "code",
      "execution_count": 28,
      "metadata": {
        "colab": {
          "base_uri": "https://localhost:8080/",
          "height": 313
        },
        "id": "m9rPaWZaQKyL",
        "outputId": "394ece9a-df9d-4ed3-c8d3-5ac0311c836c"
      },
      "outputs": [
        {
          "data": {
            "text/html": [
              "<div>\n",
              "<style scoped>\n",
              "    .dataframe tbody tr th:only-of-type {\n",
              "        vertical-align: middle;\n",
              "    }\n",
              "\n",
              "    .dataframe tbody tr th {\n",
              "        vertical-align: top;\n",
              "    }\n",
              "\n",
              "    .dataframe thead th {\n",
              "        text-align: right;\n",
              "    }\n",
              "</style>\n",
              "<table border=\"1\" class=\"dataframe\">\n",
              "  <thead>\n",
              "    <tr style=\"text-align: right;\">\n",
              "      <th></th>\n",
              "      <th>instant</th>\n",
              "      <th>dteday</th>\n",
              "      <th>season</th>\n",
              "      <th>yr</th>\n",
              "      <th>mnth</th>\n",
              "      <th>holiday</th>\n",
              "      <th>weekday</th>\n",
              "      <th>workingday</th>\n",
              "      <th>weathersit</th>\n",
              "      <th>temp</th>\n",
              "      <th>...</th>\n",
              "      <th>casual</th>\n",
              "      <th>registered</th>\n",
              "      <th>cnt</th>\n",
              "      <th>cuaca</th>\n",
              "      <th>weekday_label</th>\n",
              "      <th>workingday_label</th>\n",
              "      <th>holiday_label</th>\n",
              "      <th>season_label</th>\n",
              "      <th>atemp_actual</th>\n",
              "      <th>atemp_label</th>\n",
              "    </tr>\n",
              "  </thead>\n",
              "  <tbody>\n",
              "    <tr>\n",
              "      <th>0</th>\n",
              "      <td>1</td>\n",
              "      <td>2011-01-01</td>\n",
              "      <td>1</td>\n",
              "      <td>0</td>\n",
              "      <td>1</td>\n",
              "      <td>0</td>\n",
              "      <td>6</td>\n",
              "      <td>0</td>\n",
              "      <td>2</td>\n",
              "      <td>0.344167</td>\n",
              "      <td>...</td>\n",
              "      <td>331</td>\n",
              "      <td>654</td>\n",
              "      <td>985</td>\n",
              "      <td>Berawan</td>\n",
              "      <td>Sabtu</td>\n",
              "      <td>Tidak</td>\n",
              "      <td>Tidak</td>\n",
              "      <td>Spring</td>\n",
              "      <td>18.18125</td>\n",
              "      <td>Di Bawah Rata-rata</td>\n",
              "    </tr>\n",
              "    <tr>\n",
              "      <th>1</th>\n",
              "      <td>2</td>\n",
              "      <td>2011-01-02</td>\n",
              "      <td>1</td>\n",
              "      <td>0</td>\n",
              "      <td>1</td>\n",
              "      <td>0</td>\n",
              "      <td>0</td>\n",
              "      <td>0</td>\n",
              "      <td>2</td>\n",
              "      <td>0.363478</td>\n",
              "      <td>...</td>\n",
              "      <td>131</td>\n",
              "      <td>670</td>\n",
              "      <td>801</td>\n",
              "      <td>Berawan</td>\n",
              "      <td>Minggu</td>\n",
              "      <td>Tidak</td>\n",
              "      <td>Tidak</td>\n",
              "      <td>Spring</td>\n",
              "      <td>17.68695</td>\n",
              "      <td>Di Bawah Rata-rata</td>\n",
              "    </tr>\n",
              "    <tr>\n",
              "      <th>2</th>\n",
              "      <td>3</td>\n",
              "      <td>2011-01-03</td>\n",
              "      <td>1</td>\n",
              "      <td>0</td>\n",
              "      <td>1</td>\n",
              "      <td>0</td>\n",
              "      <td>1</td>\n",
              "      <td>1</td>\n",
              "      <td>1</td>\n",
              "      <td>0.196364</td>\n",
              "      <td>...</td>\n",
              "      <td>120</td>\n",
              "      <td>1229</td>\n",
              "      <td>1349</td>\n",
              "      <td>Cerah</td>\n",
              "      <td>Senin</td>\n",
              "      <td>Ya</td>\n",
              "      <td>Tidak</td>\n",
              "      <td>Spring</td>\n",
              "      <td>9.47025</td>\n",
              "      <td>Di Bawah Rata-rata</td>\n",
              "    </tr>\n",
              "    <tr>\n",
              "      <th>3</th>\n",
              "      <td>4</td>\n",
              "      <td>2011-01-04</td>\n",
              "      <td>1</td>\n",
              "      <td>0</td>\n",
              "      <td>1</td>\n",
              "      <td>0</td>\n",
              "      <td>2</td>\n",
              "      <td>1</td>\n",
              "      <td>1</td>\n",
              "      <td>0.200000</td>\n",
              "      <td>...</td>\n",
              "      <td>108</td>\n",
              "      <td>1454</td>\n",
              "      <td>1562</td>\n",
              "      <td>Cerah</td>\n",
              "      <td>Selasa</td>\n",
              "      <td>Ya</td>\n",
              "      <td>Tidak</td>\n",
              "      <td>Spring</td>\n",
              "      <td>10.60610</td>\n",
              "      <td>Di Bawah Rata-rata</td>\n",
              "    </tr>\n",
              "    <tr>\n",
              "      <th>4</th>\n",
              "      <td>5</td>\n",
              "      <td>2011-01-05</td>\n",
              "      <td>1</td>\n",
              "      <td>0</td>\n",
              "      <td>1</td>\n",
              "      <td>0</td>\n",
              "      <td>3</td>\n",
              "      <td>1</td>\n",
              "      <td>1</td>\n",
              "      <td>0.226957</td>\n",
              "      <td>...</td>\n",
              "      <td>82</td>\n",
              "      <td>1518</td>\n",
              "      <td>1600</td>\n",
              "      <td>Cerah</td>\n",
              "      <td>Rabu</td>\n",
              "      <td>Ya</td>\n",
              "      <td>Tidak</td>\n",
              "      <td>Spring</td>\n",
              "      <td>11.46350</td>\n",
              "      <td>Di Bawah Rata-rata</td>\n",
              "    </tr>\n",
              "  </tbody>\n",
              "</table>\n",
              "<p>5 rows × 23 columns</p>\n",
              "</div>"
            ],
            "text/plain": [
              "   instant     dteday season yr mnth holiday weekday workingday weathersit  \\\n",
              "0        1 2011-01-01      1  0    1       0       6          0          2   \n",
              "1        2 2011-01-02      1  0    1       0       0          0          2   \n",
              "2        3 2011-01-03      1  0    1       0       1          1          1   \n",
              "3        4 2011-01-04      1  0    1       0       2          1          1   \n",
              "4        5 2011-01-05      1  0    1       0       3          1          1   \n",
              "\n",
              "       temp  ...  casual  registered   cnt    cuaca  weekday_label  \\\n",
              "0  0.344167  ...     331         654   985  Berawan          Sabtu   \n",
              "1  0.363478  ...     131         670   801  Berawan         Minggu   \n",
              "2  0.196364  ...     120        1229  1349    Cerah          Senin   \n",
              "3  0.200000  ...     108        1454  1562    Cerah         Selasa   \n",
              "4  0.226957  ...      82        1518  1600    Cerah           Rabu   \n",
              "\n",
              "   workingday_label holiday_label season_label atemp_actual  \\\n",
              "0             Tidak         Tidak       Spring     18.18125   \n",
              "1             Tidak         Tidak       Spring     17.68695   \n",
              "2                Ya         Tidak       Spring      9.47025   \n",
              "3                Ya         Tidak       Spring     10.60610   \n",
              "4                Ya         Tidak       Spring     11.46350   \n",
              "\n",
              "          atemp_label  \n",
              "0  Di Bawah Rata-rata  \n",
              "1  Di Bawah Rata-rata  \n",
              "2  Di Bawah Rata-rata  \n",
              "3  Di Bawah Rata-rata  \n",
              "4  Di Bawah Rata-rata  \n",
              "\n",
              "[5 rows x 23 columns]"
            ]
          },
          "execution_count": 28,
          "metadata": {},
          "output_type": "execute_result"
        }
      ],
      "source": [
        "MNDday_df.head()"
      ]
    },
    {
      "cell_type": "code",
      "execution_count": 29,
      "metadata": {},
      "outputs": [
        {
          "name": "stderr",
          "output_type": "stream",
          "text": [
            "C:\\Users\\User\\AppData\\Local\\Temp\\ipykernel_11980\\3776457815.py:3: FutureWarning: 'M' is deprecated and will be removed in a future version, please use 'ME' instead.\n",
            "  monthly_rentals_df = MNDday_df.resample(rule='M', on='dteday').agg({\n"
          ]
        },
        {
          "name": "stdout",
          "output_type": "stream",
          "text": [
            "     month  total_rentals weathersit weekday workingday holiday season\n",
            "0  2011-01          38189          1       0          1       0      1\n",
            "1  2011-02          48215          1       0          1       0      1\n",
            "2  2011-03          64045          1       2          1       0      1\n",
            "3  2011-04          94870          2       5          1       0      2\n",
            "4  2011-05         135821          1       0          1       0      2\n"
          ]
        }
      ],
      "source": [
        "from scipy import stats\n",
        "MNDday_df['dteday'] = pd.to_datetime(MNDday_df['dteday'])\n",
        "monthly_rentals_df = MNDday_df.resample(rule='M', on='dteday').agg({\n",
        "    \"cnt\": \"sum\",\n",
        "    \"weathersit\": lambda x: stats.mode(x, keepdims=True)[0][0],\n",
        "    \"weekday\": lambda x: stats.mode(x, keepdims=True)[0][0],\n",
        "    \"workingday\": lambda x: stats.mode(x, keepdims=True)[0][0],\n",
        "    \"holiday\": lambda x: stats.mode(x, keepdims=True)[0][0],\n",
        "    \"season\": lambda x: stats.mode(x, keepdims=True)[0][0]\n",
        "})\n",
        "monthly_rentals_df.index = monthly_rentals_df.index.strftime('%Y-%m')\n",
        "monthly_rentals_df = monthly_rentals_df.reset_index()\n",
        "monthly_rentals_df.rename(columns={\n",
        "    \"dteday\": \"month\",\n",
        "    \"cnt\": \"total_rentals\"\n",
        "}, inplace=True)\n",
        "print(monthly_rentals_df.head())\n"
      ]
    },
    {
      "cell_type": "code",
      "execution_count": 30,
      "metadata": {},
      "outputs": [
        {
          "name": "stderr",
          "output_type": "stream",
          "text": [
            "C:\\Users\\User\\AppData\\Local\\Temp\\ipykernel_11980\\2440401710.py:5: FutureWarning: The default of observed=False is deprecated and will be changed to True in a future version of pandas. Pass observed=False to retain current behavior or observed=True to adopt the future default and silence this warning.\n",
            "  grouped_data = monthly_rentals_df.groupby(var)[\"total_rentals\"].sum().reset_index()\n",
            "C:\\Users\\User\\AppData\\Local\\Temp\\ipykernel_11980\\2440401710.py:7: FutureWarning: The behavior of Series.replace (and DataFrame.replace) with CategoricalDtype is deprecated. In a future version, replace will only be used for cases that preserve the categories. To change the categories, use ser.cat.rename_categories instead.\n",
            "  grouped_data[var] = grouped_data[var].replace(category_labels[var])\n",
            "C:\\Users\\User\\AppData\\Local\\Temp\\ipykernel_11980\\2440401710.py:5: FutureWarning: The default of observed=False is deprecated and will be changed to True in a future version of pandas. Pass observed=False to retain current behavior or observed=True to adopt the future default and silence this warning.\n",
            "  grouped_data = monthly_rentals_df.groupby(var)[\"total_rentals\"].sum().reset_index()\n",
            "C:\\Users\\User\\AppData\\Local\\Temp\\ipykernel_11980\\2440401710.py:7: FutureWarning: The behavior of Series.replace (and DataFrame.replace) with CategoricalDtype is deprecated. In a future version, replace will only be used for cases that preserve the categories. To change the categories, use ser.cat.rename_categories instead.\n",
            "  grouped_data[var] = grouped_data[var].replace(category_labels[var])\n",
            "C:\\Users\\User\\AppData\\Local\\Temp\\ipykernel_11980\\2440401710.py:5: FutureWarning: The default of observed=False is deprecated and will be changed to True in a future version of pandas. Pass observed=False to retain current behavior or observed=True to adopt the future default and silence this warning.\n",
            "  grouped_data = monthly_rentals_df.groupby(var)[\"total_rentals\"].sum().reset_index()\n",
            "C:\\Users\\User\\AppData\\Local\\Temp\\ipykernel_11980\\2440401710.py:7: FutureWarning: The behavior of Series.replace (and DataFrame.replace) with CategoricalDtype is deprecated. In a future version, replace will only be used for cases that preserve the categories. To change the categories, use ser.cat.rename_categories instead.\n",
            "  grouped_data[var] = grouped_data[var].replace(category_labels[var])\n",
            "C:\\Users\\User\\AppData\\Local\\Temp\\ipykernel_11980\\2440401710.py:5: FutureWarning: The default of observed=False is deprecated and will be changed to True in a future version of pandas. Pass observed=False to retain current behavior or observed=True to adopt the future default and silence this warning.\n",
            "  grouped_data = monthly_rentals_df.groupby(var)[\"total_rentals\"].sum().reset_index()\n",
            "C:\\Users\\User\\AppData\\Local\\Temp\\ipykernel_11980\\2440401710.py:7: FutureWarning: The behavior of Series.replace (and DataFrame.replace) with CategoricalDtype is deprecated. In a future version, replace will only be used for cases that preserve the categories. To change the categories, use ser.cat.rename_categories instead.\n",
            "  grouped_data[var] = grouped_data[var].replace(category_labels[var])\n",
            "C:\\Users\\User\\AppData\\Local\\Temp\\ipykernel_11980\\2440401710.py:5: FutureWarning: The default of observed=False is deprecated and will be changed to True in a future version of pandas. Pass observed=False to retain current behavior or observed=True to adopt the future default and silence this warning.\n",
            "  grouped_data = monthly_rentals_df.groupby(var)[\"total_rentals\"].sum().reset_index()\n",
            "C:\\Users\\User\\AppData\\Local\\Temp\\ipykernel_11980\\2440401710.py:7: FutureWarning: The behavior of Series.replace (and DataFrame.replace) with CategoricalDtype is deprecated. In a future version, replace will only be used for cases that preserve the categories. To change the categories, use ser.cat.rename_categories instead.\n",
            "  grouped_data[var] = grouped_data[var].replace(category_labels[var])\n"
          ]
        },
        {
          "data": {
            "image/png": "[encoded data removed]",
            "text/plain": [
              "<Figure size 1200x1200 with 5 Axes>"
            ]
          },
          "metadata": {},
          "output_type": "display_data"
        }
      ],
      "source": [
        "fig, axes = plt.subplots(3, 2, figsize=(12, 12))\n",
        "axes = axes.flatten()\n",
        "categorical_vars = [\"weathersit\", \"weekday\", \"workingday\", \"holiday\", \"season\"]\n",
        "for i, var in enumerate(categorical_vars):\n",
        "    grouped_data = monthly_rentals_df.groupby(var)[\"total_rentals\"].sum().reset_index()\n",
        "    if var in category_labels:\n",
        "        grouped_data[var] = grouped_data[var].replace(category_labels[var])\n",
        "\n",
        "    axes[i].plot(grouped_data[var], grouped_data[\"total_rentals\"], marker='o', linestyle='-', color='b')\n",
        "    axes[i].set_title(f\"Total Rentals by {var.capitalize()}\")\n",
        "    axes[i].set_xlabel(var.capitalize())\n",
        "    axes[i].set_ylabel(\"Total Rentals\")\n",
        "if len(categorical_vars) % 2 != 0:\n",
        "    fig.delaxes(axes[-1])\n",
        "plt.tight_layout()\n",
        "plt.show()"
      ]
    },
    {
      "cell_type": "markdown",
      "metadata": {
        "id": "DgHI7CiU8DC2"
      },
      "source": [
        "### Pertanyaan 2:\n",
        "Bagaimana pengaruh dari atempt, hum, windspeed terhadap banyaknya penyewa sepeda?"
      ]
    },
    {
      "cell_type": "code",
      "execution_count": 31,
      "metadata": {
        "colab": {
          "base_uri": "https://localhost:8080/",
          "height": 542
        },
        "id": "E2YlCNG1gCJW",
        "outputId": "6909d365-0dd3-43f7-a7df-a146bd642643"
      },
      "outputs": [
        {
          "data": {
            "image/png": "[encoded data removed]",
            "text/plain": [
              "<Figure size 800x600 with 2 Axes>"
            ]
          },
          "metadata": {},
          "output_type": "display_data"
        }
      ],
      "source": [
        "plt.figure(figsize=(8, 6))\n",
        "sns.heatmap(correlation_matrix, annot=True, cmap=\"coolwarm\", linewidths=0.5)\n",
        "plt.title(\"Matriks Korelasi Variabel\")\n",
        "plt.show()"
      ]
    },
    {
      "cell_type": "markdown",
      "metadata": {},
      "source": [
        "Dari matriks korelasi di atas diperoleh:\n",
        "* Korelasi antara atemp (suhu terasa) dengan cnt (jumlah) memiliki korelasi kuat, artinya ketika suhu terasa naik maka jumlah penyewa sepeda juga akan naik\n",
        "* Korelasi antara hum (kelembaban) dengan cnt (jumlah) memiliki korelasi sangat rendah, artinya kelembaban tidak memiliki pengaruh terhadap jumlah penyewa sepeda\n",
        "* Korelasi antara windspeed (kecepatan angin) dengan cnt (jumlah) memiliki korelasi negatif tapi korelasinya rendah, artinya windspeed hanya memiliki pengaruh yang kecil terhadap jumlah penyewa sepeda, apabila windspeed naik maka akan menurunkan sedikit cnt(jumlah)"
      ]
    },
    {
      "cell_type": "markdown",
      "metadata": {},
      "source": [
        "#### Penyewaan Berdasarkan Tingkat Suhu"
      ]
    },
    {
      "cell_type": "code",
      "execution_count": 32,
      "metadata": {},
      "outputs": [
        {
          "name": "stderr",
          "output_type": "stream",
          "text": [
            "C:\\Users\\User\\AppData\\Local\\Temp\\ipykernel_11980\\1232636631.py:2: FutureWarning: \n",
            "\n",
            "Passing `palette` without assigning `hue` is deprecated and will be removed in v0.14.0. Assign the `x` variable to `hue` and set `legend=False` for the same effect.\n",
            "\n",
            "  sns.barplot(data=summary_atemp.reset_index(), x='atemp_label', y='mean', palette='coolwarm')\n"
          ]
        },
        {
          "data": {
            "image/png": "[encoded data removed]",
            "text/plain": [
              "<Figure size 800x500 with 1 Axes>"
            ]
          },
          "metadata": {},
          "output_type": "display_data"
        }
      ],
      "source": [
        "plt.figure(figsize=(8, 5))\n",
        "sns.barplot(data=summary_atemp.reset_index(), x='atemp_label', y='mean', palette='coolwarm')\n",
        "plt.title(\"Rata-rata Penyewaan Berdasarkan Kategori Suhu\")\n",
        "plt.xlabel(\"Kategori Suhu\")\n",
        "plt.ylabel(\"Rata-rata Jumlah Penyewa\")\n",
        "plt.xticks(rotation=20)\n",
        "plt.grid(axis=\"y\", linestyle=\"--\", alpha=0.7)\n",
        "plt.show()"
      ]
    },
    {
      "cell_type": "markdown",
      "metadata": {},
      "source": [
        "* Ketika suhu di atas rata-rata penyewa sepeda akan lebih banyak\n",
        "* Ketika suhu di bawah rata-rata penyewa sepeda akan menurun"
      ]
    },
    {
      "cell_type": "markdown",
      "metadata": {
        "id": "_0-36BDLklRg"
      },
      "source": [
        "**Insight:**\n",
        "- Rata-rata tertinggi penyewa sepeda terjadi ketika workingday terutama hari Jumat ketika sedang tidak holiday dengan cuaca cerah di musim gugur (Fall) dan rata rata penyewa sepeda terendah terjadi ketika  bukan workingday terutama pada hari Minggu dan holiday ketika cuaca hujan/salju di musim panas (spring) \n",
        "- korelasi suhu terasa (atempt) dengan jumlah penyewa sepeda (cnt) memiliki korelasi yang sangat kuat sehingga ketika atempt naik maka jumlah penyewa sepeda akan ikut naik terutama ketika suhu di atas rata-rata, korelasi windspeed hanya memiliki korelasi rendah dan negatif sehingga ketika windspeed naik maka penyewa sepeda akan sedikit turun, dan kelembaban (hum) tidak memiliki korelasi dengan jumlah penyewa sepeda."
      ]
    },
    {
      "cell_type": "markdown",
      "metadata": {
        "id": "9y4VUsmcYNZ5"
      },
      "source": [
        "## Analisis Lanjutan (Analisis Clustering)"
      ]
    },
    {
      "cell_type": "code",
      "execution_count": 33,
      "metadata": {},
      "outputs": [
        {
          "name": "stdout",
          "output_type": "stream",
          "text": [
            "+----+----------+--------------+-----------+--------------+-----------+--------------+-----------------+------------------+---------+-------+---------+\n",
            "|    |   season |   weathersit |   weekday |   workingday |   holiday | temp_label   | weather_label   | activity_label   |    mean |   sum |   count |\n",
            "+====+==========+==============+===========+==============+===========+==============+=================+==================+=========+=======+=========+\n",
            "|  0 |        1 |            1 |         0 |            0 |         0 | Dingin       | Tinggi          | Pelan            | 2156.38 | 45284 |      21 |\n",
            "+----+----------+--------------+-----------+--------------+-----------+--------------+-----------------+------------------+---------+-------+---------+\n",
            "|  1 |        1 |            1 |         1 |            0 |         1 | Dingin       | Tinggi          | Pelan            | 2173.75 |  8695 |       4 |\n",
            "+----+----------+--------------+-----------+--------------+-----------+--------------+-----------------+------------------+---------+-------+---------+\n",
            "|  2 |        1 |            1 |         1 |            1 |         0 | Dingin       | Tinggi          | Sedang           | 2968.93 | 41565 |      14 |\n",
            "+----+----------+--------------+-----------+--------------+-----------+--------------+-----------------+------------------+---------+-------+---------+\n",
            "|  3 |        1 |            1 |         2 |            1 |         0 | Dingin       | Tinggi          | Sedang           | 3339.62 | 53434 |      16 |\n",
            "+----+----------+--------------+-----------+--------------+-----------+--------------+-----------------+------------------+---------+-------+---------+\n",
            "|  4 |        1 |            1 |         3 |            1 |         0 | Dingin       | Tinggi          | Sedang           | 3355.77 | 43625 |      13 |\n",
            "+----+----------+--------------+-----------+--------------+-----------+--------------+-----------------+------------------+---------+-------+---------+\n",
            "|  5 |        1 |            1 |         4 |            1 |         0 | Dingin       | Tinggi          | Sedang           | 2992.38 | 47878 |      16 |\n",
            "+----+----------+--------------+-----------+--------------+-----------+--------------+-----------------+------------------+---------+-------+---------+\n",
            "|  6 |        1 |            1 |         5 |            1 |         0 | Dingin       | Tinggi          | Sedang           | 2881.91 | 31701 |      11 |\n",
            "+----+----------+--------------+-----------+--------------+-----------+--------------+-----------------+------------------+---------+-------+---------+\n",
            "|  7 |        1 |            1 |         6 |            0 |         0 | Dingin       | Tinggi          | Pelan            | 2490.88 | 39854 |      16 |\n",
            "+----+----------+--------------+-----------+--------------+-----------+--------------+-----------------+------------------+---------+-------+---------+\n",
            "|  8 |        1 |            2 |         0 |            0 |         0 | Dingin       | Sedang          | Pelan            | 2485.17 | 14911 |       6 |\n",
            "+----+----------+--------------+-----------+--------------+-----------+--------------+-----------------+------------------+---------+-------+---------+\n",
            "|  9 |        1 |            2 |         1 |            0 |         1 | Dingin       | Sedang          | Pelan            | 1053.5  |  2107 |       2 |\n",
            "+----+----------+--------------+-----------+--------------+-----------+--------------+-----------------+------------------+---------+-------+---------+\n"
          ]
        }
      ],
      "source": [
        "MNDday_df['season'] = MNDday_df['season'].astype(str)\n",
        "MNDday_df['weathersit'] = MNDday_df['weathersit'].astype(str)\n",
        "MNDday_df['weekday'] = MNDday_df['weekday'].astype(str)\n",
        "MNDday_df['workingday'] = MNDday_df['workingday'].astype(str)\n",
        "MNDday_df['holiday'] = MNDday_df['holiday'].astype(str)\n",
        "MNDday_df['cluster_manual'] = (\n",
        "    MNDday_df['season'] + \"_\" +\n",
        "    MNDday_df['weathersit'] + \"_\" +\n",
        "    MNDday_df['weekday'] + \"_\" +\n",
        "    MNDday_df['workingday'] + \"_\" +\n",
        "    MNDday_df['holiday'] + \"_\" +\n",
        "    MNDday_df['season'].apply(lambda x: \"Panas\" if x in ['2', '3'] else \"Dingin\") + \"_\" +\n",
        "    MNDday_df['weathersit'].apply(lambda x: \"Tinggi\" if x == '1' else \"Sedang\" if x == '2' else \"Pelan\") + \"_\" +\n",
        "    MNDday_df['workingday'].apply(lambda x: \"Sedang\" if x == '1' else \"Pelan\")\n",
        ")\n",
        "custom_cluster_summary = MNDday_df.groupby('cluster_manual').agg(\n",
        "    mean=('cnt', 'mean'),\n",
        "    sum=('cnt', 'sum'),\n",
        "    count=('cnt', 'count')\n",
        ").reset_index()\n",
        "split_columns = custom_cluster_summary['cluster_manual'].str.split('_', expand=True)\n",
        "custom_cluster_summary[['season', 'weathersit', 'weekday', 'workingday', 'holiday']] = split_columns.iloc[:, :5]\n",
        "custom_cluster_summary[['temp_label', 'weather_label', 'activity_label']] = split_columns.iloc[:, 5:]\n",
        "custom_cluster_summary = custom_cluster_summary[\n",
        "    ['season', 'weathersit', 'weekday', 'workingday', 'holiday', 'temp_label', 'weather_label', 'activity_label', 'mean', 'sum', 'count']\n",
        "]\n",
        "from tabulate import tabulate\n",
        "print(tabulate(custom_cluster_summary.head(10), headers='keys', tablefmt='grid'))"
      ]
    },
    {
      "cell_type": "markdown",
      "metadata": {
        "id": "LXwJSOEtb1v3"
      },
      "source": [
        "**Insight:**\n",
        "- Penyewa sepeda tertinggi terjadi ketika cuaca cerah dengan, suhunya panas, workingday, bukan holiday dan musim gugur. Kelembaban dan angin tidak terlalu berpengaruh.\n",
        "- Penyewa sepeda terendah terjadi ketika cuaca hujan/salju, suhunya dingin, weekend, holiday, dan musim semi"
      ]
    },
    {
      "cell_type": "markdown",
      "metadata": {
        "id": "_WeHlCeX8DC2"
      },
      "source": [
        "## Conclusion"
      ]
    },
    {
      "cell_type": "markdown",
      "metadata": {
        "id": "ZTcyR48Y8DC2"
      },
      "source": [
        "- **Conclution pertanyaan 1**\n",
        "Dari seluruh proses analisis data yang telah dilakukan dapat disimpulkan bahwa penyewa sepeda tertinggi terjadi ketika workingday (tidak dalam masa holiday) terutama pada hari Jumat ketika cuaca cerah di musim gugur(Fall). Penyewaan sepeda terendah terjadi ketika bukan workingday (holiday) terutama hari Minggu ketika cuaca hujan/salju ringan di musim gugur (Fall) \n",
        "- **Conclution pertanyaan 2**\n",
        "Dari seluruh proses analisis data yang telah dilakukan dapat disimpulkan bahwa atemp memiliki pengaruh yang kuat terhadap jumlah penyewa sepeda, semakin tinggi atempt maka semakin tinggi pula jumlah penyewa sepeda, windspeed hanya memiliki korelasi lemah dan negatif artinya setiap windspeed meningkat akan sedikit menurunkan jumlah penyewa sepeda, dan kelembaban (hum) tidak memiliki korelasi dengan jumlah penyewa sepeda."
      ]
    },
    {
      "cell_type": "code",
      "execution_count": 35,
      "metadata": {},
      "outputs": [
        {
          "name": "stdout",
          "output_type": "stream",
          "text": [
            "Note: you may need to restart the kernel to use updated packages.\n"
          ]
        }
      ],
      "source": [
        "pip freeze > requirements.txt"
      ]
    }
  ],
  "metadata": {
    "colab": {
      "provenance": []
    },
    "kernelspec": {
      "display_name": "Python 3",
      "name": "python3"
    },
    "language_info": {
      "codemirror_mode": {
        "name": "ipython",
        "version": 3
      },
      "file_extension": ".py",
      "mimetype": "text/x-python",
      "name": "python",
      "nbconvert_exporter": "python",
      "pygments_lexer": "ipython3",
      "version": "3.13.0"
    }
  },
  "nbformat": 4,
  "nbformat_minor": 0
}
